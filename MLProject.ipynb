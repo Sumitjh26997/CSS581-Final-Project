{
  "cells": [
    {
      "cell_type": "markdown",
      "metadata": {
        "id": "ZY5wzpCX_Wh3"
      },
      "source": [
        "Importing relavent packages for the project"
      ]
    },
    {
      "cell_type": "code",
      "execution_count": 27,
      "metadata": {
        "id": "Gyj3i8G6_ALa"
      },
      "outputs": [],
      "source": [
        "import numpy as py\n",
        "import pandas as pd\n",
        "import warnings\n",
        "warnings.filterwarnings('ignore')"
      ]
    },
    {
      "cell_type": "markdown",
      "metadata": {
        "id": "Jaz5r2sc_gjs"
      },
      "source": [
        "**Creating initial dataframes**\n",
        "\n",
        "**Movie Character Dataframe**"
      ]
    },
    {
      "cell_type": "code",
      "execution_count": 28,
      "metadata": {
        "colab": {
          "base_uri": "https://localhost:8080/",
          "height": 242
        },
        "id": "pqLHGh6O_c08",
        "outputId": "b2a3aa22-21fd-4a4b-de0c-cad91981c957"
      },
      "outputs": [
        {
          "data": {
            "text/html": [
              "<div>\n",
              "<style scoped>\n",
              "    .dataframe tbody tr th:only-of-type {\n",
              "        vertical-align: middle;\n",
              "    }\n",
              "\n",
              "    .dataframe tbody tr th {\n",
              "        vertical-align: top;\n",
              "    }\n",
              "\n",
              "    .dataframe thead th {\n",
              "        text-align: right;\n",
              "    }\n",
              "</style>\n",
              "<table border=\"1\" class=\"dataframe\">\n",
              "  <thead>\n",
              "    <tr style=\"text-align: right;\">\n",
              "      <th></th>\n",
              "      <th>chId</th>\n",
              "      <th>chName</th>\n",
              "      <th>mId</th>\n",
              "      <th>mName</th>\n",
              "      <th>gender</th>\n",
              "      <th>posCredits</th>\n",
              "    </tr>\n",
              "  </thead>\n",
              "  <tbody>\n",
              "    <tr>\n",
              "      <th>0</th>\n",
              "      <td>u0</td>\n",
              "      <td>BIANCA</td>\n",
              "      <td>m0</td>\n",
              "      <td>10 things i hate about you</td>\n",
              "      <td>f</td>\n",
              "      <td>4</td>\n",
              "    </tr>\n",
              "    <tr>\n",
              "      <th>1</th>\n",
              "      <td>u1</td>\n",
              "      <td>BRUCE</td>\n",
              "      <td>m0</td>\n",
              "      <td>10 things i hate about you</td>\n",
              "      <td>?</td>\n",
              "      <td>?</td>\n",
              "    </tr>\n",
              "    <tr>\n",
              "      <th>2</th>\n",
              "      <td>u2</td>\n",
              "      <td>CAMERON</td>\n",
              "      <td>m0</td>\n",
              "      <td>10 things i hate about you</td>\n",
              "      <td>m</td>\n",
              "      <td>3</td>\n",
              "    </tr>\n",
              "    <tr>\n",
              "      <th>3</th>\n",
              "      <td>u3</td>\n",
              "      <td>CHASTITY</td>\n",
              "      <td>m0</td>\n",
              "      <td>10 things i hate about you</td>\n",
              "      <td>?</td>\n",
              "      <td>?</td>\n",
              "    </tr>\n",
              "    <tr>\n",
              "      <th>4</th>\n",
              "      <td>u4</td>\n",
              "      <td>JOEY</td>\n",
              "      <td>m0</td>\n",
              "      <td>10 things i hate about you</td>\n",
              "      <td>m</td>\n",
              "      <td>6</td>\n",
              "    </tr>\n",
              "  </tbody>\n",
              "</table>\n",
              "</div>"
            ],
            "text/plain": [
              "  chId    chName mId                       mName gender posCredits\n",
              "0   u0    BIANCA  m0  10 things i hate about you      f          4\n",
              "1   u1     BRUCE  m0  10 things i hate about you      ?          ?\n",
              "2   u2   CAMERON  m0  10 things i hate about you      m          3\n",
              "3   u3  CHASTITY  m0  10 things i hate about you      ?          ?\n",
              "4   u4      JOEY  m0  10 things i hate about you      m          6"
            ]
          },
          "execution_count": 28,
          "metadata": {},
          "output_type": "execute_result"
        }
      ],
      "source": [
        "column_names = ['chId', 'chName', 'mId', 'mName', 'gender', 'posCredits']\n",
        "characters_df = pd.read_csv('movie_characters_metadata.tsv', sep='\\t', header=None, names=column_names, on_bad_lines='skip')\n",
        "characters_df.head()\n"
      ]
    },
    {
      "cell_type": "code",
      "execution_count": 29,
      "metadata": {
        "colab": {
          "base_uri": "https://localhost:8080/"
        },
        "id": "vKbHl2nPF9Gl",
        "outputId": "808efd72-1171-413b-a80f-1e7c32112f10"
      },
      "outputs": [
        {
          "name": "stdout",
          "output_type": "stream",
          "text": [
            "(9034, 6)\n",
            "<class 'pandas.core.frame.DataFrame'>\n",
            "RangeIndex: 9034 entries, 0 to 9033\n",
            "Data columns (total 6 columns):\n",
            " #   Column      Non-Null Count  Dtype \n",
            "---  ------      --------------  ----- \n",
            " 0   chId        9034 non-null   object\n",
            " 1   chName      9015 non-null   object\n",
            " 2   mId         9017 non-null   object\n",
            " 3   mName       9017 non-null   object\n",
            " 4   gender      9017 non-null   object\n",
            " 5   posCredits  9017 non-null   object\n",
            "dtypes: object(6)\n",
            "memory usage: 423.6+ KB\n",
            "None\n"
          ]
        }
      ],
      "source": [
        "print(characters_df.shape)\n",
        "print(characters_df.info())"
      ]
    },
    {
      "cell_type": "code",
      "execution_count": 30,
      "metadata": {
        "colab": {
          "base_uri": "https://localhost:8080/"
        },
        "id": "4ajUqj6_WURW",
        "outputId": "784fc255-cfff-42a8-82ec-acf31662b5b8"
      },
      "outputs": [
        {
          "name": "stdout",
          "output_type": "stream",
          "text": [
            "chId          0.00\n",
            "chName        0.21\n",
            "mId           0.19\n",
            "mName         0.19\n",
            "gender        0.19\n",
            "posCredits    0.19\n",
            "dtype: float64\n"
          ]
        }
      ],
      "source": [
        "nan_percentage = (characters_df.isna().mean() * 100).round(2)\n",
        "print(nan_percentage)"
      ]
    },
    {
      "cell_type": "code",
      "execution_count": 31,
      "metadata": {
        "id": "CTDeeBRRJLiz"
      },
      "outputs": [],
      "source": [
        "# Remove rows with NaN values\n",
        "characters_df = characters_df.dropna()"
      ]
    },
    {
      "cell_type": "code",
      "execution_count": 32,
      "metadata": {
        "colab": {
          "base_uri": "https://localhost:8080/"
        },
        "id": "9MibX2KJJcmG",
        "outputId": "8168a3e6-278d-46a8-9a28-757d331ca82a"
      },
      "outputs": [
        {
          "name": "stdout",
          "output_type": "stream",
          "text": [
            "Total duplicate 0\n"
          ]
        }
      ],
      "source": [
        "# Remove duplicate rows\n",
        "duplicate_counts = characters_df.duplicated().sum()\n",
        "print(\"Total duplicate\", duplicate_counts)\n",
        "if duplicate_counts > 0:\n",
        "  characters_df = characters_df.drop_duplicates()"
      ]
    },
    {
      "cell_type": "markdown",
      "metadata": {
        "id": "gUlj0xX_F5LJ"
      },
      "source": [
        "Cleansing Column Gender"
      ]
    },
    {
      "cell_type": "code",
      "execution_count": 33,
      "metadata": {
        "colab": {
          "base_uri": "https://localhost:8080/"
        },
        "id": "VgBcoJ2_Es8H",
        "outputId": "11537eea-5add-4f38-c6eb-437c3b0e017c"
      },
      "outputs": [
        {
          "data": {
            "text/plain": [
              "gender\n",
              "?    6006\n",
              "m    1899\n",
              "f     921\n",
              "M     145\n",
              "F      44\n",
              "Name: count, dtype: int64"
            ]
          },
          "execution_count": 33,
          "metadata": {},
          "output_type": "execute_result"
        }
      ],
      "source": [
        "characters_df.gender.value_counts()"
      ]
    },
    {
      "cell_type": "code",
      "execution_count": 34,
      "metadata": {
        "colab": {
          "base_uri": "https://localhost:8080/"
        },
        "id": "oeota9ysFJVR",
        "outputId": "d7fd110c-8d46-435f-84af-c8591948aa9f"
      },
      "outputs": [
        {
          "data": {
            "text/plain": [
              "gender\n",
              "M    2044\n",
              "F     965\n",
              "Name: count, dtype: int64"
            ]
          },
          "execution_count": 34,
          "metadata": {},
          "output_type": "execute_result"
        }
      ],
      "source": [
        "characters_df = characters_df[characters_df.gender != '?']\n",
        "characters_df.gender = characters_df.gender.apply(lambda g: 'M' if g in ['m', 'M'] else 'F')\n",
        "characters_df.gender.value_counts()"
      ]
    },
    {
      "cell_type": "markdown",
      "metadata": {
        "id": "kCu7SFbJGNsl"
      },
      "source": [
        "Cleansing Column posCredits"
      ]
    },
    {
      "cell_type": "code",
      "execution_count": 35,
      "metadata": {
        "colab": {
          "base_uri": "https://localhost:8080/"
        },
        "id": "ue8UvbBNGSnq",
        "outputId": "690b9e2f-cdd9-48f7-8b61-8d5d87501b3e"
      },
      "outputs": [
        {
          "name": "stdout",
          "output_type": "stream",
          "text": [
            "Total count of non-numeric values in 'posCredits' removed 330\n"
          ]
        }
      ],
      "source": [
        "non_numeric_count = pd.to_numeric(characters_df['posCredits'], errors='coerce').isna().sum()\n",
        "# Display the total count of non-numeric values\n",
        "print(\"Total count of non-numeric values in 'posCredits' removed {}\".format(non_numeric_count))\n",
        "\n",
        "# Remove rows with non-numeric values in the specified column\n",
        "characters_df = characters_df[pd.to_numeric(characters_df['posCredits'], errors='coerce').notna()]"
      ]
    },
    {
      "cell_type": "markdown",
      "metadata": {
        "id": "Ng3V-UdKK0xU"
      },
      "source": [
        "**Movie title Dataframe**"
      ]
    },
    {
      "cell_type": "code",
      "execution_count": 37,
      "metadata": {
        "colab": {
          "base_uri": "https://localhost:8080/",
          "height": 206
        },
        "id": "XJb9mGIxK2ty",
        "outputId": "a48916cc-a749-4540-d9e1-844c2d498f66"
      },
      "outputs": [
        {
          "data": {
            "text/html": [
              "<div>\n",
              "<style scoped>\n",
              "    .dataframe tbody tr th:only-of-type {\n",
              "        vertical-align: middle;\n",
              "    }\n",
              "\n",
              "    .dataframe tbody tr th {\n",
              "        vertical-align: top;\n",
              "    }\n",
              "\n",
              "    .dataframe thead th {\n",
              "        text-align: right;\n",
              "    }\n",
              "</style>\n",
              "<table border=\"1\" class=\"dataframe\">\n",
              "  <thead>\n",
              "    <tr style=\"text-align: right;\">\n",
              "      <th></th>\n",
              "      <th>mId</th>\n",
              "      <th>mName</th>\n",
              "      <th>mYear</th>\n",
              "      <th>mRating</th>\n",
              "      <th>mVotes</th>\n",
              "      <th>mGenre</th>\n",
              "    </tr>\n",
              "  </thead>\n",
              "  <tbody>\n",
              "    <tr>\n",
              "      <th>0</th>\n",
              "      <td>m0</td>\n",
              "      <td>10 things i hate about you</td>\n",
              "      <td>1999</td>\n",
              "      <td>6.9</td>\n",
              "      <td>62847.0</td>\n",
              "      <td>['comedy' 'romance']</td>\n",
              "    </tr>\n",
              "    <tr>\n",
              "      <th>1</th>\n",
              "      <td>m1</td>\n",
              "      <td>1492: conquest of paradise</td>\n",
              "      <td>1992</td>\n",
              "      <td>6.2</td>\n",
              "      <td>10421.0</td>\n",
              "      <td>['adventure' 'biography' 'drama' 'history']</td>\n",
              "    </tr>\n",
              "    <tr>\n",
              "      <th>2</th>\n",
              "      <td>m2</td>\n",
              "      <td>15 minutes</td>\n",
              "      <td>2001</td>\n",
              "      <td>6.1</td>\n",
              "      <td>25854.0</td>\n",
              "      <td>['action' 'crime' 'drama' 'thriller']</td>\n",
              "    </tr>\n",
              "    <tr>\n",
              "      <th>3</th>\n",
              "      <td>m3</td>\n",
              "      <td>2001: a space odyssey</td>\n",
              "      <td>1968</td>\n",
              "      <td>8.4</td>\n",
              "      <td>163227.0</td>\n",
              "      <td>['adventure' 'mystery' 'sci-fi']</td>\n",
              "    </tr>\n",
              "    <tr>\n",
              "      <th>4</th>\n",
              "      <td>m4</td>\n",
              "      <td>48 hrs.</td>\n",
              "      <td>1982</td>\n",
              "      <td>6.9</td>\n",
              "      <td>22289.0</td>\n",
              "      <td>['action' 'comedy' 'crime' 'drama' 'thriller']</td>\n",
              "    </tr>\n",
              "  </tbody>\n",
              "</table>\n",
              "</div>"
            ],
            "text/plain": [
              "  mId                       mName mYear  mRating    mVotes  \\\n",
              "0  m0  10 things i hate about you  1999      6.9   62847.0   \n",
              "1  m1  1492: conquest of paradise  1992      6.2   10421.0   \n",
              "2  m2                  15 minutes  2001      6.1   25854.0   \n",
              "3  m3       2001: a space odyssey  1968      8.4  163227.0   \n",
              "4  m4                     48 hrs.  1982      6.9   22289.0   \n",
              "\n",
              "                                           mGenre  \n",
              "0                            ['comedy' 'romance']  \n",
              "1     ['adventure' 'biography' 'drama' 'history']  \n",
              "2           ['action' 'crime' 'drama' 'thriller']  \n",
              "3                ['adventure' 'mystery' 'sci-fi']  \n",
              "4  ['action' 'comedy' 'crime' 'drama' 'thriller']  "
            ]
          },
          "execution_count": 37,
          "metadata": {},
          "output_type": "execute_result"
        }
      ],
      "source": [
        "column_names = ['mId', 'mName', 'mYear', 'mRating', 'mVotes', 'mGenre']\n",
        "titles_df = pd.read_csv('movie_titles_metadata.tsv', sep='\\t', names=column_names, header=None, on_bad_lines='skip')\n",
        "titles_df.head()"
      ]
    },
    {
      "cell_type": "code",
      "execution_count": 38,
      "metadata": {
        "colab": {
          "base_uri": "https://localhost:8080/"
        },
        "id": "Dd4zDdWhLmTS",
        "outputId": "0fb0253f-fd49-42b6-f3a4-e29c984ca54b"
      },
      "outputs": [
        {
          "name": "stdout",
          "output_type": "stream",
          "text": [
            "(617, 6)\n",
            "<class 'pandas.core.frame.DataFrame'>\n",
            "RangeIndex: 617 entries, 0 to 616\n",
            "Data columns (total 6 columns):\n",
            " #   Column   Non-Null Count  Dtype  \n",
            "---  ------   --------------  -----  \n",
            " 0   mId      617 non-null    object \n",
            " 1   mName    616 non-null    object \n",
            " 2   mYear    616 non-null    object \n",
            " 3   mRating  616 non-null    float64\n",
            " 4   mVotes   616 non-null    float64\n",
            " 5   mGenre   616 non-null    object \n",
            "dtypes: float64(2), object(4)\n",
            "memory usage: 29.1+ KB\n",
            "None\n"
          ]
        }
      ],
      "source": [
        "print(titles_df.shape)\n",
        "print(titles_df.info())\n"
      ]
    },
    {
      "cell_type": "markdown",
      "metadata": {
        "id": "sTWCzlGaL-Wf"
      },
      "source": [
        "Removing rows with NAN"
      ]
    },
    {
      "cell_type": "code",
      "execution_count": 39,
      "metadata": {
        "colab": {
          "base_uri": "https://localhost:8080/"
        },
        "id": "IQsChXClUy0B",
        "outputId": "c92231a8-bb6b-45f1-dc5c-68525f5fec93"
      },
      "outputs": [
        {
          "name": "stdout",
          "output_type": "stream",
          "text": [
            "mId        0.00\n",
            "mName      0.16\n",
            "mYear      0.16\n",
            "mRating    0.16\n",
            "mVotes     0.16\n",
            "mGenre     0.16\n",
            "dtype: float64\n"
          ]
        }
      ],
      "source": [
        "nan_percentage = (titles_df.isna().mean() * 100).round(2)\n",
        "print(nan_percentage)"
      ]
    },
    {
      "cell_type": "code",
      "execution_count": 40,
      "metadata": {
        "id": "llJpSbh6Wtsi"
      },
      "outputs": [],
      "source": [
        "# Remove rows with NaN values\n",
        "titles_df = titles_df.dropna()"
      ]
    },
    {
      "cell_type": "code",
      "execution_count": 41,
      "metadata": {
        "colab": {
          "base_uri": "https://localhost:8080/"
        },
        "id": "Tah-3pdgO-er",
        "outputId": "08ebb5a3-77a6-4192-9d1b-5b94feb0e075"
      },
      "outputs": [
        {
          "name": "stdout",
          "output_type": "stream",
          "text": [
            "Total Number of duplicate rows 0\n"
          ]
        }
      ],
      "source": [
        "# Remove duplicate rows\n",
        "duplicate_counts = titles_df.duplicated().sum()\n",
        "print(\"Total Number of duplicate rows\", duplicate_counts)\n",
        "if duplicate_counts > 0:\n",
        "  titles_df = titles_df.drop_duplicates()"
      ]
    },
    {
      "cell_type": "markdown",
      "metadata": {
        "id": "1gDJ6HVpOo7w"
      },
      "source": [
        "No outier data found in numeric columns"
      ]
    },
    {
      "cell_type": "code",
      "execution_count": 42,
      "metadata": {
        "colab": {
          "base_uri": "https://localhost:8080/",
          "height": 300
        },
        "id": "oq7GXMBpObaO",
        "outputId": "c35c13ae-754a-42b8-9ca3-be034a3242ad"
      },
      "outputs": [
        {
          "data": {
            "text/html": [
              "<div>\n",
              "<style scoped>\n",
              "    .dataframe tbody tr th:only-of-type {\n",
              "        vertical-align: middle;\n",
              "    }\n",
              "\n",
              "    .dataframe tbody tr th {\n",
              "        vertical-align: top;\n",
              "    }\n",
              "\n",
              "    .dataframe thead th {\n",
              "        text-align: right;\n",
              "    }\n",
              "</style>\n",
              "<table border=\"1\" class=\"dataframe\">\n",
              "  <thead>\n",
              "    <tr style=\"text-align: right;\">\n",
              "      <th></th>\n",
              "      <th>mRating</th>\n",
              "      <th>mVotes</th>\n",
              "    </tr>\n",
              "  </thead>\n",
              "  <tbody>\n",
              "    <tr>\n",
              "      <th>count</th>\n",
              "      <td>616.000000</td>\n",
              "      <td>616.000000</td>\n",
              "    </tr>\n",
              "    <tr>\n",
              "      <th>mean</th>\n",
              "      <td>6.865584</td>\n",
              "      <td>49901.698052</td>\n",
              "    </tr>\n",
              "    <tr>\n",
              "      <th>std</th>\n",
              "      <td>1.215463</td>\n",
              "      <td>61898.367352</td>\n",
              "    </tr>\n",
              "    <tr>\n",
              "      <th>min</th>\n",
              "      <td>2.500000</td>\n",
              "      <td>9.000000</td>\n",
              "    </tr>\n",
              "    <tr>\n",
              "      <th>25%</th>\n",
              "      <td>6.200000</td>\n",
              "      <td>9992.500000</td>\n",
              "    </tr>\n",
              "    <tr>\n",
              "      <th>50%</th>\n",
              "      <td>7.000000</td>\n",
              "      <td>27121.500000</td>\n",
              "    </tr>\n",
              "    <tr>\n",
              "      <th>75%</th>\n",
              "      <td>7.800000</td>\n",
              "      <td>66890.000000</td>\n",
              "    </tr>\n",
              "    <tr>\n",
              "      <th>max</th>\n",
              "      <td>9.300000</td>\n",
              "      <td>419312.000000</td>\n",
              "    </tr>\n",
              "  </tbody>\n",
              "</table>\n",
              "</div>"
            ],
            "text/plain": [
              "          mRating         mVotes\n",
              "count  616.000000     616.000000\n",
              "mean     6.865584   49901.698052\n",
              "std      1.215463   61898.367352\n",
              "min      2.500000       9.000000\n",
              "25%      6.200000    9992.500000\n",
              "50%      7.000000   27121.500000\n",
              "75%      7.800000   66890.000000\n",
              "max      9.300000  419312.000000"
            ]
          },
          "execution_count": 42,
          "metadata": {},
          "output_type": "execute_result"
        }
      ],
      "source": [
        "titles_df.describe()"
      ]
    },
    {
      "cell_type": "markdown",
      "metadata": {
        "id": "5Qs3xaBLNxCT"
      },
      "source": [
        "Extracting the year part from the column mYear"
      ]
    },
    {
      "cell_type": "code",
      "execution_count": 43,
      "metadata": {
        "colab": {
          "base_uri": "https://localhost:8080/"
        },
        "id": "zwaJf9waMFB0",
        "outputId": "3ef3fb94-5f2b-40ac-92dc-428508777cb2"
      },
      "outputs": [
        {
          "name": "stdout",
          "output_type": "stream",
          "text": [
            "Unique non-numeric values in column 'mYear':\n",
            "['1989/I' '1990/I' '1995/I' '1998/I' '2004/I' '2007/I' '1992/I' '2005/I'\n",
            " '2002/I' '1968/I' '1996/I' '2000/I' '2009/I' '2003/I']\n"
          ]
        }
      ],
      "source": [
        "column_name = 'mYear' \n",
        "\n",
        "# Filter non-numeric values in the specified column\n",
        "non_numeric_values = titles_df.loc[~pd.to_numeric(titles_df[column_name], errors='coerce').notna(), column_name]\n",
        "\n",
        "# Get unique non-numeric values\n",
        "unique_non_numeric_values = non_numeric_values.unique()\n",
        "\n",
        "# Display the unique non-numeric values\n",
        "print(\"Unique non-numeric values in column '{}':\".format(column_name))\n",
        "print(unique_non_numeric_values)"
      ]
    },
    {
      "cell_type": "code",
      "execution_count": 44,
      "metadata": {
        "id": "18JKOe0RMjEa"
      },
      "outputs": [],
      "source": [
        "column_name = 'mYear'\n",
        "\n",
        "# Extract numeric portion using regular expression\n",
        "titles_df[column_name] = titles_df[column_name].str.extract('(\\d+)', expand=False)\n",
        "titles_df[column_name] = titles_df[column_name].astype(int)\n"
      ]
    },
    {
      "cell_type": "code",
      "execution_count": 45,
      "metadata": {
        "colab": {
          "base_uri": "https://localhost:8080/",
          "height": 206
        },
        "id": "YbHE-uZbM57q",
        "outputId": "e7e62d31-cfe5-4030-db9c-ffd0fd490882"
      },
      "outputs": [
        {
          "data": {
            "text/html": [
              "<div>\n",
              "<style scoped>\n",
              "    .dataframe tbody tr th:only-of-type {\n",
              "        vertical-align: middle;\n",
              "    }\n",
              "\n",
              "    .dataframe tbody tr th {\n",
              "        vertical-align: top;\n",
              "    }\n",
              "\n",
              "    .dataframe thead th {\n",
              "        text-align: right;\n",
              "    }\n",
              "</style>\n",
              "<table border=\"1\" class=\"dataframe\">\n",
              "  <thead>\n",
              "    <tr style=\"text-align: right;\">\n",
              "      <th></th>\n",
              "      <th>mId</th>\n",
              "      <th>mName</th>\n",
              "      <th>mYear</th>\n",
              "      <th>mRating</th>\n",
              "      <th>mVotes</th>\n",
              "      <th>mGenre</th>\n",
              "    </tr>\n",
              "  </thead>\n",
              "  <tbody>\n",
              "    <tr>\n",
              "      <th>0</th>\n",
              "      <td>m0</td>\n",
              "      <td>10 things i hate about you</td>\n",
              "      <td>1999</td>\n",
              "      <td>6.9</td>\n",
              "      <td>62847.0</td>\n",
              "      <td>['comedy' 'romance']</td>\n",
              "    </tr>\n",
              "    <tr>\n",
              "      <th>1</th>\n",
              "      <td>m1</td>\n",
              "      <td>1492: conquest of paradise</td>\n",
              "      <td>1992</td>\n",
              "      <td>6.2</td>\n",
              "      <td>10421.0</td>\n",
              "      <td>['adventure' 'biography' 'drama' 'history']</td>\n",
              "    </tr>\n",
              "    <tr>\n",
              "      <th>2</th>\n",
              "      <td>m2</td>\n",
              "      <td>15 minutes</td>\n",
              "      <td>2001</td>\n",
              "      <td>6.1</td>\n",
              "      <td>25854.0</td>\n",
              "      <td>['action' 'crime' 'drama' 'thriller']</td>\n",
              "    </tr>\n",
              "    <tr>\n",
              "      <th>3</th>\n",
              "      <td>m3</td>\n",
              "      <td>2001: a space odyssey</td>\n",
              "      <td>1968</td>\n",
              "      <td>8.4</td>\n",
              "      <td>163227.0</td>\n",
              "      <td>['adventure' 'mystery' 'sci-fi']</td>\n",
              "    </tr>\n",
              "    <tr>\n",
              "      <th>4</th>\n",
              "      <td>m4</td>\n",
              "      <td>48 hrs.</td>\n",
              "      <td>1982</td>\n",
              "      <td>6.9</td>\n",
              "      <td>22289.0</td>\n",
              "      <td>['action' 'comedy' 'crime' 'drama' 'thriller']</td>\n",
              "    </tr>\n",
              "  </tbody>\n",
              "</table>\n",
              "</div>"
            ],
            "text/plain": [
              "  mId                       mName  mYear  mRating    mVotes  \\\n",
              "0  m0  10 things i hate about you   1999      6.9   62847.0   \n",
              "1  m1  1492: conquest of paradise   1992      6.2   10421.0   \n",
              "2  m2                  15 minutes   2001      6.1   25854.0   \n",
              "3  m3       2001: a space odyssey   1968      8.4  163227.0   \n",
              "4  m4                     48 hrs.   1982      6.9   22289.0   \n",
              "\n",
              "                                           mGenre  \n",
              "0                            ['comedy' 'romance']  \n",
              "1     ['adventure' 'biography' 'drama' 'history']  \n",
              "2           ['action' 'crime' 'drama' 'thriller']  \n",
              "3                ['adventure' 'mystery' 'sci-fi']  \n",
              "4  ['action' 'comedy' 'crime' 'drama' 'thriller']  "
            ]
          },
          "execution_count": 45,
          "metadata": {},
          "output_type": "execute_result"
        }
      ],
      "source": [
        "titles_df.head()"
      ]
    },
    {
      "cell_type": "markdown",
      "metadata": {
        "id": "0s4cQR5cPKrY"
      },
      "source": [
        "Movie Lines"
      ]
    },
    {
      "cell_type": "code",
      "execution_count": 46,
      "metadata": {
        "colab": {
          "base_uri": "https://localhost:8080/",
          "height": 206
        },
        "id": "xavRhxvvPObe",
        "outputId": "94110105-9b09-4cf8-fc4c-00d2468b17c0"
      },
      "outputs": [
        {
          "data": {
            "text/html": [
              "<div>\n",
              "<style scoped>\n",
              "    .dataframe tbody tr th:only-of-type {\n",
              "        vertical-align: middle;\n",
              "    }\n",
              "\n",
              "    .dataframe tbody tr th {\n",
              "        vertical-align: top;\n",
              "    }\n",
              "\n",
              "    .dataframe thead th {\n",
              "        text-align: right;\n",
              "    }\n",
              "</style>\n",
              "<table border=\"1\" class=\"dataframe\">\n",
              "  <thead>\n",
              "    <tr style=\"text-align: right;\">\n",
              "      <th></th>\n",
              "      <th>lId</th>\n",
              "      <th>chId</th>\n",
              "      <th>mId</th>\n",
              "      <th>chName</th>\n",
              "      <th>chLine</th>\n",
              "    </tr>\n",
              "  </thead>\n",
              "  <tbody>\n",
              "    <tr>\n",
              "      <th>0</th>\n",
              "      <td>L1045</td>\n",
              "      <td>u0</td>\n",
              "      <td>m0</td>\n",
              "      <td>BIANCA</td>\n",
              "      <td>They do not!</td>\n",
              "    </tr>\n",
              "    <tr>\n",
              "      <th>1</th>\n",
              "      <td>L1044</td>\n",
              "      <td>u2</td>\n",
              "      <td>m0</td>\n",
              "      <td>CAMERON</td>\n",
              "      <td>They do to!</td>\n",
              "    </tr>\n",
              "    <tr>\n",
              "      <th>2</th>\n",
              "      <td>L985</td>\n",
              "      <td>u0</td>\n",
              "      <td>m0</td>\n",
              "      <td>BIANCA</td>\n",
              "      <td>I hope so.</td>\n",
              "    </tr>\n",
              "    <tr>\n",
              "      <th>3</th>\n",
              "      <td>L984</td>\n",
              "      <td>u2</td>\n",
              "      <td>m0</td>\n",
              "      <td>CAMERON</td>\n",
              "      <td>She okay?</td>\n",
              "    </tr>\n",
              "    <tr>\n",
              "      <th>4</th>\n",
              "      <td>L925</td>\n",
              "      <td>u0</td>\n",
              "      <td>m0</td>\n",
              "      <td>BIANCA</td>\n",
              "      <td>Let's go.</td>\n",
              "    </tr>\n",
              "  </tbody>\n",
              "</table>\n",
              "</div>"
            ],
            "text/plain": [
              "     lId chId mId   chName        chLine\n",
              "0  L1045   u0  m0   BIANCA  They do not!\n",
              "1  L1044   u2  m0  CAMERON   They do to!\n",
              "2   L985   u0  m0   BIANCA    I hope so.\n",
              "3   L984   u2  m0  CAMERON     She okay?\n",
              "4   L925   u0  m0   BIANCA     Let's go."
            ]
          },
          "execution_count": 46,
          "metadata": {},
          "output_type": "execute_result"
        }
      ],
      "source": [
        "column_names = ['lId', 'chId', 'mId', 'chName', 'chLine']\n",
        "lines_df = pd.read_csv('movie_lines.tsv', sep='\\t', header=None,names=column_names, on_bad_lines='skip')\n",
        "lines_df.head()"
      ]
    },
    {
      "cell_type": "code",
      "execution_count": 47,
      "metadata": {
        "colab": {
          "base_uri": "https://localhost:8080/"
        },
        "id": "waVo5F3DP1jF",
        "outputId": "4983cdb2-acb7-42db-9aa6-4bb719b6c1d2"
      },
      "outputs": [
        {
          "name": "stdout",
          "output_type": "stream",
          "text": [
            "(293202, 5)\n",
            "<class 'pandas.core.frame.DataFrame'>\n",
            "RangeIndex: 293202 entries, 0 to 293201\n",
            "Data columns (total 5 columns):\n",
            " #   Column  Non-Null Count   Dtype \n",
            "---  ------  --------------   ----- \n",
            " 0   lId     293202 non-null  object\n",
            " 1   chId    288917 non-null  object\n",
            " 2   mId     288917 non-null  object\n",
            " 3   chName  288874 non-null  object\n",
            " 4   chLine  288663 non-null  object\n",
            "dtypes: object(5)\n",
            "memory usage: 11.2+ MB\n",
            "None\n"
          ]
        }
      ],
      "source": [
        "print(lines_df.shape)\n",
        "print(lines_df.info())"
      ]
    },
    {
      "cell_type": "code",
      "execution_count": 48,
      "metadata": {
        "colab": {
          "base_uri": "https://localhost:8080/"
        },
        "id": "P9luLK0HVbw_",
        "outputId": "77ebd109-94d5-4cb1-d8d7-89540d7d8bf1"
      },
      "outputs": [
        {
          "name": "stdout",
          "output_type": "stream",
          "text": [
            "lId       0.00\n",
            "chId      1.46\n",
            "mId       1.46\n",
            "chName    1.48\n",
            "chLine    1.55\n",
            "dtype: float64\n"
          ]
        }
      ],
      "source": [
        "nan_percentage = (lines_df.isna().mean() * 100).round(2)\n",
        "print(nan_percentage)"
      ]
    },
    {
      "cell_type": "code",
      "execution_count": 49,
      "metadata": {
        "id": "-7WO9yUyXCnL"
      },
      "outputs": [],
      "source": [
        "lines_df = lines_df.dropna()"
      ]
    },
    {
      "cell_type": "code",
      "execution_count": 50,
      "metadata": {
        "colab": {
          "base_uri": "https://localhost:8080/"
        },
        "id": "bNjXRLKqQn4X",
        "outputId": "5e892f10-0fe0-4cb1-f337-d54a0753e7d0"
      },
      "outputs": [
        {
          "name": "stdout",
          "output_type": "stream",
          "text": [
            "Total duplicates:  0\n"
          ]
        }
      ],
      "source": [
        "# Remove duplicate rows\n",
        "duplicate_counts = lines_df.duplicated().sum()\n",
        "print(\"Total duplicates: \",duplicate_counts)\n",
        "if duplicate_counts > 0:\n",
        "  lines_df = lines_df.drop_duplicates()"
      ]
    },
    {
      "cell_type": "code",
      "execution_count": 51,
      "metadata": {
        "colab": {
          "base_uri": "https://localhost:8080/"
        },
        "id": "LGOb4Wm1RWru",
        "outputId": "15665486-1fb2-46f2-f4e0-6a3e1579a1cc"
      },
      "outputs": [
        {
          "name": "stdout",
          "output_type": "stream",
          "text": [
            "(288620, 5)\n"
          ]
        }
      ],
      "source": [
        "print(lines_df.shape)"
      ]
    },
    {
      "cell_type": "code",
      "execution_count": 52,
      "metadata": {
        "colab": {
          "base_uri": "https://localhost:8080/",
          "height": 206
        },
        "id": "VKfwsl0MR6EU",
        "outputId": "7c6f5210-001f-401d-b3a8-72195ed69ac2"
      },
      "outputs": [
        {
          "data": {
            "text/html": [
              "<div>\n",
              "<style scoped>\n",
              "    .dataframe tbody tr th:only-of-type {\n",
              "        vertical-align: middle;\n",
              "    }\n",
              "\n",
              "    .dataframe tbody tr th {\n",
              "        vertical-align: top;\n",
              "    }\n",
              "\n",
              "    .dataframe thead th {\n",
              "        text-align: right;\n",
              "    }\n",
              "</style>\n",
              "<table border=\"1\" class=\"dataframe\">\n",
              "  <thead>\n",
              "    <tr style=\"text-align: right;\">\n",
              "      <th></th>\n",
              "      <th>chId1</th>\n",
              "      <th>chId2</th>\n",
              "      <th>mId</th>\n",
              "      <th>lineList</th>\n",
              "    </tr>\n",
              "  </thead>\n",
              "  <tbody>\n",
              "    <tr>\n",
              "      <th>0</th>\n",
              "      <td>u0</td>\n",
              "      <td>u2</td>\n",
              "      <td>m0</td>\n",
              "      <td>['L194' 'L195' 'L196' 'L197']</td>\n",
              "    </tr>\n",
              "    <tr>\n",
              "      <th>1</th>\n",
              "      <td>u0</td>\n",
              "      <td>u2</td>\n",
              "      <td>m0</td>\n",
              "      <td>['L198' 'L199']</td>\n",
              "    </tr>\n",
              "    <tr>\n",
              "      <th>2</th>\n",
              "      <td>u0</td>\n",
              "      <td>u2</td>\n",
              "      <td>m0</td>\n",
              "      <td>['L200' 'L201' 'L202' 'L203']</td>\n",
              "    </tr>\n",
              "    <tr>\n",
              "      <th>3</th>\n",
              "      <td>u0</td>\n",
              "      <td>u2</td>\n",
              "      <td>m0</td>\n",
              "      <td>['L204' 'L205' 'L206']</td>\n",
              "    </tr>\n",
              "    <tr>\n",
              "      <th>4</th>\n",
              "      <td>u0</td>\n",
              "      <td>u2</td>\n",
              "      <td>m0</td>\n",
              "      <td>['L207' 'L208']</td>\n",
              "    </tr>\n",
              "  </tbody>\n",
              "</table>\n",
              "</div>"
            ],
            "text/plain": [
              "  chId1 chId2 mId                       lineList\n",
              "0    u0    u2  m0  ['L194' 'L195' 'L196' 'L197']\n",
              "1    u0    u2  m0                ['L198' 'L199']\n",
              "2    u0    u2  m0  ['L200' 'L201' 'L202' 'L203']\n",
              "3    u0    u2  m0         ['L204' 'L205' 'L206']\n",
              "4    u0    u2  m0                ['L207' 'L208']"
            ]
          },
          "execution_count": 52,
          "metadata": {},
          "output_type": "execute_result"
        }
      ],
      "source": [
        "column_names = ['chId1', 'chId2','mId', 'lineList']\n",
        "conversations_df = pd.read_csv('movie_conversations.tsv', sep='\\t',names=column_names, header=None, on_bad_lines='skip')\n",
        "conversations_df.head()"
      ]
    },
    {
      "cell_type": "code",
      "execution_count": 53,
      "metadata": {
        "colab": {
          "base_uri": "https://localhost:8080/"
        },
        "id": "y5ONCbiuSxFn",
        "outputId": "bada3669-4e02-421b-b863-2321ddaaba7e"
      },
      "outputs": [
        {
          "name": "stdout",
          "output_type": "stream",
          "text": [
            "chId1       0.0\n",
            "chId2       0.0\n",
            "mId         0.0\n",
            "lineList    0.0\n",
            "dtype: float64\n"
          ]
        }
      ],
      "source": [
        "nan_percentage = (conversations_df.isna().mean() * 100).round(2)\n",
        "print(nan_percentage)"
      ]
    },
    {
      "cell_type": "code",
      "execution_count": 54,
      "metadata": {
        "colab": {
          "base_uri": "https://localhost:8080/"
        },
        "id": "esbuWGo6S-bb",
        "outputId": "ec57082d-ce7f-4bcd-b484-c1841d96a8fa"
      },
      "outputs": [
        {
          "name": "stdout",
          "output_type": "stream",
          "text": [
            "Total Number Of Duplicates:  0\n"
          ]
        }
      ],
      "source": [
        "# Remove duplicate rows\n",
        "duplicate_counts = lines_df.duplicated().sum()\n",
        "print(\"Total Number Of Duplicates: \", duplicate_counts)\n",
        "if duplicate_counts > 0:\n",
        "  lines_df = lines_df.drop_duplicates()"
      ]
    },
    {
      "cell_type": "code",
      "execution_count": 55,
      "metadata": {
        "colab": {
          "base_uri": "https://localhost:8080/"
        },
        "id": "9Mc8T_JoTNLt",
        "outputId": "b481ec59-4e69-493d-ce95-e0f8b09b0e12"
      },
      "outputs": [
        {
          "data": {
            "text/plain": [
              "(83097, 4)"
            ]
          },
          "execution_count": 55,
          "metadata": {},
          "output_type": "execute_result"
        }
      ],
      "source": [
        "conversations_df.shape"
      ]
    },
    {
      "cell_type": "code",
      "execution_count": 56,
      "metadata": {
        "colab": {
          "base_uri": "https://localhost:8080/"
        },
        "id": "hQHi7i2YTXTf",
        "outputId": "efa827b6-892a-4ce6-af63-4a578fe563ae"
      },
      "outputs": [
        {
          "name": "stdout",
          "output_type": "stream",
          "text": [
            "<class 'pandas.core.frame.DataFrame'>\n",
            "RangeIndex: 83097 entries, 0 to 83096\n",
            "Data columns (total 4 columns):\n",
            " #   Column    Non-Null Count  Dtype \n",
            "---  ------    --------------  ----- \n",
            " 0   chId1     83097 non-null  object\n",
            " 1   chId2     83097 non-null  object\n",
            " 2   mId       83097 non-null  object\n",
            " 3   lineList  83097 non-null  object\n",
            "dtypes: object(4)\n",
            "memory usage: 2.5+ MB\n"
          ]
        }
      ],
      "source": [
        "conversations_df.info()"
      ]
    },
    {
      "cell_type": "code",
      "execution_count": 58,
      "metadata": {
        "colab": {
          "base_uri": "https://localhost:8080/",
          "height": 206
        },
        "id": "_zRbFNgDTeKz",
        "outputId": "4a1b2de6-394d-40cc-e92c-a3e0ecdcbf14"
      },
      "outputs": [
        {
          "data": {
            "text/html": [
              "<div>\n",
              "<style scoped>\n",
              "    .dataframe tbody tr th:only-of-type {\n",
              "        vertical-align: middle;\n",
              "    }\n",
              "\n",
              "    .dataframe tbody tr th {\n",
              "        vertical-align: top;\n",
              "    }\n",
              "\n",
              "    .dataframe thead th {\n",
              "        text-align: right;\n",
              "    }\n",
              "</style>\n",
              "<table border=\"1\" class=\"dataframe\">\n",
              "  <thead>\n",
              "    <tr style=\"text-align: right;\">\n",
              "      <th></th>\n",
              "      <th>mId</th>\n",
              "      <th>mName</th>\n",
              "      <th>url</th>\n",
              "    </tr>\n",
              "  </thead>\n",
              "  <tbody>\n",
              "    <tr>\n",
              "      <th>0</th>\n",
              "      <td>m0</td>\n",
              "      <td>10 things i hate about you</td>\n",
              "      <td>http://www.dailyscript.com/scripts/10Things.html</td>\n",
              "    </tr>\n",
              "    <tr>\n",
              "      <th>1</th>\n",
              "      <td>m1</td>\n",
              "      <td>1492: conquest of paradise</td>\n",
              "      <td>http://www.hundland.org/scripts/1492-ConquestO...</td>\n",
              "    </tr>\n",
              "    <tr>\n",
              "      <th>2</th>\n",
              "      <td>m2</td>\n",
              "      <td>15 minutes</td>\n",
              "      <td>http://www.dailyscript.com/scripts/15minutes.html</td>\n",
              "    </tr>\n",
              "    <tr>\n",
              "      <th>3</th>\n",
              "      <td>m3</td>\n",
              "      <td>2001: a space odyssey</td>\n",
              "      <td>http://www.scifiscripts.com/scripts/2001.txt</td>\n",
              "    </tr>\n",
              "    <tr>\n",
              "      <th>4</th>\n",
              "      <td>m4</td>\n",
              "      <td>48 hrs.</td>\n",
              "      <td>http://www.awesomefilm.com/script/48hours.txt</td>\n",
              "    </tr>\n",
              "  </tbody>\n",
              "</table>\n",
              "</div>"
            ],
            "text/plain": [
              "  mId                       mName  \\\n",
              "0  m0  10 things i hate about you   \n",
              "1  m1  1492: conquest of paradise   \n",
              "2  m2                  15 minutes   \n",
              "3  m3       2001: a space odyssey   \n",
              "4  m4                     48 hrs.   \n",
              "\n",
              "                                                 url  \n",
              "0   http://www.dailyscript.com/scripts/10Things.html  \n",
              "1  http://www.hundland.org/scripts/1492-ConquestO...  \n",
              "2  http://www.dailyscript.com/scripts/15minutes.html  \n",
              "3       http://www.scifiscripts.com/scripts/2001.txt  \n",
              "4      http://www.awesomefilm.com/script/48hours.txt  "
            ]
          },
          "execution_count": 58,
          "metadata": {},
          "output_type": "execute_result"
        }
      ],
      "source": [
        "column_names = ['mId','mName','url']\n",
        "rawScript_df = pd.read_csv('raw_script_urls.tsv', sep='\\t', names=column_names, header=None,on_bad_lines='skip')\n",
        "rawScript_df.head()"
      ]
    },
    {
      "cell_type": "code",
      "execution_count": 59,
      "metadata": {
        "colab": {
          "base_uri": "https://localhost:8080/"
        },
        "id": "tcBC4iS3XdTu",
        "outputId": "b18768dd-6b57-402c-c332-3227eca3edb4"
      },
      "outputs": [
        {
          "data": {
            "text/plain": [
              "(617, 3)"
            ]
          },
          "execution_count": 59,
          "metadata": {},
          "output_type": "execute_result"
        }
      ],
      "source": [
        "rawScript_df.shape"
      ]
    },
    {
      "cell_type": "code",
      "execution_count": 60,
      "metadata": {
        "colab": {
          "base_uri": "https://localhost:8080/"
        },
        "id": "JjX-HcH-UKo2",
        "outputId": "1fe5db35-d13f-4454-a6c5-7d60ce13dd9a"
      },
      "outputs": [
        {
          "name": "stdout",
          "output_type": "stream",
          "text": [
            "mId      0.00\n",
            "mName    0.16\n",
            "url      0.16\n",
            "dtype: float64\n"
          ]
        }
      ],
      "source": [
        "nan_percentage = (rawScript_df.isna().mean() * 100).round(2)\n",
        "print(nan_percentage)"
      ]
    },
    {
      "cell_type": "code",
      "execution_count": 61,
      "metadata": {
        "id": "Lc6lSahKUQQs"
      },
      "outputs": [],
      "source": [
        "# Remove rows with NaN values\n",
        "rawScript_df = rawScript_df.dropna()"
      ]
    },
    {
      "cell_type": "code",
      "execution_count": 62,
      "metadata": {
        "colab": {
          "base_uri": "https://localhost:8080/"
        },
        "id": "VDCN_3fNUd8L",
        "outputId": "4c123095-72da-4951-c0d2-c3a0cb810e85"
      },
      "outputs": [
        {
          "name": "stdout",
          "output_type": "stream",
          "text": [
            "Total Number Of Duplicates:  0\n"
          ]
        }
      ],
      "source": [
        "# Remove duplicate rows\n",
        "duplicate_counts = rawScript_df.duplicated().sum()\n",
        "print(\"Total Number Of Duplicates: \", duplicate_counts)\n",
        "if duplicate_counts > 0:\n",
        "  rawScript_df = rawScript_df.drop_duplicates()"
      ]
    },
    {
      "cell_type": "code",
      "execution_count": 63,
      "metadata": {
        "colab": {
          "base_uri": "https://localhost:8080/"
        },
        "id": "lNsyhCfyXljO",
        "outputId": "9755ed0e-ca48-48dc-e8a2-bc2158dbd2e1"
      },
      "outputs": [
        {
          "data": {
            "text/plain": [
              "(616, 3)"
            ]
          },
          "execution_count": 63,
          "metadata": {},
          "output_type": "execute_result"
        }
      ],
      "source": [
        "rawScript_df.shape"
      ]
    },
    {
      "cell_type": "markdown",
      "metadata": {},
      "source": [
        "Here are the list of initial dataframes:\n",
        "1. characters_df\n",
        "2. titles_df\n",
        "3. conversations_df\n",
        "4. rawScript_df\n",
        "5. lines_df"
      ]
    }
  ],
  "metadata": {
    "colab": {
      "provenance": []
    },
    "kernelspec": {
      "display_name": "Python 3",
      "name": "python3"
    },
    "language_info": {
      "codemirror_mode": {
        "name": "ipython",
        "version": 3
      },
      "file_extension": ".py",
      "mimetype": "text/x-python",
      "name": "python",
      "nbconvert_exporter": "python",
      "pygments_lexer": "ipython3",
      "version": "3.11.5"
    }
  },
  "nbformat": 4,
  "nbformat_minor": 0
}
