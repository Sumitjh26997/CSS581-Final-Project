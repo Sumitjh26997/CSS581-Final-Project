{
  "cells": [
    {
      "cell_type": "markdown",
      "metadata": {
        "id": "ZY5wzpCX_Wh3"
      },
      "source": [
        "**Import Section**\n",
        "\n",
        "Importing relavent packages for the project.\n",
        "\n",
        "Note: We will ignore warnings for simplicity."
      ]
    },
    {
      "cell_type": "code",
      "execution_count": 358,
      "metadata": {
        "id": "Gyj3i8G6_ALa"
      },
      "outputs": [],
      "source": [
        "import numpy as py\n",
        "import pandas as pd\n",
        "import warnings\n",
        "warnings.filterwarnings('ignore')"
      ]
    },
    {
      "cell_type": "markdown",
      "metadata": {
        "id": "Jaz5r2sc_gjs"
      },
      "source": [
        "**Creating initial dataframes**\n",
        "\n",
        "Following files are available for the project:\n",
        "\n",
        "1. movie_characters_metadata.tsv\n",
        "2. movie_conversations.tsv\n",
        "3. movie_lines.tsv\n",
        "4. movie_titles_metadata.tsv\n",
        "5. raw_script_urls\n",
        "\n",
        "\n",
        "Here are the list of initial dataframes for the respective files:\n",
        "1. characters_df\n",
        "2. conversations_df\n",
        "3. lines_df\n",
        "4. titles_df\n",
        "5. rawScript_df\n",
        "\n",
        "\n",
        "General File Features:\n",
        "1. Files are tab seperated ('\\t').\n",
        "2. There is no header or footers in any of the files.\n",
        "3. Few bad rows are present in the files. These rows will be dropped while dataframe creation. \n"
      ]
    },
    {
      "cell_type": "code",
      "execution_count": 427,
      "metadata": {
        "colab": {
          "base_uri": "https://localhost:8080/",
          "height": 242
        },
        "id": "pqLHGh6O_c08",
        "outputId": "b2a3aa22-21fd-4a4b-de0c-cad91981c957"
      },
      "outputs": [
        {
          "name": "stdout",
          "output_type": "stream",
          "text": [
            "SUCESS : 'characters_df' dataframe created from 'movie_characters_metadata.tsv'\n",
            "\n",
            "Here is a snapshot of data\n"
          ]
        },
        {
          "data": {
            "text/html": [
              "<div>\n",
              "<style scoped>\n",
              "    .dataframe tbody tr th:only-of-type {\n",
              "        vertical-align: middle;\n",
              "    }\n",
              "\n",
              "    .dataframe tbody tr th {\n",
              "        vertical-align: top;\n",
              "    }\n",
              "\n",
              "    .dataframe thead th {\n",
              "        text-align: right;\n",
              "    }\n",
              "</style>\n",
              "<table border=\"1\" class=\"dataframe\">\n",
              "  <thead>\n",
              "    <tr style=\"text-align: right;\">\n",
              "      <th></th>\n",
              "      <th>chId</th>\n",
              "      <th>chName</th>\n",
              "      <th>mId</th>\n",
              "      <th>mName</th>\n",
              "      <th>gender</th>\n",
              "      <th>posCredits</th>\n",
              "    </tr>\n",
              "  </thead>\n",
              "  <tbody>\n",
              "    <tr>\n",
              "      <th>0</th>\n",
              "      <td>u0</td>\n",
              "      <td>BIANCA</td>\n",
              "      <td>m0</td>\n",
              "      <td>10 things i hate about you</td>\n",
              "      <td>f</td>\n",
              "      <td>4</td>\n",
              "    </tr>\n",
              "    <tr>\n",
              "      <th>1</th>\n",
              "      <td>u1</td>\n",
              "      <td>BRUCE</td>\n",
              "      <td>m0</td>\n",
              "      <td>10 things i hate about you</td>\n",
              "      <td>?</td>\n",
              "      <td>?</td>\n",
              "    </tr>\n",
              "    <tr>\n",
              "      <th>2</th>\n",
              "      <td>u2</td>\n",
              "      <td>CAMERON</td>\n",
              "      <td>m0</td>\n",
              "      <td>10 things i hate about you</td>\n",
              "      <td>m</td>\n",
              "      <td>3</td>\n",
              "    </tr>\n",
              "    <tr>\n",
              "      <th>3</th>\n",
              "      <td>u3</td>\n",
              "      <td>CHASTITY</td>\n",
              "      <td>m0</td>\n",
              "      <td>10 things i hate about you</td>\n",
              "      <td>?</td>\n",
              "      <td>?</td>\n",
              "    </tr>\n",
              "    <tr>\n",
              "      <th>4</th>\n",
              "      <td>u4</td>\n",
              "      <td>JOEY</td>\n",
              "      <td>m0</td>\n",
              "      <td>10 things i hate about you</td>\n",
              "      <td>m</td>\n",
              "      <td>6</td>\n",
              "    </tr>\n",
              "  </tbody>\n",
              "</table>\n",
              "</div>"
            ],
            "text/plain": [
              "  chId    chName mId                       mName gender posCredits\n",
              "0   u0    BIANCA  m0  10 things i hate about you      f          4\n",
              "1   u1     BRUCE  m0  10 things i hate about you      ?          ?\n",
              "2   u2   CAMERON  m0  10 things i hate about you      m          3\n",
              "3   u3  CHASTITY  m0  10 things i hate about you      ?          ?\n",
              "4   u4      JOEY  m0  10 things i hate about you      m          6"
            ]
          },
          "execution_count": 427,
          "metadata": {},
          "output_type": "execute_result"
        }
      ],
      "source": [
        "##Creating characters_df dataframe from movie_characters_metadata.tsv\n",
        "\n",
        "column_names = ['chId', 'chName', 'mId', 'mName', 'gender', 'posCredits']\n",
        "characters_df = pd.read_csv('movie_characters_metadata.tsv', sep='\\t', header=None, names=column_names, on_bad_lines='skip')\n",
        "print(\"SUCESS : 'characters_df' dataframe created from 'movie_characters_metadata.tsv'\\n\")\n",
        "print('Here is a snapshot of data')\n",
        "characters_df.head()\n"
      ]
    },
    {
      "cell_type": "code",
      "execution_count": 416,
      "metadata": {
        "colab": {
          "base_uri": "https://localhost:8080/"
        },
        "id": "vKbHl2nPF9Gl",
        "outputId": "808efd72-1171-413b-a80f-1e7c32112f10"
      },
      "outputs": [
        {
          "name": "stdout",
          "output_type": "stream",
          "text": [
            "Dimension & metadata of characters_df (9034, 6)\n",
            "<class 'pandas.core.frame.DataFrame'>\n",
            "RangeIndex: 9034 entries, 0 to 9033\n",
            "Data columns (total 6 columns):\n",
            " #   Column      Non-Null Count  Dtype \n",
            "---  ------      --------------  ----- \n",
            " 0   chId        9034 non-null   object\n",
            " 1   chName      9015 non-null   object\n",
            " 2   mId         9017 non-null   object\n",
            " 3   mName       9017 non-null   object\n",
            " 4   gender      9017 non-null   object\n",
            " 5   posCredits  9017 non-null   object\n",
            "dtypes: object(6)\n",
            "memory usage: 423.6+ KB\n",
            "None\n"
          ]
        }
      ],
      "source": [
        "print(\"Dimension & metadata of characters_df\",characters_df.shape)\n",
        "print(characters_df.info())"
      ]
    },
    {
      "cell_type": "code",
      "execution_count": 423,
      "metadata": {
        "colab": {
          "base_uri": "https://localhost:8080/"
        },
        "id": "4ajUqj6_WURW",
        "outputId": "784fc255-cfff-42a8-82ec-acf31662b5b8"
      },
      "outputs": [
        {
          "name": "stdout",
          "output_type": "stream",
          "text": [
            "Distribution Of NaN across dataframe\n",
            "chId          0.00\n",
            "chName        0.21\n",
            "mId           0.19\n",
            "mName         0.19\n",
            "gender        0.19\n",
            "posCredits    0.19\n",
            "dtype: float64\n"
          ]
        }
      ],
      "source": [
        "##Checking on the percentage of NaN for each column in the dataframe\n",
        "\n",
        "nan_percentage = (characters_df.isna().mean() * 100).round(2)\n",
        "print(\"Distribution Of NaN across dataframe\")\n",
        "print(nan_percentage)"
      ]
    },
    {
      "cell_type": "code",
      "execution_count": 362,
      "metadata": {
        "id": "CTDeeBRRJLiz"
      },
      "outputs": [],
      "source": [
        "# Removing rows with NaN values\n",
        "characters_df = characters_df.dropna()"
      ]
    },
    {
      "cell_type": "code",
      "execution_count": 363,
      "metadata": {
        "colab": {
          "base_uri": "https://localhost:8080/"
        },
        "id": "9MibX2KJJcmG",
        "outputId": "8168a3e6-278d-46a8-9a28-757d331ca82a"
      },
      "outputs": [
        {
          "name": "stdout",
          "output_type": "stream",
          "text": [
            "Total duplicate 0\n"
          ]
        }
      ],
      "source": [
        "# Remove duplicate rows\n",
        "duplicate_counts = characters_df.duplicated().sum()\n",
        "print(\"Total duplicate\", duplicate_counts)\n",
        "if duplicate_counts > 0:\n",
        "  characters_df = characters_df.drop_duplicates()"
      ]
    },
    {
      "cell_type": "markdown",
      "metadata": {
        "id": "gUlj0xX_F5LJ"
      },
      "source": [
        "**Data Cleansing: Removing Ambiguity From The Column Gender**\n",
        "\n",
        "In this project we are dividing gender to two groups \"Male\" (M) & \"Female\" (F). \n",
        "\n",
        "However during the initial data analysis, it is identified that 4 different types of values are available in the column gender('?', 'm', 'f', 'M'). On further investigation, it has been confirmed all gender where data is 'm' & 'M' belong to male class rest can be grouped as female.In this dataframe 'Male' class will be represented as 'M' & 'Female' class will be represented as 'F'."
      ]
    },
    {
      "cell_type": "code",
      "execution_count": 364,
      "metadata": {
        "colab": {
          "base_uri": "https://localhost:8080/"
        },
        "id": "VgBcoJ2_Es8H",
        "outputId": "11537eea-5add-4f38-c6eb-437c3b0e017c"
      },
      "outputs": [
        {
          "data": {
            "text/plain": [
              "gender\n",
              "?    6006\n",
              "m    1899\n",
              "f     921\n",
              "M     145\n",
              "F      44\n",
              "Name: count, dtype: int64"
            ]
          },
          "execution_count": 364,
          "metadata": {},
          "output_type": "execute_result"
        }
      ],
      "source": [
        "##Count of values of each gender type\n",
        "characters_df.gender.value_counts()"
      ]
    },
    {
      "cell_type": "code",
      "execution_count": 425,
      "metadata": {
        "colab": {
          "base_uri": "https://localhost:8080/"
        },
        "id": "oeota9ysFJVR",
        "outputId": "d7fd110c-8d46-435f-84af-c8591948aa9f"
      },
      "outputs": [
        {
          "name": "stdout",
          "output_type": "stream",
          "text": [
            "Data Distribution Per Gender:\n"
          ]
        },
        {
          "data": {
            "text/plain": [
              "gender\n",
              "M    2044\n",
              "F     982\n",
              "Name: count, dtype: int64"
            ]
          },
          "execution_count": 425,
          "metadata": {},
          "output_type": "execute_result"
        }
      ],
      "source": [
        "##Removing data ambiguity from gender\n",
        "characters_df = characters_df[characters_df.gender != '?']\n",
        "characters_df.gender = characters_df.gender.apply(lambda g: 'M' if g in ['m', 'M'] else 'F')\n",
        "print(\"Data Distribution Per Gender:\")\n",
        "characters_df.gender.value_counts()"
      ]
    },
    {
      "cell_type": "markdown",
      "metadata": {
        "id": "kCu7SFbJGNsl"
      },
      "source": [
        "**Data Cleansing: Removing non-numeric values from the column posCredits**\n",
        "\n",
        "As per the column defination, 'posCredits' is  numeric column containing the information of the position where the character features in the credits. Hence this cannot be non-numeric. \n",
        "\n",
        "As part of the cleansing strategy we will remove such rows as very such rows are available."
      ]
    },
    {
      "cell_type": "code",
      "execution_count": 366,
      "metadata": {
        "colab": {
          "base_uri": "https://localhost:8080/"
        },
        "id": "ue8UvbBNGSnq",
        "outputId": "690b9e2f-cdd9-48f7-8b61-8d5d87501b3e"
      },
      "outputs": [
        {
          "name": "stdout",
          "output_type": "stream",
          "text": [
            "Total count of non-numeric values in 'posCredits' removed 330\n"
          ]
        }
      ],
      "source": [
        "# Display the total count of non-numeric values\n",
        "non_numeric_count = pd.to_numeric(characters_df['posCredits'], errors='coerce').isna().sum()\n",
        "print(\"Total count of non-numeric values in 'posCredits' removed {}\".format(non_numeric_count))\n",
        "\n",
        "# Remove rows with non-numeric values in the specified column\n",
        "characters_df = characters_df[pd.to_numeric(characters_df['posCredits'], errors='coerce').notna()]"
      ]
    },
    {
      "cell_type": "markdown",
      "metadata": {
        "id": "Ng3V-UdKK0xU"
      },
      "source": [
        "**Movie title Dataframe**"
      ]
    },
    {
      "cell_type": "code",
      "execution_count": 426,
      "metadata": {
        "colab": {
          "base_uri": "https://localhost:8080/",
          "height": 206
        },
        "id": "XJb9mGIxK2ty",
        "outputId": "a48916cc-a749-4540-d9e1-844c2d498f66"
      },
      "outputs": [
        {
          "name": "stdout",
          "output_type": "stream",
          "text": [
            "SUCESS : 'titles_df' dataframe created from 'movie_titles_metadata.tsv'\n",
            "\n",
            "Here is a snapshot of data\n"
          ]
        },
        {
          "data": {
            "text/html": [
              "<div>\n",
              "<style scoped>\n",
              "    .dataframe tbody tr th:only-of-type {\n",
              "        vertical-align: middle;\n",
              "    }\n",
              "\n",
              "    .dataframe tbody tr th {\n",
              "        vertical-align: top;\n",
              "    }\n",
              "\n",
              "    .dataframe thead th {\n",
              "        text-align: right;\n",
              "    }\n",
              "</style>\n",
              "<table border=\"1\" class=\"dataframe\">\n",
              "  <thead>\n",
              "    <tr style=\"text-align: right;\">\n",
              "      <th></th>\n",
              "      <th>mId</th>\n",
              "      <th>mName</th>\n",
              "      <th>mYear</th>\n",
              "      <th>mRating</th>\n",
              "      <th>mVotes</th>\n",
              "      <th>mGenre</th>\n",
              "    </tr>\n",
              "  </thead>\n",
              "  <tbody>\n",
              "    <tr>\n",
              "      <th>0</th>\n",
              "      <td>m0</td>\n",
              "      <td>10 things i hate about you</td>\n",
              "      <td>1999</td>\n",
              "      <td>6.9</td>\n",
              "      <td>62847.0</td>\n",
              "      <td>['comedy' 'romance']</td>\n",
              "    </tr>\n",
              "    <tr>\n",
              "      <th>1</th>\n",
              "      <td>m1</td>\n",
              "      <td>1492: conquest of paradise</td>\n",
              "      <td>1992</td>\n",
              "      <td>6.2</td>\n",
              "      <td>10421.0</td>\n",
              "      <td>['adventure' 'biography' 'drama' 'history']</td>\n",
              "    </tr>\n",
              "    <tr>\n",
              "      <th>2</th>\n",
              "      <td>m2</td>\n",
              "      <td>15 minutes</td>\n",
              "      <td>2001</td>\n",
              "      <td>6.1</td>\n",
              "      <td>25854.0</td>\n",
              "      <td>['action' 'crime' 'drama' 'thriller']</td>\n",
              "    </tr>\n",
              "    <tr>\n",
              "      <th>3</th>\n",
              "      <td>m3</td>\n",
              "      <td>2001: a space odyssey</td>\n",
              "      <td>1968</td>\n",
              "      <td>8.4</td>\n",
              "      <td>163227.0</td>\n",
              "      <td>['adventure' 'mystery' 'sci-fi']</td>\n",
              "    </tr>\n",
              "    <tr>\n",
              "      <th>4</th>\n",
              "      <td>m4</td>\n",
              "      <td>48 hrs.</td>\n",
              "      <td>1982</td>\n",
              "      <td>6.9</td>\n",
              "      <td>22289.0</td>\n",
              "      <td>['action' 'comedy' 'crime' 'drama' 'thriller']</td>\n",
              "    </tr>\n",
              "  </tbody>\n",
              "</table>\n",
              "</div>"
            ],
            "text/plain": [
              "  mId                       mName mYear  mRating    mVotes  \\\n",
              "0  m0  10 things i hate about you  1999      6.9   62847.0   \n",
              "1  m1  1492: conquest of paradise  1992      6.2   10421.0   \n",
              "2  m2                  15 minutes  2001      6.1   25854.0   \n",
              "3  m3       2001: a space odyssey  1968      8.4  163227.0   \n",
              "4  m4                     48 hrs.  1982      6.9   22289.0   \n",
              "\n",
              "                                           mGenre  \n",
              "0                            ['comedy' 'romance']  \n",
              "1     ['adventure' 'biography' 'drama' 'history']  \n",
              "2           ['action' 'crime' 'drama' 'thriller']  \n",
              "3                ['adventure' 'mystery' 'sci-fi']  \n",
              "4  ['action' 'comedy' 'crime' 'drama' 'thriller']  "
            ]
          },
          "execution_count": 426,
          "metadata": {},
          "output_type": "execute_result"
        }
      ],
      "source": [
        "##Creating the dataframe : titles_df\n",
        "\n",
        "column_names = ['mId', 'mName', 'mYear', 'mRating', 'mVotes', 'mGenre']\n",
        "titles_df = pd.read_csv('movie_titles_metadata.tsv', sep='\\t', names=column_names, header=None, on_bad_lines='skip')\n",
        "print(\"SUCESS : 'titles_df' dataframe created from 'movie_titles_metadata.tsv'\\n\")\n",
        "print('Here is a snapshot of data')\n",
        "titles_df.head()"
      ]
    },
    {
      "cell_type": "code",
      "execution_count": 368,
      "metadata": {
        "colab": {
          "base_uri": "https://localhost:8080/"
        },
        "id": "Dd4zDdWhLmTS",
        "outputId": "0fb0253f-fd49-42b6-f3a4-e29c984ca54b"
      },
      "outputs": [
        {
          "name": "stdout",
          "output_type": "stream",
          "text": [
            "(617, 6)\n",
            "<class 'pandas.core.frame.DataFrame'>\n",
            "RangeIndex: 617 entries, 0 to 616\n",
            "Data columns (total 6 columns):\n",
            " #   Column   Non-Null Count  Dtype  \n",
            "---  ------   --------------  -----  \n",
            " 0   mId      617 non-null    object \n",
            " 1   mName    616 non-null    object \n",
            " 2   mYear    616 non-null    object \n",
            " 3   mRating  616 non-null    float64\n",
            " 4   mVotes   616 non-null    float64\n",
            " 5   mGenre   616 non-null    object \n",
            "dtypes: float64(2), object(4)\n",
            "memory usage: 29.1+ KB\n",
            "None\n"
          ]
        }
      ],
      "source": [
        "print(titles_df.shape)\n",
        "print(titles_df.info())\n"
      ]
    },
    {
      "cell_type": "markdown",
      "metadata": {
        "id": "sTWCzlGaL-Wf"
      },
      "source": [
        "Removing rows with NAN"
      ]
    },
    {
      "cell_type": "code",
      "execution_count": 369,
      "metadata": {
        "colab": {
          "base_uri": "https://localhost:8080/"
        },
        "id": "IQsChXClUy0B",
        "outputId": "c92231a8-bb6b-45f1-dc5c-68525f5fec93"
      },
      "outputs": [
        {
          "name": "stdout",
          "output_type": "stream",
          "text": [
            "mId        0.00\n",
            "mName      0.16\n",
            "mYear      0.16\n",
            "mRating    0.16\n",
            "mVotes     0.16\n",
            "mGenre     0.16\n",
            "dtype: float64\n"
          ]
        }
      ],
      "source": [
        "nan_percentage = (titles_df.isna().mean() * 100).round(2)\n",
        "print(nan_percentage)"
      ]
    },
    {
      "cell_type": "code",
      "execution_count": 370,
      "metadata": {
        "id": "llJpSbh6Wtsi"
      },
      "outputs": [],
      "source": [
        "# Remove rows with NaN values\n",
        "titles_df = titles_df.dropna()"
      ]
    },
    {
      "cell_type": "code",
      "execution_count": 371,
      "metadata": {
        "colab": {
          "base_uri": "https://localhost:8080/"
        },
        "id": "Tah-3pdgO-er",
        "outputId": "08ebb5a3-77a6-4192-9d1b-5b94feb0e075"
      },
      "outputs": [
        {
          "name": "stdout",
          "output_type": "stream",
          "text": [
            "Total Number of duplicate rows 0\n"
          ]
        }
      ],
      "source": [
        "# Remove duplicate rows\n",
        "duplicate_counts = titles_df.duplicated().sum()\n",
        "print(\"Total Number of duplicate rows\", duplicate_counts)\n",
        "if duplicate_counts > 0:\n",
        "  titles_df = titles_df.drop_duplicates()"
      ]
    },
    {
      "cell_type": "markdown",
      "metadata": {
        "id": "1gDJ6HVpOo7w"
      },
      "source": [
        "No outier data found in numeric columns"
      ]
    },
    {
      "cell_type": "code",
      "execution_count": 372,
      "metadata": {
        "colab": {
          "base_uri": "https://localhost:8080/",
          "height": 300
        },
        "id": "oq7GXMBpObaO",
        "outputId": "c35c13ae-754a-42b8-9ca3-be034a3242ad"
      },
      "outputs": [
        {
          "data": {
            "text/html": [
              "<div>\n",
              "<style scoped>\n",
              "    .dataframe tbody tr th:only-of-type {\n",
              "        vertical-align: middle;\n",
              "    }\n",
              "\n",
              "    .dataframe tbody tr th {\n",
              "        vertical-align: top;\n",
              "    }\n",
              "\n",
              "    .dataframe thead th {\n",
              "        text-align: right;\n",
              "    }\n",
              "</style>\n",
              "<table border=\"1\" class=\"dataframe\">\n",
              "  <thead>\n",
              "    <tr style=\"text-align: right;\">\n",
              "      <th></th>\n",
              "      <th>mRating</th>\n",
              "      <th>mVotes</th>\n",
              "    </tr>\n",
              "  </thead>\n",
              "  <tbody>\n",
              "    <tr>\n",
              "      <th>count</th>\n",
              "      <td>616.000000</td>\n",
              "      <td>616.000000</td>\n",
              "    </tr>\n",
              "    <tr>\n",
              "      <th>mean</th>\n",
              "      <td>6.865584</td>\n",
              "      <td>49901.698052</td>\n",
              "    </tr>\n",
              "    <tr>\n",
              "      <th>std</th>\n",
              "      <td>1.215463</td>\n",
              "      <td>61898.367352</td>\n",
              "    </tr>\n",
              "    <tr>\n",
              "      <th>min</th>\n",
              "      <td>2.500000</td>\n",
              "      <td>9.000000</td>\n",
              "    </tr>\n",
              "    <tr>\n",
              "      <th>25%</th>\n",
              "      <td>6.200000</td>\n",
              "      <td>9992.500000</td>\n",
              "    </tr>\n",
              "    <tr>\n",
              "      <th>50%</th>\n",
              "      <td>7.000000</td>\n",
              "      <td>27121.500000</td>\n",
              "    </tr>\n",
              "    <tr>\n",
              "      <th>75%</th>\n",
              "      <td>7.800000</td>\n",
              "      <td>66890.000000</td>\n",
              "    </tr>\n",
              "    <tr>\n",
              "      <th>max</th>\n",
              "      <td>9.300000</td>\n",
              "      <td>419312.000000</td>\n",
              "    </tr>\n",
              "  </tbody>\n",
              "</table>\n",
              "</div>"
            ],
            "text/plain": [
              "          mRating         mVotes\n",
              "count  616.000000     616.000000\n",
              "mean     6.865584   49901.698052\n",
              "std      1.215463   61898.367352\n",
              "min      2.500000       9.000000\n",
              "25%      6.200000    9992.500000\n",
              "50%      7.000000   27121.500000\n",
              "75%      7.800000   66890.000000\n",
              "max      9.300000  419312.000000"
            ]
          },
          "execution_count": 372,
          "metadata": {},
          "output_type": "execute_result"
        }
      ],
      "source": [
        "titles_df.describe()"
      ]
    },
    {
      "cell_type": "markdown",
      "metadata": {
        "id": "5Qs3xaBLNxCT"
      },
      "source": [
        "Extracting the year part from the column mYear"
      ]
    },
    {
      "cell_type": "code",
      "execution_count": 373,
      "metadata": {
        "colab": {
          "base_uri": "https://localhost:8080/"
        },
        "id": "zwaJf9waMFB0",
        "outputId": "3ef3fb94-5f2b-40ac-92dc-428508777cb2"
      },
      "outputs": [
        {
          "name": "stdout",
          "output_type": "stream",
          "text": [
            "Unique non-numeric values in column 'mYear':\n",
            "['1989/I' '1990/I' '1995/I' '1998/I' '2004/I' '2007/I' '1992/I' '2005/I'\n",
            " '2002/I' '1968/I' '1996/I' '2000/I' '2009/I' '2003/I']\n"
          ]
        }
      ],
      "source": [
        "column_name = 'mYear' \n",
        "\n",
        "# Filter non-numeric values in the specified column\n",
        "non_numeric_values = titles_df.loc[~pd.to_numeric(titles_df[column_name], errors='coerce').notna(), column_name]\n",
        "\n",
        "# Get unique non-numeric values\n",
        "unique_non_numeric_values = non_numeric_values.unique()\n",
        "\n",
        "# Display the unique non-numeric values\n",
        "print(\"Unique non-numeric values in column '{}':\".format(column_name))\n",
        "print(unique_non_numeric_values)"
      ]
    },
    {
      "cell_type": "code",
      "execution_count": 374,
      "metadata": {
        "id": "18JKOe0RMjEa"
      },
      "outputs": [],
      "source": [
        "column_name = 'mYear'\n",
        "\n",
        "# Extract numeric portion using regular expression\n",
        "titles_df[column_name] = titles_df[column_name].str.extract('(\\d+)', expand=False)\n",
        "titles_df[column_name] = titles_df[column_name].astype(int)\n"
      ]
    },
    {
      "cell_type": "code",
      "execution_count": 375,
      "metadata": {
        "colab": {
          "base_uri": "https://localhost:8080/",
          "height": 206
        },
        "id": "YbHE-uZbM57q",
        "outputId": "e7e62d31-cfe5-4030-db9c-ffd0fd490882"
      },
      "outputs": [
        {
          "data": {
            "text/html": [
              "<div>\n",
              "<style scoped>\n",
              "    .dataframe tbody tr th:only-of-type {\n",
              "        vertical-align: middle;\n",
              "    }\n",
              "\n",
              "    .dataframe tbody tr th {\n",
              "        vertical-align: top;\n",
              "    }\n",
              "\n",
              "    .dataframe thead th {\n",
              "        text-align: right;\n",
              "    }\n",
              "</style>\n",
              "<table border=\"1\" class=\"dataframe\">\n",
              "  <thead>\n",
              "    <tr style=\"text-align: right;\">\n",
              "      <th></th>\n",
              "      <th>mId</th>\n",
              "      <th>mName</th>\n",
              "      <th>mYear</th>\n",
              "      <th>mRating</th>\n",
              "      <th>mVotes</th>\n",
              "      <th>mGenre</th>\n",
              "    </tr>\n",
              "  </thead>\n",
              "  <tbody>\n",
              "    <tr>\n",
              "      <th>0</th>\n",
              "      <td>m0</td>\n",
              "      <td>10 things i hate about you</td>\n",
              "      <td>1999</td>\n",
              "      <td>6.9</td>\n",
              "      <td>62847.0</td>\n",
              "      <td>['comedy' 'romance']</td>\n",
              "    </tr>\n",
              "    <tr>\n",
              "      <th>1</th>\n",
              "      <td>m1</td>\n",
              "      <td>1492: conquest of paradise</td>\n",
              "      <td>1992</td>\n",
              "      <td>6.2</td>\n",
              "      <td>10421.0</td>\n",
              "      <td>['adventure' 'biography' 'drama' 'history']</td>\n",
              "    </tr>\n",
              "    <tr>\n",
              "      <th>2</th>\n",
              "      <td>m2</td>\n",
              "      <td>15 minutes</td>\n",
              "      <td>2001</td>\n",
              "      <td>6.1</td>\n",
              "      <td>25854.0</td>\n",
              "      <td>['action' 'crime' 'drama' 'thriller']</td>\n",
              "    </tr>\n",
              "    <tr>\n",
              "      <th>3</th>\n",
              "      <td>m3</td>\n",
              "      <td>2001: a space odyssey</td>\n",
              "      <td>1968</td>\n",
              "      <td>8.4</td>\n",
              "      <td>163227.0</td>\n",
              "      <td>['adventure' 'mystery' 'sci-fi']</td>\n",
              "    </tr>\n",
              "    <tr>\n",
              "      <th>4</th>\n",
              "      <td>m4</td>\n",
              "      <td>48 hrs.</td>\n",
              "      <td>1982</td>\n",
              "      <td>6.9</td>\n",
              "      <td>22289.0</td>\n",
              "      <td>['action' 'comedy' 'crime' 'drama' 'thriller']</td>\n",
              "    </tr>\n",
              "  </tbody>\n",
              "</table>\n",
              "</div>"
            ],
            "text/plain": [
              "  mId                       mName  mYear  mRating    mVotes  \\\n",
              "0  m0  10 things i hate about you   1999      6.9   62847.0   \n",
              "1  m1  1492: conquest of paradise   1992      6.2   10421.0   \n",
              "2  m2                  15 minutes   2001      6.1   25854.0   \n",
              "3  m3       2001: a space odyssey   1968      8.4  163227.0   \n",
              "4  m4                     48 hrs.   1982      6.9   22289.0   \n",
              "\n",
              "                                           mGenre  \n",
              "0                            ['comedy' 'romance']  \n",
              "1     ['adventure' 'biography' 'drama' 'history']  \n",
              "2           ['action' 'crime' 'drama' 'thriller']  \n",
              "3                ['adventure' 'mystery' 'sci-fi']  \n",
              "4  ['action' 'comedy' 'crime' 'drama' 'thriller']  "
            ]
          },
          "execution_count": 375,
          "metadata": {},
          "output_type": "execute_result"
        }
      ],
      "source": [
        "titles_df.head()"
      ]
    },
    {
      "cell_type": "markdown",
      "metadata": {
        "id": "0s4cQR5cPKrY"
      },
      "source": [
        "Movie Lines"
      ]
    },
    {
      "cell_type": "code",
      "execution_count": 376,
      "metadata": {
        "colab": {
          "base_uri": "https://localhost:8080/",
          "height": 206
        },
        "id": "xavRhxvvPObe",
        "outputId": "94110105-9b09-4cf8-fc4c-00d2468b17c0"
      },
      "outputs": [
        {
          "data": {
            "text/html": [
              "<div>\n",
              "<style scoped>\n",
              "    .dataframe tbody tr th:only-of-type {\n",
              "        vertical-align: middle;\n",
              "    }\n",
              "\n",
              "    .dataframe tbody tr th {\n",
              "        vertical-align: top;\n",
              "    }\n",
              "\n",
              "    .dataframe thead th {\n",
              "        text-align: right;\n",
              "    }\n",
              "</style>\n",
              "<table border=\"1\" class=\"dataframe\">\n",
              "  <thead>\n",
              "    <tr style=\"text-align: right;\">\n",
              "      <th></th>\n",
              "      <th>lId</th>\n",
              "      <th>chId</th>\n",
              "      <th>mId</th>\n",
              "      <th>chName</th>\n",
              "      <th>chLine</th>\n",
              "    </tr>\n",
              "  </thead>\n",
              "  <tbody>\n",
              "    <tr>\n",
              "      <th>0</th>\n",
              "      <td>L1045</td>\n",
              "      <td>u0</td>\n",
              "      <td>m0</td>\n",
              "      <td>BIANCA</td>\n",
              "      <td>They do not!</td>\n",
              "    </tr>\n",
              "    <tr>\n",
              "      <th>1</th>\n",
              "      <td>L1044</td>\n",
              "      <td>u2</td>\n",
              "      <td>m0</td>\n",
              "      <td>CAMERON</td>\n",
              "      <td>They do to!</td>\n",
              "    </tr>\n",
              "    <tr>\n",
              "      <th>2</th>\n",
              "      <td>L985</td>\n",
              "      <td>u0</td>\n",
              "      <td>m0</td>\n",
              "      <td>BIANCA</td>\n",
              "      <td>I hope so.</td>\n",
              "    </tr>\n",
              "    <tr>\n",
              "      <th>3</th>\n",
              "      <td>L984</td>\n",
              "      <td>u2</td>\n",
              "      <td>m0</td>\n",
              "      <td>CAMERON</td>\n",
              "      <td>She okay?</td>\n",
              "    </tr>\n",
              "    <tr>\n",
              "      <th>4</th>\n",
              "      <td>L925</td>\n",
              "      <td>u0</td>\n",
              "      <td>m0</td>\n",
              "      <td>BIANCA</td>\n",
              "      <td>Let's go.</td>\n",
              "    </tr>\n",
              "  </tbody>\n",
              "</table>\n",
              "</div>"
            ],
            "text/plain": [
              "     lId chId mId   chName        chLine\n",
              "0  L1045   u0  m0   BIANCA  They do not!\n",
              "1  L1044   u2  m0  CAMERON   They do to!\n",
              "2   L985   u0  m0   BIANCA    I hope so.\n",
              "3   L984   u2  m0  CAMERON     She okay?\n",
              "4   L925   u0  m0   BIANCA     Let's go."
            ]
          },
          "execution_count": 376,
          "metadata": {},
          "output_type": "execute_result"
        }
      ],
      "source": [
        "column_names = ['lId', 'chId', 'mId', 'chName', 'chLine']\n",
        "lines_df = pd.read_csv('movie_lines.tsv', sep='\\t', header=None,names=column_names, on_bad_lines='skip')\n",
        "lines_df.head()"
      ]
    },
    {
      "cell_type": "code",
      "execution_count": 377,
      "metadata": {
        "colab": {
          "base_uri": "https://localhost:8080/"
        },
        "id": "waVo5F3DP1jF",
        "outputId": "4983cdb2-acb7-42db-9aa6-4bb719b6c1d2"
      },
      "outputs": [
        {
          "name": "stdout",
          "output_type": "stream",
          "text": [
            "(293202, 5)\n",
            "<class 'pandas.core.frame.DataFrame'>\n",
            "RangeIndex: 293202 entries, 0 to 293201\n",
            "Data columns (total 5 columns):\n",
            " #   Column  Non-Null Count   Dtype \n",
            "---  ------  --------------   ----- \n",
            " 0   lId     293202 non-null  object\n",
            " 1   chId    288917 non-null  object\n",
            " 2   mId     288917 non-null  object\n",
            " 3   chName  288874 non-null  object\n",
            " 4   chLine  288663 non-null  object\n",
            "dtypes: object(5)\n",
            "memory usage: 11.2+ MB\n",
            "None\n"
          ]
        }
      ],
      "source": [
        "print(lines_df.shape)\n",
        "print(lines_df.info())"
      ]
    },
    {
      "cell_type": "code",
      "execution_count": 378,
      "metadata": {
        "colab": {
          "base_uri": "https://localhost:8080/"
        },
        "id": "P9luLK0HVbw_",
        "outputId": "77ebd109-94d5-4cb1-d8d7-89540d7d8bf1"
      },
      "outputs": [
        {
          "name": "stdout",
          "output_type": "stream",
          "text": [
            "lId       0.00\n",
            "chId      1.46\n",
            "mId       1.46\n",
            "chName    1.48\n",
            "chLine    1.55\n",
            "dtype: float64\n"
          ]
        }
      ],
      "source": [
        "nan_percentage = (lines_df.isna().mean() * 100).round(2)\n",
        "print(nan_percentage)"
      ]
    },
    {
      "cell_type": "code",
      "execution_count": 379,
      "metadata": {
        "id": "-7WO9yUyXCnL"
      },
      "outputs": [],
      "source": [
        "lines_df = lines_df.dropna()"
      ]
    },
    {
      "cell_type": "code",
      "execution_count": 380,
      "metadata": {
        "colab": {
          "base_uri": "https://localhost:8080/"
        },
        "id": "bNjXRLKqQn4X",
        "outputId": "5e892f10-0fe0-4cb1-f337-d54a0753e7d0"
      },
      "outputs": [
        {
          "name": "stdout",
          "output_type": "stream",
          "text": [
            "Total duplicates:  0\n"
          ]
        }
      ],
      "source": [
        "# Remove duplicate rows\n",
        "duplicate_counts = lines_df.duplicated().sum()\n",
        "print(\"Total duplicates: \",duplicate_counts)\n",
        "if duplicate_counts > 0:\n",
        "  lines_df = lines_df.drop_duplicates()"
      ]
    },
    {
      "cell_type": "code",
      "execution_count": 381,
      "metadata": {
        "colab": {
          "base_uri": "https://localhost:8080/"
        },
        "id": "LGOb4Wm1RWru",
        "outputId": "15665486-1fb2-46f2-f4e0-6a3e1579a1cc"
      },
      "outputs": [
        {
          "name": "stdout",
          "output_type": "stream",
          "text": [
            "(288620, 5)\n"
          ]
        }
      ],
      "source": [
        "print(lines_df.shape)"
      ]
    },
    {
      "cell_type": "code",
      "execution_count": 382,
      "metadata": {
        "colab": {
          "base_uri": "https://localhost:8080/",
          "height": 206
        },
        "id": "VKfwsl0MR6EU",
        "outputId": "7c6f5210-001f-401d-b3a8-72195ed69ac2"
      },
      "outputs": [
        {
          "data": {
            "text/html": [
              "<div>\n",
              "<style scoped>\n",
              "    .dataframe tbody tr th:only-of-type {\n",
              "        vertical-align: middle;\n",
              "    }\n",
              "\n",
              "    .dataframe tbody tr th {\n",
              "        vertical-align: top;\n",
              "    }\n",
              "\n",
              "    .dataframe thead th {\n",
              "        text-align: right;\n",
              "    }\n",
              "</style>\n",
              "<table border=\"1\" class=\"dataframe\">\n",
              "  <thead>\n",
              "    <tr style=\"text-align: right;\">\n",
              "      <th></th>\n",
              "      <th>chId1</th>\n",
              "      <th>chId2</th>\n",
              "      <th>mId</th>\n",
              "      <th>lineList</th>\n",
              "    </tr>\n",
              "  </thead>\n",
              "  <tbody>\n",
              "    <tr>\n",
              "      <th>0</th>\n",
              "      <td>u0</td>\n",
              "      <td>u2</td>\n",
              "      <td>m0</td>\n",
              "      <td>['L194' 'L195' 'L196' 'L197']</td>\n",
              "    </tr>\n",
              "    <tr>\n",
              "      <th>1</th>\n",
              "      <td>u0</td>\n",
              "      <td>u2</td>\n",
              "      <td>m0</td>\n",
              "      <td>['L198' 'L199']</td>\n",
              "    </tr>\n",
              "    <tr>\n",
              "      <th>2</th>\n",
              "      <td>u0</td>\n",
              "      <td>u2</td>\n",
              "      <td>m0</td>\n",
              "      <td>['L200' 'L201' 'L202' 'L203']</td>\n",
              "    </tr>\n",
              "    <tr>\n",
              "      <th>3</th>\n",
              "      <td>u0</td>\n",
              "      <td>u2</td>\n",
              "      <td>m0</td>\n",
              "      <td>['L204' 'L205' 'L206']</td>\n",
              "    </tr>\n",
              "    <tr>\n",
              "      <th>4</th>\n",
              "      <td>u0</td>\n",
              "      <td>u2</td>\n",
              "      <td>m0</td>\n",
              "      <td>['L207' 'L208']</td>\n",
              "    </tr>\n",
              "  </tbody>\n",
              "</table>\n",
              "</div>"
            ],
            "text/plain": [
              "  chId1 chId2 mId                       lineList\n",
              "0    u0    u2  m0  ['L194' 'L195' 'L196' 'L197']\n",
              "1    u0    u2  m0                ['L198' 'L199']\n",
              "2    u0    u2  m0  ['L200' 'L201' 'L202' 'L203']\n",
              "3    u0    u2  m0         ['L204' 'L205' 'L206']\n",
              "4    u0    u2  m0                ['L207' 'L208']"
            ]
          },
          "execution_count": 382,
          "metadata": {},
          "output_type": "execute_result"
        }
      ],
      "source": [
        "column_names = ['chId1', 'chId2','mId', 'lineList']\n",
        "conversations_df = pd.read_csv('movie_conversations.tsv', sep='\\t',names=column_names, header=None, on_bad_lines='skip')\n",
        "conversations_df.head()"
      ]
    },
    {
      "cell_type": "code",
      "execution_count": 383,
      "metadata": {
        "colab": {
          "base_uri": "https://localhost:8080/"
        },
        "id": "y5ONCbiuSxFn",
        "outputId": "bada3669-4e02-421b-b863-2321ddaaba7e"
      },
      "outputs": [
        {
          "name": "stdout",
          "output_type": "stream",
          "text": [
            "chId1       0.0\n",
            "chId2       0.0\n",
            "mId         0.0\n",
            "lineList    0.0\n",
            "dtype: float64\n"
          ]
        }
      ],
      "source": [
        "nan_percentage = (conversations_df.isna().mean() * 100).round(2)\n",
        "print(nan_percentage)"
      ]
    },
    {
      "cell_type": "code",
      "execution_count": 384,
      "metadata": {
        "colab": {
          "base_uri": "https://localhost:8080/"
        },
        "id": "esbuWGo6S-bb",
        "outputId": "ec57082d-ce7f-4bcd-b484-c1841d96a8fa"
      },
      "outputs": [
        {
          "name": "stdout",
          "output_type": "stream",
          "text": [
            "Total Number Of Duplicates:  0\n"
          ]
        }
      ],
      "source": [
        "# Remove duplicate rows\n",
        "duplicate_counts = lines_df.duplicated().sum()\n",
        "print(\"Total Number Of Duplicates: \", duplicate_counts)\n",
        "if duplicate_counts > 0:\n",
        "  lines_df = lines_df.drop_duplicates()"
      ]
    },
    {
      "cell_type": "code",
      "execution_count": 385,
      "metadata": {
        "colab": {
          "base_uri": "https://localhost:8080/"
        },
        "id": "9Mc8T_JoTNLt",
        "outputId": "b481ec59-4e69-493d-ce95-e0f8b09b0e12"
      },
      "outputs": [
        {
          "data": {
            "text/plain": [
              "(83097, 4)"
            ]
          },
          "execution_count": 385,
          "metadata": {},
          "output_type": "execute_result"
        }
      ],
      "source": [
        "conversations_df.shape"
      ]
    },
    {
      "cell_type": "code",
      "execution_count": 386,
      "metadata": {
        "colab": {
          "base_uri": "https://localhost:8080/"
        },
        "id": "hQHi7i2YTXTf",
        "outputId": "efa827b6-892a-4ce6-af63-4a578fe563ae"
      },
      "outputs": [
        {
          "name": "stdout",
          "output_type": "stream",
          "text": [
            "<class 'pandas.core.frame.DataFrame'>\n",
            "RangeIndex: 83097 entries, 0 to 83096\n",
            "Data columns (total 4 columns):\n",
            " #   Column    Non-Null Count  Dtype \n",
            "---  ------    --------------  ----- \n",
            " 0   chId1     83097 non-null  object\n",
            " 1   chId2     83097 non-null  object\n",
            " 2   mId       83097 non-null  object\n",
            " 3   lineList  83097 non-null  object\n",
            "dtypes: object(4)\n",
            "memory usage: 2.5+ MB\n"
          ]
        }
      ],
      "source": [
        "conversations_df.info()"
      ]
    },
    {
      "cell_type": "code",
      "execution_count": 387,
      "metadata": {
        "colab": {
          "base_uri": "https://localhost:8080/",
          "height": 206
        },
        "id": "_zRbFNgDTeKz",
        "outputId": "4a1b2de6-394d-40cc-e92c-a3e0ecdcbf14"
      },
      "outputs": [
        {
          "data": {
            "text/html": [
              "<div>\n",
              "<style scoped>\n",
              "    .dataframe tbody tr th:only-of-type {\n",
              "        vertical-align: middle;\n",
              "    }\n",
              "\n",
              "    .dataframe tbody tr th {\n",
              "        vertical-align: top;\n",
              "    }\n",
              "\n",
              "    .dataframe thead th {\n",
              "        text-align: right;\n",
              "    }\n",
              "</style>\n",
              "<table border=\"1\" class=\"dataframe\">\n",
              "  <thead>\n",
              "    <tr style=\"text-align: right;\">\n",
              "      <th></th>\n",
              "      <th>mId</th>\n",
              "      <th>mName</th>\n",
              "      <th>url</th>\n",
              "    </tr>\n",
              "  </thead>\n",
              "  <tbody>\n",
              "    <tr>\n",
              "      <th>0</th>\n",
              "      <td>m0</td>\n",
              "      <td>10 things i hate about you</td>\n",
              "      <td>http://www.dailyscript.com/scripts/10Things.html</td>\n",
              "    </tr>\n",
              "    <tr>\n",
              "      <th>1</th>\n",
              "      <td>m1</td>\n",
              "      <td>1492: conquest of paradise</td>\n",
              "      <td>http://www.hundland.org/scripts/1492-ConquestO...</td>\n",
              "    </tr>\n",
              "    <tr>\n",
              "      <th>2</th>\n",
              "      <td>m2</td>\n",
              "      <td>15 minutes</td>\n",
              "      <td>http://www.dailyscript.com/scripts/15minutes.html</td>\n",
              "    </tr>\n",
              "    <tr>\n",
              "      <th>3</th>\n",
              "      <td>m3</td>\n",
              "      <td>2001: a space odyssey</td>\n",
              "      <td>http://www.scifiscripts.com/scripts/2001.txt</td>\n",
              "    </tr>\n",
              "    <tr>\n",
              "      <th>4</th>\n",
              "      <td>m4</td>\n",
              "      <td>48 hrs.</td>\n",
              "      <td>http://www.awesomefilm.com/script/48hours.txt</td>\n",
              "    </tr>\n",
              "  </tbody>\n",
              "</table>\n",
              "</div>"
            ],
            "text/plain": [
              "  mId                       mName  \\\n",
              "0  m0  10 things i hate about you   \n",
              "1  m1  1492: conquest of paradise   \n",
              "2  m2                  15 minutes   \n",
              "3  m3       2001: a space odyssey   \n",
              "4  m4                     48 hrs.   \n",
              "\n",
              "                                                 url  \n",
              "0   http://www.dailyscript.com/scripts/10Things.html  \n",
              "1  http://www.hundland.org/scripts/1492-ConquestO...  \n",
              "2  http://www.dailyscript.com/scripts/15minutes.html  \n",
              "3       http://www.scifiscripts.com/scripts/2001.txt  \n",
              "4      http://www.awesomefilm.com/script/48hours.txt  "
            ]
          },
          "execution_count": 387,
          "metadata": {},
          "output_type": "execute_result"
        }
      ],
      "source": [
        "column_names = ['mId','mName','url']\n",
        "rawScript_df = pd.read_csv('raw_script_urls.tsv', sep='\\t', names=column_names, header=None,on_bad_lines='skip')\n",
        "rawScript_df.head()"
      ]
    },
    {
      "cell_type": "code",
      "execution_count": 388,
      "metadata": {
        "colab": {
          "base_uri": "https://localhost:8080/"
        },
        "id": "tcBC4iS3XdTu",
        "outputId": "b18768dd-6b57-402c-c332-3227eca3edb4"
      },
      "outputs": [
        {
          "data": {
            "text/plain": [
              "(617, 3)"
            ]
          },
          "execution_count": 388,
          "metadata": {},
          "output_type": "execute_result"
        }
      ],
      "source": [
        "rawScript_df.shape"
      ]
    },
    {
      "cell_type": "code",
      "execution_count": 389,
      "metadata": {
        "colab": {
          "base_uri": "https://localhost:8080/"
        },
        "id": "JjX-HcH-UKo2",
        "outputId": "1fe5db35-d13f-4454-a6c5-7d60ce13dd9a"
      },
      "outputs": [
        {
          "name": "stdout",
          "output_type": "stream",
          "text": [
            "mId      0.00\n",
            "mName    0.16\n",
            "url      0.16\n",
            "dtype: float64\n"
          ]
        }
      ],
      "source": [
        "nan_percentage = (rawScript_df.isna().mean() * 100).round(2)\n",
        "print(nan_percentage)"
      ]
    },
    {
      "cell_type": "code",
      "execution_count": 390,
      "metadata": {
        "id": "Lc6lSahKUQQs"
      },
      "outputs": [],
      "source": [
        "# Remove rows with NaN values\n",
        "rawScript_df = rawScript_df.dropna()"
      ]
    },
    {
      "cell_type": "code",
      "execution_count": 391,
      "metadata": {
        "colab": {
          "base_uri": "https://localhost:8080/"
        },
        "id": "VDCN_3fNUd8L",
        "outputId": "4c123095-72da-4951-c0d2-c3a0cb810e85"
      },
      "outputs": [
        {
          "name": "stdout",
          "output_type": "stream",
          "text": [
            "Total Number Of Duplicates:  0\n"
          ]
        }
      ],
      "source": [
        "# Remove duplicate rows\n",
        "duplicate_counts = rawScript_df.duplicated().sum()\n",
        "print(\"Total Number Of Duplicates: \", duplicate_counts)\n",
        "if duplicate_counts > 0:\n",
        "  rawScript_df = rawScript_df.drop_duplicates()"
      ]
    },
    {
      "cell_type": "code",
      "execution_count": 392,
      "metadata": {
        "colab": {
          "base_uri": "https://localhost:8080/"
        },
        "id": "lNsyhCfyXljO",
        "outputId": "9755ed0e-ca48-48dc-e8a2-bc2158dbd2e1"
      },
      "outputs": [
        {
          "data": {
            "text/plain": [
              "(616, 3)"
            ]
          },
          "execution_count": 392,
          "metadata": {},
          "output_type": "execute_result"
        }
      ],
      "source": [
        "rawScript_df.shape"
      ]
    },
    {
      "cell_type": "markdown",
      "metadata": {},
      "source": [
        "Here are the list of initial dataframes:\n",
        "1. characters_df\n",
        "2. titles_df\n",
        "3. conversations_df\n",
        "4. rawScript_df\n",
        "5. lines_df"
      ]
    },
    {
      "cell_type": "code",
      "execution_count": 393,
      "metadata": {},
      "outputs": [
        {
          "name": "stdout",
          "output_type": "stream",
          "text": [
            "Number of unique movies: 569\n"
          ]
        }
      ],
      "source": [
        "unique_movies_count = characters_df['mId'].nunique()\n",
        "print(\"Number of unique movies:\", unique_movies_count)"
      ]
    },
    {
      "cell_type": "code",
      "execution_count": 394,
      "metadata": {},
      "outputs": [
        {
          "name": "stdout",
          "output_type": "stream",
          "text": [
            "Movies in titles_df but not in characters_df: ['m321', 'm588', 'm75', 'm457', 'm291', 'm600', 'm456', 'm412', 'm337', 'm273', 'm96', 'm338', 'm48', 'm602', 'm181', 'm614', 'm69', 'm364', 'm275', 'm593', 'm314', 'm120', 'm475', 'm565', 'm603', 'm270', 'm134', 'm388', 'm307', 'm115', 'm483', 'm406', 'm237', 'm236', 'm605', 'm430', 'm135', 'm536', 'm488', 'm308', 'm521', 'm484', 'm616', 'm251', 'm160', 'm535', 'm64']\n",
            "Movies in characters_df but not in titles_df: []\n"
          ]
        }
      ],
      "source": [
        "# Movies in titles_df but not in characters_df\n",
        "movies_in_titles_not_in_characters = set(titles_df['mId']) - set(characters_df['mId'])\n",
        "\n",
        "# Movies in characters_df but not in titles_df\n",
        "movies_in_characters_not_in_titles = set(characters_df['mId']) - set(titles_df['mId'])\n",
        "\n",
        "# Convert the sets to lists for easier handling or further analysis\n",
        "movies_in_titles_not_in_characters_list = list(movies_in_titles_not_in_characters)\n",
        "movies_in_characters_not_in_titles_list = list(movies_in_characters_not_in_titles)\n",
        "\n",
        "print(\"Movies in titles_df but not in characters_df:\", movies_in_titles_not_in_characters_list)\n",
        "print(\"Movies in characters_df but not in titles_df:\", movies_in_characters_not_in_titles_list)\n"
      ]
    },
    {
      "cell_type": "code",
      "execution_count": 395,
      "metadata": {},
      "outputs": [
        {
          "name": "stdout",
          "output_type": "stream",
          "text": [
            "Dimension Of Charaters Dataframe (2679, 6)\n",
            "Dimension Of Merged Character Dataframe (2679, 10)\n"
          ]
        },
        {
          "data": {
            "text/html": [
              "<div>\n",
              "<style scoped>\n",
              "    .dataframe tbody tr th:only-of-type {\n",
              "        vertical-align: middle;\n",
              "    }\n",
              "\n",
              "    .dataframe tbody tr th {\n",
              "        vertical-align: top;\n",
              "    }\n",
              "\n",
              "    .dataframe thead th {\n",
              "        text-align: right;\n",
              "    }\n",
              "</style>\n",
              "<table border=\"1\" class=\"dataframe\">\n",
              "  <thead>\n",
              "    <tr style=\"text-align: right;\">\n",
              "      <th></th>\n",
              "      <th>chId</th>\n",
              "      <th>chName</th>\n",
              "      <th>mId</th>\n",
              "      <th>mName</th>\n",
              "      <th>gender</th>\n",
              "      <th>posCredits</th>\n",
              "      <th>mYear</th>\n",
              "      <th>mRating</th>\n",
              "      <th>mVotes</th>\n",
              "      <th>mGenre</th>\n",
              "    </tr>\n",
              "  </thead>\n",
              "  <tbody>\n",
              "    <tr>\n",
              "      <th>0</th>\n",
              "      <td>u0</td>\n",
              "      <td>BIANCA</td>\n",
              "      <td>m0</td>\n",
              "      <td>10 things i hate about you</td>\n",
              "      <td>F</td>\n",
              "      <td>4</td>\n",
              "      <td>1999</td>\n",
              "      <td>6.9</td>\n",
              "      <td>62847.0</td>\n",
              "      <td>['comedy' 'romance']</td>\n",
              "    </tr>\n",
              "    <tr>\n",
              "      <th>1</th>\n",
              "      <td>u2</td>\n",
              "      <td>CAMERON</td>\n",
              "      <td>m0</td>\n",
              "      <td>10 things i hate about you</td>\n",
              "      <td>M</td>\n",
              "      <td>3</td>\n",
              "      <td>1999</td>\n",
              "      <td>6.9</td>\n",
              "      <td>62847.0</td>\n",
              "      <td>['comedy' 'romance']</td>\n",
              "    </tr>\n",
              "    <tr>\n",
              "      <th>2</th>\n",
              "      <td>u4</td>\n",
              "      <td>JOEY</td>\n",
              "      <td>m0</td>\n",
              "      <td>10 things i hate about you</td>\n",
              "      <td>M</td>\n",
              "      <td>6</td>\n",
              "      <td>1999</td>\n",
              "      <td>6.9</td>\n",
              "      <td>62847.0</td>\n",
              "      <td>['comedy' 'romance']</td>\n",
              "    </tr>\n",
              "    <tr>\n",
              "      <th>3</th>\n",
              "      <td>u5</td>\n",
              "      <td>KAT</td>\n",
              "      <td>m0</td>\n",
              "      <td>10 things i hate about you</td>\n",
              "      <td>F</td>\n",
              "      <td>2</td>\n",
              "      <td>1999</td>\n",
              "      <td>6.9</td>\n",
              "      <td>62847.0</td>\n",
              "      <td>['comedy' 'romance']</td>\n",
              "    </tr>\n",
              "    <tr>\n",
              "      <th>4</th>\n",
              "      <td>u6</td>\n",
              "      <td>MANDELLA</td>\n",
              "      <td>m0</td>\n",
              "      <td>10 things i hate about you</td>\n",
              "      <td>F</td>\n",
              "      <td>7</td>\n",
              "      <td>1999</td>\n",
              "      <td>6.9</td>\n",
              "      <td>62847.0</td>\n",
              "      <td>['comedy' 'romance']</td>\n",
              "    </tr>\n",
              "  </tbody>\n",
              "</table>\n",
              "</div>"
            ],
            "text/plain": [
              "  chId    chName mId                       mName gender posCredits  mYear  \\\n",
              "0   u0    BIANCA  m0  10 things i hate about you      F          4   1999   \n",
              "1   u2   CAMERON  m0  10 things i hate about you      M          3   1999   \n",
              "2   u4      JOEY  m0  10 things i hate about you      M          6   1999   \n",
              "3   u5       KAT  m0  10 things i hate about you      F          2   1999   \n",
              "4   u6  MANDELLA  m0  10 things i hate about you      F          7   1999   \n",
              "\n",
              "   mRating   mVotes                mGenre  \n",
              "0      6.9  62847.0  ['comedy' 'romance']  \n",
              "1      6.9  62847.0  ['comedy' 'romance']  \n",
              "2      6.9  62847.0  ['comedy' 'romance']  \n",
              "3      6.9  62847.0  ['comedy' 'romance']  \n",
              "4      6.9  62847.0  ['comedy' 'romance']  "
            ]
          },
          "execution_count": 395,
          "metadata": {},
          "output_type": "execute_result"
        }
      ],
      "source": [
        "detailed_characters_df = characters_df.merge(titles_df[['mId', 'mYear', 'mRating', 'mVotes', 'mGenre']], on='mId', how='left')\n",
        "print(\"Dimension Of Charaters Dataframe\",characters_df.shape)\n",
        "print(\"Dimension Of Merged Character Dataframe\",detailed_characters_df.shape)\n",
        "detailed_characters_df.head()"
      ]
    },
    {
      "cell_type": "code",
      "execution_count": 396,
      "metadata": {},
      "outputs": [
        {
          "name": "stdout",
          "output_type": "stream",
          "text": [
            "Total Number Of Duplicates:  0\n"
          ]
        }
      ],
      "source": [
        "duplicate_counts = detailed_characters_df.duplicated().sum()\n",
        "print(\"Total Number Of Duplicates: \", duplicate_counts)"
      ]
    },
    {
      "cell_type": "code",
      "execution_count": 397,
      "metadata": {},
      "outputs": [
        {
          "name": "stdout",
          "output_type": "stream",
          "text": [
            "chId          0.0\n",
            "chName        0.0\n",
            "mId           0.0\n",
            "mName         0.0\n",
            "gender        0.0\n",
            "posCredits    0.0\n",
            "mYear         0.0\n",
            "mRating       0.0\n",
            "mVotes        0.0\n",
            "mGenre        0.0\n",
            "dtype: float64\n"
          ]
        }
      ],
      "source": [
        "nan_percentage = (detailed_characters_df.isna().mean() * 100).round(2)\n",
        "print(nan_percentage)"
      ]
    },
    {
      "cell_type": "code",
      "execution_count": 398,
      "metadata": {},
      "outputs": [
        {
          "name": "stdout",
          "output_type": "stream",
          "text": [
            "Characters in lines_df but not in detailed_characters_df: ['u4377', 'u14', 'u1560', 'u2631', 'u4767', 'u133', 'u3827', 'u211', 'u8478', 'u4308', 'u3577', 'u458', 'u5762', 'u7487', 'u7444', 'u4813', 'u2896', 'u8691', 'u491', 'u5046', 'u2676', 'u2468', 'u8920', 'u2239', 'u8031', 'u5578', 'u3741', 'u2811', 'u7567', 'u995', 'u6120', 'u3554', 'u4482', 'u4825', 'u473', 'u3841', 'u1465', 'u6753', 'u3244', 'u627', 'u7140', 'u4798', 'u844', 'u1246', 'u5436', 'u8518', 'u4842', 'u5317', 'u368', 'u2484', 'u8459', 'u8294', 'u6472', 'u4793', 'u4729', 'u584', 'u7271', 'u6058', 'u2831', 'u8363', 'u8795', 'u8692', 'u146', 'u53', 'u6645', 'u4338', 'u3350', 'u5324', 'u7153', 'u2093', 'u7317', 'u7902', 'u2379', 'u4228', 'u4775', 'u8773', 'u4904', 'u577', 'u6743', 'u5645', 'u40', 'u187', 'u4206', 'u5533', 'u940', 'u9005', 'u4672', 'u6869', 'u7286', 'u4026', 'u8852', 'u3492', 'u2278', 'u561', 'u845', 'u8982', 'u2076', 'u4265', 'u762', 'u882', 'u8599', 'u903', 'u6478', 'u1403', 'u7090', 'u2007', 'u325', 'u3929', 'u1565', 'u4093', 'u6540', 'u8413', 'u8753', 'u4272', 'u7510', 'u3196', 'u5013', 'u8143', 'u543', 'u3734', 'u5128', 'u4070', 'u1256', 'u758', 'u3240', 'u4816', 'u2337', 'u1109', 'u5207', 'u7775', 'u7878', 'u693', 'u7967', 'u8423', 'u4306', 'u4508', 'u5405', 'u3643', 'u8995', 'u6181', 'u5974', 'u6366', 'u4511', 'u8507', 'u8924', 'u8474', 'u7689', 'u4966', 'u5266', 'u4670', 'u210', 'u4712', 'u6198', 'u2463', 'u8942', 'u6350', 'u5481', 'u1157', 'u5850', 'u2290', 'u7013', 'u3584', 'u1559', 'u1053', 'u5910', 'u1367', 'u2062', 'u554', 'u201', 'u2660', 'u1917', 'u5300', 'u6364', 'u1791', 'u7309', 'u8603', 'u6816', 'u3524', 'u5060', 'u1892', 'u3962', 'u8324', 'u1207', 'u5893', 'u2073', 'u3403', 'u4170', 'u5393', 'u692', 'u5047', 'u8320', 'u5475', 'u8649', 'u4053', 'u6708', 'u5127', 'u6372', 'u5824', 'u2380', 'u8817', 'u4044', 'u4674', 'u4497', 'u141', 'u1342', 'u8411', 'u506', 'u7794', 'u7960', 'u1802', 'u6738', 'u6014', 'u4818', 'u6390', 'u8981', 'u830', 'u1932', 'u6785', 'u8339', 'u2476', 'u1736', 'u2598', 'u4242', 'u5947', 'u5438', 'u1034', 'u1479', 'u831', 'u4185', 'u5877', 'u6694', 'u7601', 'u1274', 'u7304', 'u7740', 'u8608', 'u7035', 'u4120', 'u4629', 'u5493', 'u4967', 'u3858', 'u1371', 'u6212', 'u2242', 'u4464', 'u2156', 'u1927', 'u7746', 'u8166', 'u5619', 'u25', 'u8560', 'u245', 'u4829', 'u7627', 'u3588', 'u8908', 'u5122', 'u8997', 'u2871', 'u6360', 'u6528', 'u8998', 'u4189', 'u7191', 'u3740', 'u4526', 'u8001', 'u451', 'u7623', 'u994', 'u6562', 'u1052', 'u6925', 'u4406', 'u5480', 'u8936', 'u652', 'u6516', 'u343', 'u3817', 'u6547', 'u4532', 'u5836', 'u1411', 'u1811', 'u7420', 'u6594', 'u8595', 'u2624', 'u2491', 'u1402', 'u6923', 'u4568', 'u7626', 'u3748', 'u5510', 'u8388', 'u6573', 'u2781', 'u225', 'u8161', 'u1579', 'u1168', 'u8267', 'u6726', 'u4382', 'u4474', 'u8436', 'u1105', 'u6117', 'u4676', 'u8654', 'u1664', 'u7654', 'u4327', 'u2181', 'u3267', 'u8655', 'u3151', 'u8010', 'u6582', 'u6422', 'u423', 'u2664', 'u3202', 'u1721', 'u7587', 'u1304', 'u4355', 'u3537', 'u5012', 'u4792', 'u6825', 'u6498', 'u7390', 'u977', 'u7839', 'u538', 'u3298', 'u8270', 'u4861', 'u6984', 'u3507', 'u1336', 'u4237', 'u2712', 'u3113', 'u470', 'u1126', 'u4733', 'u2407', 'u5069', 'u8921', 'u3838', 'u908', 'u1960', 'u6479', 'u4465', 'u7449', 'u5558', 'u2079', 'u8016', 'u7922', 'u6598', 'u3401', 'u4002', 'u2716', 'u7453', 'u3155', 'u4457', 'u6852', 'u7480', 'u2372', 'u6448', 'u3526', 'u3085', 'u2689', 'u6988', 'u1431', 'u5110', 'u5482', 'u3457', 'u284', 'u2925', 'u6559', 'u5587', 'u121', 'u4962', 'u8549', 'u8736', 'u3573', 'u5092', 'u1821', 'u8537', 'u2867', 'u3439', 'u365', 'u4186', 'u1942', 'u6445', 'u8296', 'u934', 'u2920', 'u8710', 'u1992', 'u259', 'u6086', 'u9025', 'u5699', 'u3705', 'u4191', 'u8367', 'u82', 'u5677', 'u1251', 'u4738', 'u1549', 'u3969', 'u45', 'u8841', 'u1038', 'u1553', 'u2083', 'u6596', 'u8068', 'u8906', 'u1723', 'u4744', 'u2098', 'u8160', 'u2171', 'u5462', 'u602', 'u7438', 'u3564', 'u8556', 'u5295', 'u3999', 'u4488', 'u5102', 'u8336', 'u7201', 'u3109', 'u3907', 'u277', 'u6995', 'u6002', 'u2431', 'u2536', 'u8223', 'u3449', 'u7865', 'u1771', 'u6882', 'u7270', 'u753', 'u5801', 'u3676', 'u7773', 'u6674', 'u6151', 'u5907', 'u7358', 'u8479', 'u534', 'u3898', 'u6067', 'u2032', 'u134', 'u4097', 'u7051', 'u3051', 'u4333', 'u6183', 'u2132', 'u950', 'u2096', 'u8452', 'u2795', 'u2139', 'u8573', 'u8929', 'u2819', 'u970', 'u7764', 'u8118', 'u1365', 'u7704', 'u2953', 'u9009', 'u7362', 'u5797', 'u5868', 'u7316', 'u4609', 'u4379', 'u8013', 'u2247', 'u4038', 'u4917', 'u2921', 'u4429', 'u2043', 'u1398', 'u8167', 'u7732', 'u2367', 'u3190', 'u8955', 'u1909', 'u440', 'u5085', 'u853', 'u5387', 'u2044', 'u8704', 'u8101', 'u361', 'u2984', 'u3472', 'u6799', 'u7196', 'u5521', 'u1481', 'u2810', 'u6105', 'u4608', 'u3774', 'u3718', 'u2775', 'u7044', 'u7693', 'u5708', 'u1467', 'u7624', 'u3107', 'u8702', 'u3371', 'u7150', 'u1332', 'u5789', 'u7281', 'u6759', 'u2772', 'u79', 'u1072', 'u782', 'u5990', 'u7638', 'u4062', 'u1828', 'u3886', 'u2117', 'u2833', 'u5314', 'u7096', 'u2948', 'u513', 'u4220', 'u2231', 'u4069', 'u607', 'u1778', 'u1800', 'u1430', 'u6029', 'u5717', 'u4437', 'u1599', 'u973', 'u6994', 'u8765', 'u4745', 'u9018', 'u6661', 'u6108', 'u3047', 'u1809', 'u7862', 'u1528', 'u7401', 'u6898', 'u7827', 'u5644', 'u876', 'u7829', 'u8888', 'u63', 'u8516', 'u1850', 'u5701', 'u4414', 'u1958', 'u4814', 'u4351', 'u4443', 'u8044', 'u4581', 'u1254', 'u2517', 'u172', 'u1704', 'u8636', 'u1134', 'u7616', 'u6475', 'u5530', 'u6721', 'u5794', 'u3193', 'u8098', 'u7024', 'u2268', 'u6178', 'u2100', 'u7583', 'u2816', 'u8939', 'u3768', 'u3003', 'u3737', 'u8037', 'u4045', 'u3830', 'u3978', 'u941', 'u2364', 'u3994', 'u6960', 'u2645', 'u2584', 'u370', 'u1841', 'u947', 'u1152', 'u4565', 'u4653', 'u6213', 'u8120', 'u5293', 'u6202', 'u5855', 'u5058', 'u2753', 'u5464', 'u7695', 'u1511', 'u170', 'u294', 'u4702', 'u5892', 'u4563', 'u5209', 'u2413', 'u5045', 'u7996', 'u1996', 'u8494', 'u1485', 'u531', 'u5912', 'u2679', 'u572', 'u3395', 'u2763', 'u2243', 'u8844', 'u5655', 'u3469', 'u1815', 'u1043', 'u6227', 'u3392', 'u620', 'u3946', 'u1445', 'u3056', 'u7290', 'u5904', 'u207', 'u1895', 'u3595', 'u3769', 'u3837', 'u5713', 'u8610', 'u1033', 'u647', 'u8668', 'u2745', 'u3835', 'u5237', 'u6343', 'u1845', 'u7162', 'u6681', 'u6831', 'u966', 'u7793', 'u6602', 'u1466', 'u1953', 'u6162', 'u5994', 'u1179', 'u2964', 'u4273', 'u438', 'u2657', 'u2669', 'u6796', 'u1004', 'u4446', 'u6080', 'u1606', 'u8755', 'u3528', 'u6841', 'u1474', 'u7496', 'u3940', 'u4545', 'u5554', 'u4598', 'u1159', 'u267', 'u6144', 'u7989', 'u1665', 'u3280', 'u8473', 'u2765', 'u3754', 'u7991', 'u514', 'u396', 'u4644', 'u4647', 'u6895', 'u2154', 'u2390', 'u4926', 'u5650', 'u6474', 'u2031', 'u484', 'u4172', 'u7241', 'u8090', 'u1733', 'u6810', 'u7705', 'u138', 'u8115', 'u2099', 'u7071', 'u7774', 'u5769', 'u8978', 'u1063', 'u4975', 'u5765', 'u6244', 'u5626', 'u3624', 'u1140', 'u411', 'u7724', 'u8700', 'u1073', 'u5851', 'u7600', 'u850', 'u4678', 'u8458', 'u4487', 'u1260', 'u568', 'u6662', 'u8632', 'u3580', 'u4783', 'u5053', 'u617', 'u177', 'u716', 'u1920', 'u385', 'u2607', 'u6604', 'u3977', 'u351', 'u6194', 'u4335', 'u8572', 'u8477', 'u678', 'u7880', 'u933', 'u1142', 'u2767', 'u3617', 'u5579', 'u4226', 'u3029', 'u3317', 'u5514', 'u7681', 'u8457', 'u6588', 'u7647', 'u1218', 'u3484', 'u2189', 'u8315', 'u7613', 'u8256', 'u1348', 'u1011', 'u2761', 'u3902', 'u2376', 'u3312', 'u2533', 'u5848', 'u6206', 'u4313', 'u8360', 'u811', 'u4694', 'u4905', 'u5089', 'u5309', 'u7250', 'u8994', 'u3793', 'u3496', 'u54', 'u89', 'u6295', 'u7971', 'u1714', 'u2933', 'u8626', 'u7618', 'u3200', 'u3094', 'u1677', 'u4968', 'u4542', 'u4834', 'u4461', 'u270', 'u65', 'u1065', 'u7607', 'u7578', 'u7555', 'u1297', 'u1076', 'u5111', 'u7131', 'u2335', 'u8597', 'u4579', 'u381', 'u4854', 'u3077', 'u565', 'u3434', 'u285', 'u2740', 'u4773', 'u1908', 'u1963', 'u2432', 'u2146', 'u631', 'u7595', 'u5812', 'u6966', 'u8607', 'u5402', 'u373', 'u1020', 'u5476', 'u2869', 'u2185', 'u5629', 'u5520', 'u8319', 'u7136', 'u7507', 'u3726', 'u1676', 'u3288', 'u3274', 'u6811', 'u6263', 'u8327', 'u8154', 'u1938', 'u7331', 'u2051', 'u7744', 'u5569', 'u5442', 'u8422', 'u2666', 'u6887', 'u5721', 'u5407', 'u6964', 'u3462', 'u3148', 'u4256', 'u1825', 'u8504', 'u6533', 'u8486', 'u7456', 'u8247', 'u8306', 'u3163', 'u2417', 'u3460', 'u4110', 'u2581', 'u3812', 'u1863', 'u4570', 'u7861', 'u5693', 'u1812', 'u2006', 'u1872', 'u3548', 'u6066', 'u4955', 'u6791', 'u2232', 'u4247', 'u5649', 'u6380', 'u2358', 'u8856', 'u7015', 'u2035', 'u8986', 'u5932', 'u9004', 'u7171', 'u1422', 'u3854', 'u8528', 'u3723', 'u4489', 'u6963', 'u2878', 'u722', 'u1546', 'u3771', 'u748', 'u8238', 'u475', 'u7067', 'u2985', 'u5087', 'u7660', 'u767', 'u2179', 'u3859', 'u1570', 'u9034', 'u7399', 'u2694', 'u7679', 'u3881', 'u2393', 'u5088', 'u2774', 'u2524', 'u3381', 'u5126', 'u5602', 'u3582', 'u1035', 'u8047', 'u8511', 'u8962', 'u332', 'u6312', 'u8085', 'u4357', 'u271', 'u4740', 'u2976', 'u4389', 'u7285', 'u2112', 'u5158', 'u352', 'u5657', 'u15', 'u1298', 'u4363', 'u1329', 'u736', 'u202', 'u206', 'u1540', 'u8880', 'u3481', 'u3184', 'u5080', 'u7175', 'u5108', 'u773', 'u9030', 'u7875', 'u4322', 'u8857', 'u405', 'u7272', 'u6453', 'u4659', 'u8058', 'u7426', 'u3915', 'u8544', 'u212', 'u4384', 'u6038', 'u7758', 'u949', 'u3722', 'u8222', 'u3006', 'u3536', 'u5656', 'u5739', 'u4761', 'u6219', 'u216', 'u7964', 'u4730', 'u4395', 'u3046', 'u1226', 'u3030', 'u7605', 'u6483', 'u5285', 'u6369', 'u750', 'u2724', 'u5555', 'u2467', 'u2276', 'u2752', 'u3897', 'u7072', 'u780', 'u7612', 'u3996', 'u7984', 'u4124', 'u2473', 'u5156', 'u4160', 'u2626', 'u7834', 'u2056', 'u5409', 'u4872', 'u2743', 'u5673', 'u8293', 'u2338', 'u243', 'u8136', 'u6901', 'u5286', 'u1582', 'u586', 'u4096', 'u6269', 'u7115', 'u3630', 'u3111', 'u7034', 'u2257', 'u687', 'u4890', 'u7386', 'u487', 'u6195', 'u7007', 'u1888', 'u4163', 'u5396', 'u6106', 'u179', 'u7910', 'u2606', 'u2459', 'u3683', 'u205', 'u5421', 'u2696', 'u1488', 'u8061', 'u2568', 'u5573', 'u3465', 'u8690', 'u4193', 'u4336', 'u2005', 'u4567', 'u1933', 'u6773', 'u2528', 'u7376', 'u3141', 'u8427', 'u7957', 'u7321', 'u3344', 'u4864', 'u8178', 'u7176', 'u2509', 'u5401', 'u466', 'u2311', 'u6197', 'u8231', 'u2701', 'u7282', 'u374', 'u4541', 'u5142', 'u4627', 'u843', 'u8567', 'u3575', 'u357', 'u2425', 'u8972', 'u4117', 'u77', 'u5299', 'u6209', 'u558', 'u1775', 'u4891', 'u2406', 'u3325', 'u6794', 'u3306', 'u2824', 'u4282', 'u1501', 'u7402', 'u2684', 'u4687', 'u3693', 'u6876', 'u3913', 'u2472', 'u195', 'u6739', 'u4051', 'u5186', 'u4665', 'u5536', 'u8987', 'u4066', 'u1022', 'u279', 'u2961', 'u5268', 'u8111', 'u2728', 'u5516', 'u8605', 'u4022', 'u4518', 'u2103', 'u2963', 'u2458', 'u428', 'u8542', 'u5846', 'u1227', 'u1787', 'u4671', 'u931', 'u569', 'u8910', 'u6861', 'u7478', 'u3795', 'u3613', 'u4271', 'u4330', 'u8183', 'u3966', 'u8032', 'u1878', 'u4680', 'u7742', 'u2721', 'u5839', 'u4590', 'u7149', 'u4430', 'u1734', 'u3219', 'u6972', 'u474', 'u2887', 'u4483', 'u2805', 'u4291', 'u446', 'u8664', 'u5426', 'u2777', 'u1290', 'u8389', 'u957', 'u301', 'u6827', 'u5062', 'u7737', 'u1777', 'u7086', 'u974', 'u4085', 'u6228', 'u2255', 'u5506', 'u4042', 'u5155', 'u7407', 'u8539', 'u3231', 'u39', 'u218', 'u3950', 'u2559', 'u2882', 'u4275', 'u1532', 'u7382', 'u1373', 'u122', 'u4801', 'u4742', 'u1040', 'u8579', 'u1097', 'u2733', 'u6977', 'u794', 'u749', 'u6941', 'u7581', 'u644', 'u598', 'u5898', 'u6309', 'u2122', 'u4614', 'u7924', 'u2397', 'u1949', 'u2113', 'u7207', 'u2818', 'u7795', 'u6672', 'u6184', 'u4267', 'u3242', 'u83', 'u8508', 'u6635', 'u242', 'u8731', 'u8898', 'u1689', 'u4219', 'u1473', 'u3110', 'u5042', 'u6969', 'u808', 'u2223', 'u7447', 'u1814', 'u1354', 'u3698', 'u5501', 'u7886', 'u6059', 'u9028', 'u6116', 'u5577', 'u8283', 'u7193', 'u945', 'u6048', 'u4341', 'u7154', 'u900', 'u1458', 'u1327', 'u2653', 'u2683', 'u654', 'u3065', 'u6542', 'u3533', 'u905', 'u1538', 'u8738', 'u2180', 'u5734', 'u4083', 'u1621', 'u1146', 'u442', 'u4936', 'u2614', 'u1887', 'u8571', 'u5025', 'u1360', 'u2359', 'u3815', 'u2813', 'u3134', 'u3670', 'u1998', 'u3847', 'u6315', 'u3087', 'u8593', 'u3834', 'u8615', 'u1', 'u240', 'u1026', 'u2549', 'u341', 'u4156', 'u6685', 'u2233', 'u4079', 'u6894', 'u939', 'u2729', 'u4705', 'u1352', 'u6812', 'u7859', 'u4467', 'u6072', 'u4989', 'u5953', 'u8076', 'u1056', 'u681', 'u5248', 'u8913', 'u2053', 'u5896', 'u8681', 'u6031', 'u2513', 'u8616', 'u3212', 'u43', 'u6605', 'u2434', 'u6094', 'u763', 'u8288', 'u7810', 'u2479', 'u1954', 'u3620', 'u4821', 'u7011', 'u670', 'u2101', 'u1722', 'u8269', 'u7425', 'u791', 'u2306', 'u4789', 'u3954', 'u3619', 'u8779', 'u5810', 'u5831', 'u2945', 'u8380', 'u6385', 'u2620', 'u1051', 'u6530', 'u5702', 'u5132', 'u660', 'u4779', 'u3515', 'u2375', 'u8100', 'u2165', 'u8393', 'u4822', 'u1870', 'u2642', 'u2274', 'u1339', 'u6509', 'u2170', 'u9029', 'u3256', 'u6845', 'u2014', 'u1129', 'u5687', 'u6638', 'u318', 'u7486', 'u6702', 'u1208', 'u5403', 'u1137', 'u7102', 'u2936', 'u6990', 'u7783', 'u2827', 'u4073', 'u4142', 'u3378', 'u6296', 'u6992', 'u6597', 'u8868', 'u4496', 'u8234', 'u913', 'u1869', 'u6543', 'u2361', 'u3984', 'u7008', 'u5880', 'u1688', 'u7080', 'u3482', 'u6856', 'u919', 'u290', 'u5535', 'u8502', 'u4651', 'u4512', 'u3894', 'u8897', 'u5977', 'u7476', 'u8133', 'u1399', 'u4017', 'u1136', 'u4833', 'u2395', 'u2025', 'u4082', 'u7651', 'u721', 'u5229', 'u44', 'u496', 'u2623', 'u1347', 'u508', 'u5034', 'u7232', 'u5466', 'u6700', 'u3161', 'u4490', 'u4452', 'u896', 'u2445', 'u4765', 'u371', 'u1554', 'u3331', 'u2770', 'u7069', 'u5938', 'u5513', 'u2449', 'u1296', 'u2024', 'u2118', 'u694', 'u902', 'u4939', 'u2755', 'u5271', 'u6722', 'u3688', 'u6999', 'u4856', 'u3304', 'u1717', 'u6510', 'u3048', 'u4243', 'u302', 'u1569', 'u2915', 'u1015', 'u4264', 'u4090', 'u5022', 'u378', 'u8671', 'u1027', 'u4393', 'u5166', 'u4209', 'u1563', 'u3877', 'u2254', 'u3185', 'u680', 'u2410', 'u7738', 'u3896', 'u7452', 'u8342', 'u1789', 'u1156', 'u1295', 'u1509', 'u1180', 'u771', 'u5620', 'u8364', 'u1762', 'u1941', 'u2050', 'u5320', 'u829', 'u4442', 'u5624', 'u3502', 'u8566', 'u7388', 'u7079', 'u8969', 'u6917', 'u3272', 'u8442', 'u4832', 'u954', 'u541', 'u2594', 'u5131', 'u1258', 'u7253', 'u7312', 'u8340', 'u5813', 'u6083', 'u1541', 'u3936', 'u5434', 'u2236', 'u1257', 'u7200', 'u4001', 'u3761', 'u8778', 'u4246', 'u1780', 'u3885', 'u8', 'u282', 'u1148', 'u5707', 'u6264', 'u2498', 'u304', 'u6684', 'u2017', 'u8445', 'u408', 'u3836', 'u5940', 'u4920', 'u4925', 'u6028', 'u4713', 'u5301', 'u1731', 'u937', 'u6465', 'u6497', 'u6589', 'u275', 'u2744', 'u3861', 'u5463', 'u6023', 'u1924', 'u4021', 'u551', 'u7494', 'u4883', 'u8138', 'u2880', 'u300', 'u764', 'u4115', 'u507', 'u4757', 'u4973', 'u3895', 'u5428', 'u5710', 'u4645', 'u8172', 'u4830', 'u4539', 'u5121', 'u6403', 'u2650', 'u1039', 'u5187', 'u8793', 'u9002', 'u4370', 'u4367', 'u7906', 'u805', 'u3415', 'u5740', 'u273', 'u2661', 'u7440', 'u3626', 'u6251', 'u2849', 'u426', 'u4111', 'u1700', 'u4114', 'u7815', 'u7278', 'u1253', 'u346', 'u7301', 'u7969', 'u7259', 'u2647', 'u6171', 'u5061', 'u8350', 'u4119', 'u3636', 'u1773', 'u5780', 'u1681', 'u5208', 'u4800', 'u1059', 'u1483', 'u2077', 'u8432', 'u10', 'u6147', 'u7236', 'u6233', 'u1471', 'u672', 'u2565', 'u8757', 'u4666', 'u8094', 'u5114', 'u2792', 'u8904', 'u2597', 'u4957', 'u4347', 'u7568', 'u7929', 'u6538', 'u8220', 'u7400', 'u6307', 'u576', 'u1067', 'u7982', 'u1219', 'u5152', 'u1247', 'u1667', 'u4643', 'u159', 'u3785', 'u3541', 'u8827', 'u5858', 'u1666', 'u7721', 'u5308', 'u8184', 'u1489', 'u7622', 'u3297', 'u1604', 'u8307', 'u5219', 'u7209', 'u1425', 'u111', 'u2622', 'u1353', 'u3444', 'u7404', 'u398', 'u2700', 'u2801', 'u4316', 'u8926', 'u7812', 'u8322', 'u7790', 'u418', 'u1480', 'u8743', 'u3053', 'u6815', 'u4190', 'u819', 'u465', 'u3749', 'u61', 'u1504', 'u2562', 'u3181', 'u5969', 'u3389', 'u1984', 'u2125', 'u477', 'u564', 'u3348', 'u6201', 'u33', 'u2717', 'u272', 'u2930', 'u3596', 'u7369', 'u3128', 'u7178', 'u6844', 'u6376', 'u4909', 'u1865', 'u3445', 'u2300', 'u6018', 'u461', 'u4845', 'u5135', 'u6293', 'u834', 'u5252', 'u6049', 'u7776', 'u5487', 'u6699', 'u3483', 'u563', 'u5973', 'u4235', 'u7457', 'u4819', 'u5854', 'u4131', 'u165', 'u5833', 'u870', 'u1882', 'u4802', 'u7357', 'u5298', 'u8600', 'u2560', 'u7999', 'u4731', 'u6345', 'u866', 'u8271', 'u5817', 'u226', 'u4597', 'u1833', 'u2862', 'u3552', 'u5549', 'u5104', 'u2830', 'u5792', 'u524', 'u3376', 'u751', 'u8873', 'u3851', 'u6383', 'u6838', 'u1764', 'u5992', 'u8253', 'u1575', 'u3660', 'u1066', 'u3589', 'u6349', 'u8961', 'u7257', 'u6237', 'u4376', 'u7631', 'u2128', 'u4691', 'u3314', 'u386', 'u4198', 'u3586', 'u6041', 'u5228', 'u4375', 'u1439', 'u5474', 'u6518', 'u8008', 'u723', 'u6781', 'u4321', 'u2078', 'u8435', 'u1396', 'u8245', 'u6003', 'u8800', 'u3093', 'u1889', 'u5991', 'u8287', 'u1446', 'u6809', 'u3758', 'u125', 'u1935', 'u5700', 'u5957', 'u932', 'u2861', 'u7248', 'u6740', 'u2515', 'u1718', 'u4632', 'u5870', 'u2166', 'u634', 'u4137', 'u7826', 'u3249', 'u6965', 'u6627', 'u609', 'u4345', 'u5259', 'u1175', 'u76', 'u1183', 'u464', 'u1739', 'u5190', 'u1783', 'u6102', 'u2259', 'u7711', 'u983', 'u4529', 'u5460', 'u5049', 'u4797', 'u8799', 'u6061', 'u8444', 'u86', 'u6225', 'u8772', 'u7628', 'u219', 'u5014', 'u2409', 'u8007', 'u8426', 'u149', 'u476', 'u8791', 'u6575', 'u6265', 'u4703', 'u8780', 'u4610', 'u7105', 'u5685', 'u113', 'u7915', 'u8905', 'u5468', 'u3991', 'u3013', 'u2845', 'u4140', 'u6192', 'u3234', 'u4559', 'u4187', 'u6462', 'u510', 'u2067', 'u6468', 'u1562', 'u3221', 'u6505', 'u1482', 'u5631', 'u1291', 'u6683', 'u7634', 'u4880', 'u8009', 'u1692', 'u2483', 'u4332', 'u5764', 'u562', 'u256', 'u1605', 'u7432', 'u8229', 'u2917', 'u2523', 'u3473', 'u6329', 'u5786', 'u4851', 'u3021', 'u3084', 'u3260', 'u6395', 'u463', 'u1832', 'u2011', 'u969', 'u655', 'u2758', 'u2258', 'u1601', 'u2545', 'u1531', 'u1101', 'u391', 'u5278', 'u772', 'u6174', 'u5091', 'u1016', 'u7893', 'u5865', 'u637', 'u7687', 'u3839', 'u1363', 'u7429', 'u3227', 'u1139', 'u7916', 'u1104', 'u2695', 'u1968', 'u8255', 'u7844', 'u81', 'u911', 'u3191', 'u7930', 'u8540', 'u1322', 'u6897', 'u4416', 'u5019', 'u8390', 'u5123', 'u407', 'u8214', 'u3002', 'u3101', 'u2385', 'u6494', 'u1414', 'u6859', 'u415', 'u5392', 'u5218', 'u4023', 'u5115', 'u7398', 'u3989', 'u7691', 'u4340', 'u5225', 'u3968', 'u4469', 'u3505', 'u5727', 'u1880', 'u8917', 'u4711', 'u1534', 'u3783', 'u3083', 'u2283', 'u7751', 'u991', 'u2317', 'u3120', 'u1324', 'u203', 'u3786', 'u1406', 'u2979', 'u8581', 'u314', 'u5296', 'u4411', 'u24', 'u3747', 'u3770', 'u414', 'u5709', 'u8621', 'u3079', 'u8727', 'u1150', 'u8092', 'u8853', 'u4196', 'u4365', 'u3535', 'u8212', 'u6037', 'u7244', 'u5557', 'u9016', 'u7076', 'u5041', 'u6193', 'u1264', 'u9033', 'u4599', 'u6308', 'u36', 'u5418', 'u6920', 'u632', 'u6335', 'u8447', 'u3475', 'u8404', 'u8407', 'u8973', 'u755', 'u2760', 'u9027', 'u182', 'u4102', 'u4204', 'u6565', 'u5174', 'u6302', 'u2145', 'u1969', 'u4463', 'u8850', 'u8900', 'u3632', 'u5686', 'u2954', 'u5181', 'u359', 'u1820', 'u3400', 'u1781', 'u6813', 'u5884', 'u6036', 'u4149', 'u7483', 'u3981', 'u5143', 'u2022', 'u1410', 'u3776', 'u3813', 'u8158', 'u8080', 'u9024', 'u3035', 'u3165', 'u2028', 'u629', 'u7908', 'u2754', 'u4118', 'u7344', 'u8775', 'u6285', 'u4280', 'u2439', 'u4157', 'u2318', 'u639', 'u8739', 'u4227', 'u7032', 'u2681', 'u2686', 'u3928', 'u3070', 'u806', 'u2640', 'u3727', 'u860', 'u5094', 'u2437', 'u413', 'u8870', 'u168', 'u4101', 'u7822', 'u2000', 'u1726', 'u3906', 'u5171', 'u5945', 'u6536', 'u8330', 'u3074', 'u4683', 'u8241', 'u2983', 'u8846', 'u7752', 'u1268', 'u4743', 'u868', 'u7570', 'u3663', 'u3941', 'u7127', 'u7100', 'u4692', 'u5318', 'u1460', 'u841', 'u4098', 'u6268', 'u2802', 'u3292', 'u5163', 'u2091', 'u4221', 'u575', 'u4374', 'u4014', 'u4735', 'u6118', 'u4894', 'u6234', 'u3875', 'u6128', 'u6769', 'u2990', 'u7928', 'u8332', 'u778', 'u891', 'u7756', 'u3751', 'u7505', 'u6935', 'u7385', 'u291', 'u8564', 'u6411', 'u3224', 'u6352', 'u746', 'u5149', 'u1326', 'u837', 'u8872', 'u1690', 'u1786', 'u7577', 'u4640', 'u4732', 'u8014', 'u1117', 'u6752', 'u7395', 'u4399', 'u2303', 'u8756', 'u7625', 'u9026', 'u4056', 'u6959', 'u7391', 'u8449', 'u4502', 'u436', 'u1673', 'u46', 'u3347', 'u847', 'u8503', 'u1678', 'u6620', 'u8851', 'u4503', 'u4015', 'u4354', 'u7482', 'u6423', 'u2727', 'u1082', 'u7075', 'u2508', 'u158', 'u2968', 'u6386', 'u7736', 'u2040', 'u6978', 'u223', 'u7935', 'u4564', 'u1564', 'u6405', 'u4571', 'u5288', 'u5729', 'u1939', 'u610', 'u533', 'u5782', 'u8012', 'u5872', 'u4143', 'u2149', 'u2853', 'u909', 'u8064', 'u6673', 'u3824', 'u8022', 'u8541', 'u7561', 'u6996', 'u1300', 'u4583', 'u7233', 'u51', 'u1729', 'u5875', 'u7242', 'u303', 'u657', 'u6272', 'u1507', 'u4059', 'u6255', 'u69', 'u535', 'u675', 'u8911', 'u8329', 'u5659', 'u6985', 'u8882', 'u3963', 'u6087', 'u3792', 'u7239', 'u1192', 'u3291', 'u8509', 'u3095', 'u2846', 'u9011', 'u1057', 'u4159', 'u4787', 'u6501', 'u2155', 'u178', 'u1589', 'u7463', 'u662', 'u1149', 'u8845', 'u1349', 'u2905', 'u3645', 'u544', 'u3149', 'u5508', 'u5175', 'u6929', 'u4591', 'u1093', 'u7549', 'u3310', 'u6288', 'u4820', 'u2868', 'u961', 'u5430', 'u5623', 'u898', 'u3446', 'u5638', 'u7560', 'u8089', 'u793', 'u4075', 'u8586', 'u2246', 'u809', 'u3459', 'u3743', 'u5798', 'u683', 'u2567', 'u4450', 'u6918', 'u2042', 'u856', 'u4648', 'u4777', 'u7117', 'u5815', 'u3406', 'u8848', 'u4129', 'u5165', 'u1312', 'u7835', 'u661', 'u2451', 'u2652', 'u521', 'u5180', 'u430', 'u7292', 'u5023', 'u7745', 'u6892', 'u3627', 'u3625', 'u5889', 'u4506', 'u5879', 'u8875', 'u5032', 'u4899', 'u5845', 'u8051', 'u999', 'u8351', 'u1154', 'u335', 'u3949', 'u2193', 'u3801', 'u7043', 'u1030', 'u2420', 'u6253', 'u6924', 'u5459', 'u7393', 'u4510', 'u8723', 'u5564', 'u1851', 'u1567', 'u2453', 'u5665', 'u4390', 'u659', 'u7825', 'u8659', 'u2307', 'u7195', 'u3603', 'u6135', 'u7053', 'u145', 'u8635', 'u2492', 'u6723', 'u3237', 'u1705', 'u87', 'u7310', 'u5137', 'u8839', 'u1427', 'u5939', 'u2161', 'u1914', 'u4432', 'u3921', 'u2450', 'u5328', 'u3709', 'u4649', 'u310', 'u5566', 'u8235', 'u701', 'u6688', 'u2143', 'u348', 'u8532', 'u1583', 'u6584', 'u1206', 'u1716', 'u4827', 'u5588', 'u5071', 'u608', 'u5043', 'u8823', 'u1748', 'u798', 'u6634', 'u4326', 'u3650', 'u184', 'u2302', 'u1470', 'u944', 'u2672', 'u8792', 'u4453', 'u7874', 'u435', 'u3290', 'u518', 'u2097', 'u1478', 'u7692', 'u1512', 'u1824', 'u3431', 'u3721', 'u4951', 'u4388', 'u6203', 'u3383', 'u6737', 'u4536', 'u7119', 'u5255', 'u1048', 'u702', 'u2465', 'u3374', 'u3062', 'u2955', 'u2172', 'u5109', 'u8248', 'u7926', 'u8371', 'u5119', 'u3393', 'u2142', 'u2590', 'u1808', 'u150', 'u587', 'u566', 'u6006', 'u2776', 'u6262', 'u6469', 'u8748', 'u8883', 'u6273', 'u3939', 'u5260', 'u1743', 'u8744', 'u4005', 'u8592', 'u1818', 'u6164', 'u2082', 'u8451', 'u4981', 'u803', 'u7084', 'u410', 'u4971', 'u1923', 'u7064', 'u8441', 'u2217', 'u6834', 'u5862', 'u2503', 'u3832', 'u8708', 'u5242', 'u2294', 'u3066', 'u1807', 'u4639', 'u5636', 'u2865', 'u7183', 'u2348', 'u3591', 'u358', 'u3453', 'u376', 'u3523', 'u5306', 'u7371', 'u7808', 'u7346', 'u448', 'u7909', 'u3833', 'u3855', 'u3038', 'u5926', 'u6071', 'u1423', 'u6085', 'u4422', 'u5689', 'u8113', 'u7029', 'u2094', 'u4964', 'u2245', 'u3559', 'u472', 'u4855', 'u112', 'u3671', 'u3044', 'u2046', 'u4673', 'u6883', 'u7338', 'u3156', 'u7355', 'u8005', 'u2426', 'u3583', 'u8569', 'u5311', 'u2530', 'u4700', 'u789', 'u7972', 'u59', 'u8794', 'u8415', 'u3023', 'u2059', 'u2707', 'u6313', 'u4184', 'u7841', 'u6026', 'u1776', 'u1506', 'u703', 'u8806', 'u4728', 'u8526', 'u7912', 'u738', 'u2543', 'u3076', 'u6601', 'u3920', 'u3010', 'u1580', 'u1936', 'u2381', 'u7927', 'u7058', 'u4527', 'u4328', 'u6321', 'u5633', 'u1494', 'u2872', 'u8152', 'u194', 'u1001', 'u2048', 'u4400', 'u4656', 'u3396', 'u700', 'u3000', 'u5567', 'u8082', 'u5169', 'u8927', 'u8116', 'u3927', 'u784', 'u1370', 'u6078', 'u7172', 'u3840', 'u5136', 'u8696', 'u835', 'u1099', 'u1609', 'u3194', 'u3064', 'u316', 'u1816', 'u7954', 'u1536', 'u64', 'u265', 'u3850', 'u4769', 'u262', 'u8619', 'u3096', 'u3806', 'u7009', 'u4230', 'u6913', 'u6550', 'u6473', 'u2655', 'u3539', 'u8629', 'u5270', 'u7082', 'u338', 'u3041', 'u6884', 'u2757', 'u2029', 'u4986', 'u1111', 'u32', 'u3411', 'u4576', 'u673', 'u812', 'u5978', 'u4870', 'u8892', 'u2402', 'u4207', 'u7778', 'u3633', 'u7709', 'u8341', 'u5967', 'u4697', 'u1476', 'u4466', 'u6549', 'u5675', 'u4144', 'u5920', 'u6644', 'u2060', 'u6946', 'u802', 'u5052', 'u8488', 'u5547', 'u6153', 'u2403', 'u7446', 'u208', 'u6784', 'u7334', 'u8796', 'u1115', 'u7520', 'u5928', 'u6910', 'u7418', 'u7521', 'u7639', 'u5162', 'u4841', 'u6541', 'u5630', 'u3027', 'u2249', 'u4035', 'u7414', 'u635', 'u7001', 'u7041', 'u6879', 'u6325', 'u4252', 'u4391', 'u7342', 'u8331', 'u7907', 'u2580', 'u2373', 'u305', 'u7088', 'u5413', 'u129', 'u7895', 'u6835', 'u6232', 'u7445', 'u3004', 'u3384', 'u6958', 'u5083', 'u66', 'u5264', 'u6805', 'u7459', 'u3594', 'u7168', 'u4766', 'u3060', 'u6779', 'u3349', 'u1032', 'u8084', 'u4923', 'u1521', 'u7897', 'u4484', 'u3206', 'u3382', 'u7763', 'u9014', 'u729', 'u7584', 'u8662', 'u5246', 'u3534', 'u7987', 'u5635', 'u6566', 'u5723', 'u7416', 'u2345', 'u3106', 'u5788', 'u6138', 'u6032', 'u3424', 'u2613', 'u22', 'u1966', 'u6736', 'u3810', 'u4533', 'u7020', 'u7690', 'u5280', 'u2289', 'u1293', 'u6915', 'u7563', 'u4621', 'u4383', 'u4573', 'u3953', 'u4150', 'u8021', 'u2854', 'u5030', 'u4132', 'u5565', 'u7181', 'u4589', 'u6529', 'u4815', 'u5537', 'u624', 'u4116', 'u6304', 'u3788', 'u7097', 'u4716', 'u968', 'u204', 'u1911', 'u4182', 'u5882', 'u307', 'u7565', 'u5472', 'u8878', 'u2791', 'u2074', 'u4049', 'u842', 'u4004', 'u3995', 'u3354', 'u6064', 'u2440', 'u6521', 'u3268', 'u5238', 'u3346', 'u228', 'u1732', 'u5830', 'u2116', 'u4675', 'u688', 'u2682', 'u1083', 'u4146', 'u2900', 'u7495', 'u6503', 'u7921', 'u7976', 'u8189', 'u8313', 'u3958', 'u726', 'u6970', 'u13', 'u7458', 'u7848', 'u6052', 'u3422', 'u6867', 'u5050', 'u8701', 'u4799', 'u8512', 'u8665', 'u2648', 'u6905', 'u5492', 'u6629', 'u3370', 'u2907', 'u1220', 'u6319', 'u1442', 'u4628', 'u6034', 'u7615', 'u3856', 'u3063', 'u5267', 'u8379', 'u2285', 'u2201', 'u5263', 'u4236', 'u390', 'u943', 'u6025', 'u7050', 'u7606', 'u958', 'u2080', 'u2702', 'u5590', 'u5761', 'u1330', 'u4346', 'u7547', 'u8525', 'u4976', 'u2121', 'u7070', 'u3487', 'u7767', 'u6871', 'u3337', 'u2719', 'u2291', 'u7609', 'u5017', 'u395', 'u5935', 'u8169', 'u3328', 'u110', 'u8206', 'u3011', 'u5936', 'u6648', 'u4606', 'u6535', 'u1986', 'u3947', 'u4762', 'u1355', 'u5326', 'u6525', 'u5827', 'u2678', 'u8887', 'u3017', 'u175', 'u8217', 'u2579', 'u530', 'u3022', 'u1383', 'u5767', 'u5167', 'u8328', 'u5518', 'u5458', 'u8977', 'u73', 'u5178', 'u4669', 'u4253', 'u732', 'u8402', 'u6053', 'u4739', 'u6243', 'u3608', 'u1374', 'u356', 'u5509', 'u2785', 'u5217', 'u384', 'u5915', 'u8596', 'u8127', 'u1110', 'u4109', 'u7143', 'u8781', 'u8227', 'u4750', 'u6728', 'u8105', 'u3287', 'u5680', 'u7566', 'u490', 'u7923', 'u6848', 'u4138', 'u8266', 'u5028', 'u4881', 'u6651', 'u1973', 'u8408', 'u28', 'u5191', 'u8984', 'u6640', 'u6111', 'u6682', 'u4641', 'u8720', 'u1113', 'u6055', 'u2796', 'u3402', 'u7642', 'u4087', 'u4853', 'u8505', 'u8694', 'u952', 'u3772', 'u4211', 'u5249', 'u8078', 'u6806', 'u3271', 'u1857', 'u4177', 'u2349', 'u2566', 'u8302', 'u8298', 'u2937', 'u7002', 'u5275', 'u196', 'u3862', 'u8346', 'u8737', 'u6874', 'u8789', 'u5641', 'u1193', 'u8934', 'u7706', 'u3514', 'u6016', 'u5082', 'u628', 'u2706', 'u2207', 'u7699', 'u5772', 'u2764', 'u8726', 'u2736', 'u1451', 'u6586', 'u2941', 'u770', 'u744', 'u5279', 'u7056', 'u7707', 'u1912', 'u4607', 'u2427', 'u3179', 'u8747', 'u7846', 'u8673', 'u185', 'u2336', 'u8252', 'u1421', 'u4491', 'u6235', 'u1989', 'u3597', 'u6495', 'u8993', 'u5531', 'u8148', 'u1062', 'u7005', 'u5576', 'u7552', 'u8999', 'u2356', 'u1843', 'u455', 'u6904', 'u5759', 'u1710', 'u369', 'u268', 'u6621', 'u3432', 'u5660', 'u8819', 'u2102', 'u1216', 'u2881', 'u8409', 'u3296', 'u5124', 'u3477', 'u7435', 'u7273', 'u8205', 'u7018', 'u6893', 'u7852', 'u3799', 'u7022', 'u7498', 'u4436', 'u2497', 'u6076', 'u7948', 'u2891', 'u8976', 'u2663', 'u4646', 'u7604', 'u4397', 'u8812', 'u3825', 'u6172', 'u5954', 'u813', 'u4595', 'u2114', 'u4217', 'u7858', 'u8656', 'u5714', 'u8724', 'u1622', 'u432', 'u1903', 'u355', 'u4027', 'u8661', 'u8644', 'u5090', 'u8480', 'u5802', 'u6881', 'u1224', 'u7882', 'u8953', 'u7698', 'u3585', 'u80', 'u137', 'u4771', 'u8263', 'u1009', 'u989', 'u7383', 'u424', 'u6418', 'u2424', 'u8338', 'u4499', 'u522', 'u7933', 'u2430', 'u2110', 'u7365', 'u4578', 'u1301', 'u5202', 'u6513', 'u3136', 'u8820', 'u1397', 'u176', 'u6636', 'u3955', 'u4229', 'u6713', 'u5894', 'u1844', 'u1871', 'u6301', 'u3435', 'u2539', 'u3903', 'u3416', 'u7855', 'u1842', 'u6742', 'u4471', 'u5044', 'u7023', 'u8176', 'u8855', 'u8303', 'u7238', 'u2019', 'u2555', 'u4386', 'u4478', 'u8675', 'u4889', 'u2344', 'u7300', 'u2443', 'u471', 'u6670', 'u409', 'u7714', 'u4807', 'u2699', 'u7215', 'u8964', 'u1098', 'u5112', 'u2832', 'u6119', 'u3455', 'u3421', 'u4741', 'u925', 'u4231', 'u5963', 'u8760', 'u6514', 'u2662', 'u7465', 'u7871', 'u2582', 'u2540', 'u4112', 'u3429', 'u2301', 'u6355', 'u6868', 'u7092', 'u456', 'u324', 'u3', 'u6911', 'u7427', 'u7466', 'u8219', 'u4737', 'u4092', 'u3759', 'u6359', 'u4768', 'u8660', 'u3369', 'u6517', 'u7436', 'u4034', 'u6388', 'u6356', 'u6394', 'u536', 'u8420', 'u7868', 'u5147', 'u7237', 'u1055', 'u3720', 'u3637', 'u6766', 'u7780', 'u6249', 'u6051', 'u7379', 'u8305', 'u4624', 'u6241', 'u3779', 'u8735', 'u6863', 'u4616', 'u449', 'u8625', 'u6333', 'u5651', 'u7203', 'u1727', 'u776', 'u8279', 'u1879', 'u7725', 'u6092', 'u62', 'u6218', 'u786', 'u1792', 'u3909', 'u2601', 'u6814', 'u8574', 'u1486', 'u6056', 'u6998', 'u711', 'u8763', 'u7028', 'u7685', 'u8434', 'u3831', 'u1412', 'u1962', 'u2194', 'u8359', 'u6866', 'u2561', 'u8438', 'u4938', 'u6089', 'u8769', 'u213', 'u3265', 'u8381', 'u917', 'u1461', 'u1623', 'u5791', 'u2069', 'u8837', 'u5444', 'u7842', 'u7093', 'u6803', 'u7091', 'u3286', 'u6591', 'u5895', 'u4402', 'u8678', 'u5262', 'u2383', 'u8433', 'u6973', 'u2023', 'u8711', 'u6824', 'u8421', 'u2978', 'u8278', 'u4257', 'u8750', 'u1837', 'u6463', 'u1805', 'u8275', 'u4699', 'u8740', 'u5658', 'u6046', 'u825', 'u6397', 'u3356', 'u8344', 'u4392', 'u3309', 'u8558', 'u4619', 'u5086', 'u8187', 'u6081', 'u2628', 'u4970', 'u2198', 'u8930', 'u2931', 'u6828', 'u528', 'u2085', 'u4836', 'u4715', 'u8153', 'u5395', 'u5059', 'u6139', 'u4486', 'u3690', 'u4396', 'u8188', 'u7479', 'u2750', 'u2433', 'u1573', 'u5315', 'u1090', 'u2809', 'u2206', 'u8177', 'u8902', 'u5386', 'u7052', 'u1884', 'u8405', 'u2418', 'u4922', 'u8461', 'u7731', 'u3315', 'u5837', 'u1707', 'u2039', 'u7904', 'u8102', 'u8785', 'u2260', 'u6732', 'u7757', 'u5922', 'u548', 'u7490', 'u3450', 'u6124', 'u4974', 'u6152', 'u7062', 'u3673', 'u3867', 'u8317', 'u1459', 'u8002', 'u5720', 'u8318', 'u2929', 'u6186', 'u4095', 'u8056', 'u5842', 'u2362', 'u2058', 'u8333', 'u8881', 'u1141', 'u7643', 'u3610', 'u6104', 'u2212', 'u4100', 'u5038', 'u2075', 'u5799', 'u4277', 'u2731', 'u6182', 'u6476', 'u3355', 'u1334', 'u6846', 'u2248', 'u5427', 'u4067', 'u1937', 'u6508', 'u5040', 'u2016', 'u2986', 'u6452', 'u7941', 'u804', 'u2820', 'u4296', 'u233', 'u5412', 'u5212', 'u656', 'u5157', 'u8276', 'u6180', 'u2158', 'u1197', 'u8967', 'u4727', 'u7640', 'u72', 'u1029', 'u4517', 'u8667', 'u3210', 'u7081', 'u8466', 'u8652', 'u3175', 'u8481', 'u220', 'u1061', 'u7903', 'u2576', 'u1436', 'u6382', 'u57', 'u8097', 'u364', 'u8642', 'u1544', 'u6655', 'u2398', 'u3099', 'u7045', 'u3522', 'u7256', 'u7760', 'u2313', 'u6283', 'u8108', 'u988', 'u2148', 'u3300', 'u2057', 'u109', 'u4556', 'u3938', 'u3638', 'u4613', 'u4695', 'u6903', 'u8758', 'u227', 'u922', 'u3199', 'u31', 'u3358', 'u6746', 'u4431', 'u4642', 'u5239', 'u427', 'u1085', 'u2505', 'u163', 'u157', 'u7252', 'u5213', 'u7501', 'u8463', 'u58', 'u4698', 'u4812', 'u3889', 'u527', 'u7726', 'u5637', 'u8896', 'u3144', 'u7120', 'u2512', 'u7743', 'u37', 'u881', 'u8814', 'u6579', 'u1145', 'u4077', 'u2857', 'u3563', 'u3804', 'u3222', 'u7003', 'u7866', 'u3399', 'u394', 'u7851', 'u3069', 'u2960', 'u7869', 'u2527', 'u7387', 'u7040', 'u1864', 'u250', 'u6500', 'u8677', 'u3679', 'u2131', 'u2346', 'u6764', 'u5949', 'u1584', 'u7672', 'u6270', 'u3846', 'u2347', 'u8734', 'u4604', 'u4893', 'u3509', 'u8281', 'u4285', 'u6471', 'u6663', 'u5282', 'u4637', 'u3685', 'u7182', 'u2840', 'u8495', 'u4154', 'u5847', 'u1419', 'u8069', 'u5294', 'u986', 'u8515', 'u99', 'u5781', 'u4835', 'u5849', 'u433', 'u6179', 'u6842', 'u6993', 'u7589', 'u8620', 'u9008', 'u7669', 'u5774', 'u8489', 'u38', 'u6676', 'u5751', 'u1265', 'u618', 'u6957', 'u3361', 'u573', 'u4444', 'u3236', 'u3386', 'u3394', 'u8232', 'u2535', 'u8310', 'u6647', 'u5888', 'u6461', 'u7363', 'u7596', 'u4091', 'u1249', 'u4554', 'u2153', 'u4047', 'u3510', 'u7214', 'u5517', 'u8952', 'u8948', 'u3121', 'u7820', 'u8412', 'u1014', 'u774', 'u4764', 'u1211', 'u7348', 'u590', 'u5511', 'u8249', 'u5559', 'u4786', 'u8706', 'u5902', 'u4944', 'u8483', 'u5499', 'u5948', 'u2049', 'u4254', 'u3130', 'u1366', 'u6466', 'u7718', 'u3553', 'u4223', 'u8559', 'u1028', 'u7231', 'u7251', 'u8057', 'u8594', 'u8129', 'u7033', 'u3072', 'u7085', 'u5168', 'u5502', 'u8091', 'u8876', 'u8335', 'u2588', 'u7688', 'u2526', 'u2486', 'u8383', 'u117', 'u3326', 'u8233', 'u3458', 'u8719', 'u3634', 'u4287', 'u429', 'u5227', 'u1449', 'u3009', 'u3719', 'u3860', 'u4033', 'u7107', 'u788', 'u8361', 'u5852', 'u2739', 'u2635', 'u5560', 'u3490', 'u1875', 'u7392', 'u1351', 'u7246', 'u88', 'u8485', 'u6630', 'u4301', 'u1362', 'u345', 'u4063', 'u1849', 'u3226', 'u6798', 'u1472', 'u5096', 'u8562', 'u1671', 'u8531', 'u3880', 'u1382', 'u6870', 'u8497', 'u215', 'u1166', 'u161', 'u2826', 'u7753', 'u8717', 'u7094', 'u6603', 'u8243', 'u2211', 'u4862', 'u6534', 'u2677', 'u5724', 'u5113', 'u8156', 'u257', 'u4918', 'u8308', 'u3257', 'u926', 'u7755', 'u503', 'u6780', 'u1158', 'u1874', 'u3622', 'u481', 'u5777', 'u6291', 'u181', 'u8265', 'u258', 'u2599', 'u2732', 'u549', 'u3262', 'u2977', 'u5465', 'u2210', 'u7958', 'u4426', 'u8535', 'u2685', 'u6400', 'u6044', 'u7049', 'u8901', 'u8464', 'u1860', 'u7166', 'u696', 'u1526', 'u5534', 'u3593', 'u792', 'u4879', 'u3322', 'u2981', 'u1876', 'u3682', 'u7279', 'u2471', 'u7147', 'u295', 'u96', 'u2934', 'u4734', 'u6030', 'u6065', 'u5757', 'u3211', 'u3295', 'u160', 'u5903', 'u3173', 'u550', 'u705', 'u1475', 'u4024', 'u7275', 'u6170', 'u3364', 'u4877', 'u5835', 'u8813', 'u3945', 'u3299', 'u820', 'u4747', 'u6727', 'u166', 'u1064', 'u5432', 'u7137', 'u4318', 'u754', 'u1897', 'u7872', 'u5556', 'u7558', 'u2548', 'u7266', 'u1761', 'u3131', 'u6281', 'u5610', 'u8686', 'u1350', 'u8182', 'u5439', 'u5250', 'u605', 'u5589', 'u651', 'u9017', 'u6625', 'u5276', 'u5105', 'u8237', 'u2370', 'u4439', 'u17', 'u6287', 'u6077', 'u2482', 'u579', 'u5779', 'u1590', 'u5070', 'u7187', 'u7785', 'u6239', 'u965', 'u2799', 'u752', 'u5732', 'u6389', 'u5966', 'u6783', 'u2446', 'u1658', 'u3694', 'u4897', 'u2219', 'u2478', 'u7550', 'u4473', 'u5261', 'u6507', 'u3579', 'u2441', 'u1826', 'u7703', 'u8774', 'u4054', 'u1798', 'u1500', 'u3621', 'u379', 'u1060', 'u5905', 'u5159', 'u3032', 'u4010', 'u7759', 'u6531', 'u6229', 'u3170', 'u3531', 'u453', 'u186', 'u4155', 'u3733', 'u8842', 'u8159', 'u6840', 'u6763', 'u6710', 'u8520', 'u1160', 'u1369', 'u2203', 'u7421', 'u8895', 'u4479', 'u6115', 'u1377', 'u3205', 'u2174', 'u7068', 'u6336', 'u1687', 'u8550', 'u5235', 'u2178', 'u5864', 'u4932', 'u6609', 'u7350', 'u3427', 'u2187', 'u6250', 'u4617', 'u8309', 'u6392', 'u8326', 'u1555', 'u6093', 'u964', 'u2055', 'u3789', 'u8264', 'u3263', 'u4320', 'u7108', 'u790', 'u8099', 'u4513', 'u264', 'u4448', 'u6436', 'u6938', 'u583', 'u6705', 'u5056', 'u3115', 'u1341', 'u7048', 'u8922', 'u6100', 'u6316', 'u2357', 'u3821', 'u3931', 'u189', 'u2822', 'u6399', 'u7179', 'u6467', 'u3169', 'u8903', 'u4364', 'u1203', 'u315', 'u4031', 'u6786', 'u8749', 'u7027', 'u2063', 'u8707', 'u2643', 'u3666', 'u8334', 'u731', 'u2015', 'u217', 'u7450', 'u2279', 'u3426', 'u2240', 'u2998', 'u3937', 'u7741', 'u1337', 'u4052', 'u222', 'u560', 'u8134', 'u8529', 'u126', 'u2228', 'u6556', 'u3302', 'u3307', 'u5148', 'u8204', 'u7254', 'u2438', 'u6327', 'u6254', 'u3159', 'u8431', 'u4344', 'u1212', 'u499', 'u1428', 'u3078', 'u3177', 'u6607', 'u7857', 'u630', 'u7990', 'u5784', 'u6735', 'u2009', 'u26', 'u2587', 'u4784', 'u3814', 'u1386', 'u7077', 'u982', 'u3639', 'u5277', 'u5272', 'u4260', 'u1333', 'u1147', 'u7139', 'u6154', 'u4350', 'u8493', 'u4232', 'u7719', 'u4314', 'u6491', 'u7170', 'u2858', 'u5897', 'u4521', 'u2404', 'u283', 'u8601', 'u633', 'u6802', 'u7198', 'u4657', 'u824', 'u2798', 'u2703', 'u2769', 'u1813', 'u4760', 'u8257', 'u3657', 'u6368', 'u6724', 'u4811', 'u3152', 'u5878', 'u4772', 'u6839', 'u4873', 'u814', 'u8321', 'u8369', 'u3014', 'u6131', 'u8181', 'u5031', 'u7918', 'u5106', 'u1801', 'u3305', 'u6937', 'u5876', 'u6371', 'u4126', 'u6444', 'u8935', 'u5505', 'u7512', 'u2520', 'u8052', 'u6899', 'u5307', 'u1834', 'u604', 'u2823', 'u397', 'u5553', 'u7235', 'u8751', 'u3691', 'u6429', 'u2452', 'u4152', 'u2230', 'u1901', 'u1967', 'u4025', 'u2725', 'u4410', 'u1044', 'u7665', 'u5099', 'u3269', 'u8807', 'u3420', 'u2903', 'u3040', 'u4523', 'u7854', 'u1196', 'u4373', 'u5471', 'u6224', 'u3562', 'u7186', 'u2086', 'u8145', 'u4074', 'u4878', 'u9013', 'u4380', 'u7433', 'u7380', 'u3466', 'u5575', 'u8070', 'u6902', 'u1204', 'u6949', 'u3114', 'u699', 'u4701', 'u2793', 'u1289', 'u7885', 'u3360', 'u7130', 'u5258', 'u7267', 'u923', 'u6539', 'u6826', 'u4514', 'u6692', 'u709', 'u1965', 'u5859', 'u710', 'u7159', 'u3116', 'u495', 'u4018', 'u6942', 'u714', 'u3254', 'u4447', 'u4289', 'u2071', 'u7185', 'u4019', 'u7164', 'u2697', 'u7031', 'u3872', 'u3464', 'u2353', 'u235', 'u1956', 'u4543', 'u615', 'u2027', 'u2602', 'u6236', 'u2332', 'u6470', 'u1929', 'u1433', 'u8565', 'u2455', 'u8971', 'u7599', 'u127', 'u5384', 'u1114', 'u2842', 'u5648', 'u3218', 'u5500', 'u2070', 'u3653', 'u8647', 'u5609', 'u6221', 'u1847', 'u6820', 'u1995', 'u3802', 'u7326', 'u3333', 'u8079', 'u7219', 'u4736', 'u5598', 'u2493', 'u3319', 'u7240', 'u3775', 'u1058', 'u4245', 'u1031', 'u1946', 'u7571', 'u437', 'u1200', 'u1819', 'u7212', 'u2895', 'u5233', 'u1387', 'u148', 'u8879', 'u4650', 'u1182', 'u7481', 'u8291', 'u6590', 'u7134', 'u1248', 'u422', 'u4933', 'u3281', 'u3550', 'u6843', 'u6571', 'u6306', 'u2129', 'u4618', 'u4440', 'u3478', 'u7803', 'u8384', 'u5546', 'u5985', 'u8721', 'u8030', 'u864', 'u151', 'u4225', 'u4509', 'u3967', 'u7405', 'u4368', 'u6792', 'u4748', 'u5956', 'u9012', 'u7297', 'u4480', 'u8963', 'u7771', 'u1170', 'u3137', 'u5793', 'u684', 'u7036', 'u6200', 'u7661', 'u5867', 'u7485', 'u8251', 'u197', 'u8630', 'u1550', 'u777', 'u7636', 'u4948', 'u1278', 'u3581', 'u5184', 'u3474', 'u5183', 'u3701', 'u7749', 'u8643', 'u7519', 'u3433', 'u4677', 'u330', 'u3343', 'u6216', 'u4911', 'u892', 'u4151', 'u3684', 'u3187', 'u372', 'u6989', 'u7347', 'u8522', 'u938', 'u5329', 'u2510', 'u5653', 'u3778', 'u173', 'u889', 'u8454', 'u582', 'u6211', 'u6804', 'u7157', 'u5715', 'u756', 'u7208', 'u7610', 'u6512', 'u2525', 'u12', 'u6554', 'u8584', 'u6440', 'u7762', 'u8582', 'u6580', 'u1315', 'u2454', 'u400', 'u5103', 'u321', 'u7509', 'u6750', 'u8989', 'u7905', 'u2229', 'u3904', 'u6650', 'u3540', 'u6687', 'u2866', 'u1050', 'u4876', 'u795', 'u4949', 'u5257', 'u971', 'u7124', 'u2106', 'u419', 'u1318', 'u4749', 'u3677', 'u4294', 'u7012', 'u5231', 'u4661', 'u6167', 'u402', 'u5497', 'u6271', 'u2883', 'u3716', 'u2571', 'u2277', 'u5134', 'u7335', 'u597', 'u951', 'u2133', 'u2913', 'u8568', 'u1831', 'u6873', 'u4978', 'u5251', 'u2680', 'u1123', 'u317', 'u6668', 'u3803', 'u7261', 'u8453', 'u460', 'u8395', 'u6057', 'u2787', 'u8506', 'u4248', 'u5790', 'u2282', 'u1453', 'u5448', 'u5543', 'u5866', 'u1867', 'u389', 'u2501', 'u4725', 'u3508', 'u769', 'u3454', 'u8003', 'u4179', 'u1997', 'u8242', 'u1163', 'u388', 'u1151', 'u8893', 'u1018', 'u366', 'u3385', 'u1793', 'u2485', 'u552', 'u2944', 'u4343', 'u8517', 'u1566', 'u3669', 'u7192', 'u5960', 'u7471', 'u5906', 'u3285', 'u875', 'u1702', 'u8722', 'u5916', 'u7838', 'u679', 'u1795', 'u852', 'u2714', 'u7441', 'u2690', 'u4266', 'u8456', 'u4759', 'u1625', 'u5950', 'u8551', 'u3068', 'u8121', 'u6778', 'u6734', 'u2084', 'u20', 'u3692', 'u1823', 'u3848', 'u4319', 'u6486', 'u2782', 'u2252', 'u4458', 'u8877', 'u4987', 'u6408', 'u5705', 'u6578', 'u1477', 'u4036', 'u1338', 'u993', 'u5084', 'u200', 'u1000', 'u2191', 'u489', 'u1270', 'u4685', 'u2897', 'u8699', 'u2630', 'u342', 'u1613', 'u6725', 'u7006', 'u3665', 'u8006', 'u234', 'u6720', 'u7448', 'u5139', 'u4755', 'u5952', 'u1576', 'u4339', 'u4276', 'u3736', 'u4652', 'u5671', 'u6442', 'u2715', 'u3908', 'u6836', 'u1263', 'u5470', 'u4868', 'u760', 'u3925', 'u6679', 'u6997', 'u3167', 'u4831', 'u1221', 'u6875', 'u5571', 'u7671', 'u591', 'u4625', 'u2529', 'u5778', 'u3547', 'u7315', 'u927', 'u5077', 'u8832', 'u118', 'u8035', 'u8510', 'u6292', 'u8613', 'u5959', 'u3279', 'u6907', 'u4810', 'u1013', 'u1292', 'u8000', 'u5890', 'u7019', 'u5580', 'u5095', 'u6370', 'u2908', 'u2808', 'u7296', 'u8073', 'u4844', 'u7807', 'u5035', 'u4921', 'u8676', 'u52', 'u3818', 'u7524', 'u155', 'u5504', 'u350', 'u4329', 'u6458', 'u7489', 'u5467', 'u4425', 'u3097', 'u5512', 'u8260', 'u724', 'u2020', 'u1242', 'u5206', 'u3587', 'u7973', 'u2480', 'u6231', 'u2321', 'u6680', 'u992', 'u4238', 'u4950', 'u8122', 'u787', 'u9031', 'u7850', 'u6707', 'u985', 'u1709', 'u8863', 'u6477', 'u3418', 'u7074', 'u1822', 'u4009', 'u8957', 'u8210', 'u3530', 'u4806', 'u5479', 'u5613', 'u4419', 'u347', 'u6926', 'u4566', 'u6091', 'u2095', 'u5215', 'u2328', 'u8491', 'u2089', 'u1007', 'u5097', 'u3166', 'u5832', 'u6339', 'u8106', 'u8224', 'u4935', 'u8347', 'u924', 'u3404', 'u4108', 'u5391', 'u2140', 'u1325', 'u1838', 'u7554', 'u2136', 'u1682', 'u8798', 'u7887', 'u2481', 'u6210', 'u2634', 'u946', 'u5663', 'u1267', 'u7911', 'u6022', 'u2947', 'u124', 'u600', 'u6261', 'u5321', 'u5203', 'u5809', 'u254', 'u6282', 'u2886', 'u6314', 'u8157', 'u4927', 'u4283', 'u5198', 'u2469', 'u5857', 'u704', 'u4213', 'u4681', 'u3016', 'u162', 'u4809', 'u1335', 'u7234', 'u8024', 'u8886', 'u942', 'u3556', 'u49', 'u6298', 'u7876', 'u8992', 'u7263', 'u1542', 'u7190', 'u3334', 'u6129', 'u8835', 'u5756', 'u6084', 'u2639', 'u3911', 'u6482', 'u4586', 'u6017', 'u8376', 'u685', 'u8742', 'u6716', 'u6062', 'u3672', 'u7477', 'u3560', 'u2308', 'u6207', 'u492', 'u8416', 'u3883', 'u3363', 'u1693', 'u6667', 'u5787', 'u7408', 'u7734', 'u7710', 'u1432', 'u1557', 'u865', 'u2970', 'u3081', 'u7419', 'u4061', 'u1910', 'u6888', 'u7332', 'u7184', 'u3782', 'u7881', 'u2771', 'u8538', 'u7799', 'u5632', 'u47', 'u7089', 'u8530', 'u8975', 'u3108', 'u4516', 'u959', 'u7308', 'u3750', 'u4205', 'u70', 'u7943', 'u5021', 'u8289', 'u2874', 'u5731', 'u2235', 'u1259', 'u156', 'u4454', 'u5819', 'u278', 'u3623', 'u1021', 'u1130', 'u6040', 'u3436', 'u3992', 'u5098', 'u2237', 'u1930', 'u5519', 'u6956', 'u6504', 'u2296', 'u443', 'u3082', 'u1551', 'u1970', 'u7228', 'u1385', 'u5018', 'u5176', 'u8448', 'u6451', 'u2570', 'u1905', 'u246', 'u3342', 'u2619', 'u5989', 'u3900', 'u8053', 'u7262', 'u3223', 'u6790', 'u4980', 'u4485', 'u8866', 'u7054', 'u6933', 'u7014', 'u8996', 'u7464', 'u7268', 'u119', 'u3805', 'u3100', 'u906', 'u6362', 'u1921', 'u7873', 'u8776', 'u2213', 'u7585', 'u4574', 'u3320', 'u981', 'u3275', 'u5100', 'u319', 'u5752', 'u6821', 'u4588', 'u1309', 'u5583', 'u1657', 'u8730', 'u8787', 'u6300', 'u6745', 'u1945', 'u2159', 'u606', 'u4530', 'u8011', 'u2250', 'u140', 'u5247', 'u2342', 'u3052', 'u5625', 'u2859', 'u3089', 'u5694', 'u3351', 'u5473', 'u93', 'u469', 'u2615', 'u6768', 'u167', 'u1782', 'u6069', 'u6624', 'u5742', 'u1943', 'u5760', 'u5871', 'u7066', 'u4303', 'u7351', 'u3948', 'u7961', 'u2898', 'u8397', 'u7945', 'u7939', 'u960', 'u9007', 'u8460', 'u8501', 'u3853', 'u8112', 'u2780', 'u5692', 'u4417', 'u7963', 'u6310', 'u3160', 'u1144', 'u2396', 'u5081', 'u6788', 'u6024', 'u4804', 'u2047', 'u4580', 'u6741', 'u8741', 'u7499', 'u3628', 'u3323', 'u7646', 'u883', 'u8429', 'u5303', 'u698', 'u8446', 'u6126', 'u3430', 'u3542', 'u8894', 'u2269', 'u8783', 'u8822', 'u963', 'u4654', 'u2399', 'u4916', 'u5860', 'u4427', 'u2293', 'u1735', 'u3388', 'u757', 'u7247', 'u21', 'u8514', 'u8209', 'u1205', 'u8899', 'u8132', 'u7269', 'u1713', 'u5188', 'u6088', 'u5766', 'u7125', 'u8139', 'u4250', 'u2329', 'u2837', 'u7318', 'u4633', 'u1861', 'u8060', 'u1610', 'u2633', 'u7819', 'u289', 'u95', 'u8365', 'u6885', 'u5498', 'u626', 'u6047', 'u7038', 'u3441', 'u2825', 'u6240', 'u5093', 'u1391', 'u4884', 'u3506', 'u2391', 'u7947', 'u1950', 'u5256', 'u3592', 'u6908', 'u3890', 'u4985', 'u3470', 'u6729', 'u4342', 'u648', 'u1343', 'u8576', 'u2054', 'u5204', 'u5683', 'u296', 'u2382', 'u4269', 'u6600', 'u7590', 'u3397', 'u2693', 'u3521', 'u107', 'u5763', 'u399', 'u2281', 'u4007', 'u3050', 'u8614', 'u3538', 'u183', 'u3655', 'u5398', 'u7174', 'u4582', 'u4867', 'u5818', 'u4302', 'u625', 'u2604', 'u1611', 'u6711', 'u6653', 'u1899', 'u7925', 'u6043', 'u6363', 'u8944', 'u8618', 'u5385', 'u2266', 'u8301', 'u4885', 'u1686', 'u3264', 'u4930', 'u3278', 'u7205', 'u8684', 'u1340', 'u1503', 'u8353', 'u5654', 'u4493', 'u2885', 'u4094', 'u3762', 'u2500', 'u3198', 'u7378', 'u6060', 'u3036', 'u1302', 'u5027', 'u7167', 'u6709', 'u8087', 'u5943', 'u996', 'u7103', 'u5283', 'u1683', 'u5983', 'u4636', 'u5643', 'u3158', 'u7630', 'u6847', 'u18', 'u3905', 'u5170', 'u6795', 'u8585', 'u8028', 'u7287', 'u640', 'u6175', 'u8282', 'u1378', 'u8174', 'u5646', 'u7113', 'u5736', 'u6744', 'u454', 'u9023', 'u2946', 'u7700', 'u2969', 'u1493', 'u444', 'u2608', 'u4165', 'u7439', 'u7564', 'u6853', 'u9003', 'u3590', 'u2477', 'u7313', 'u328', 'u8368', 'u7474', 'u546', 'u6511', 'u2722', 'u4147', 'u7648', 'u4371', 'u5457', 'u6695', 'u1138', 'u929', 'u7818', 'u7210', 'u6850', 'u248', 'u401', 'u815', 'u4852', 'u2216', 'u5955', 'u8299', 'u2466', 'u6690', 'u3544', 'u2927', 'u4068', 'u6177', 'u6275', 'u6493', 'u6377', 'u2214', 'u2909', 'u8039', 'u5101', 'u2996', 'u5185', 'u2012', 'u3757', 'u7199', 'u6677', 'u6832', 'u6276', 'u7430', 'u6417', 'u2659', 'u1194', 'u7397', 'u3609', 'u4381', 'u5704', 'u8128', 'u2186', 'u3951', 'u4947', 'u7302', 'u3576', 'u3808', 'u4984', 'u5160', 'u7065', 'u3852', 'u6238', 'u8316', 'u4421', 'u5544', 'u7733', 'u3479', 'u1896', 'u3942', 'u3893', 'u5210', 'u7098', 'u4270', 'u1533', 'u171', 'u2649', 'u3448', 'u6290', 'u5808', 'u8648', 'u2354', 'u8818', 'u7132', 'u136', 'u5107', 'u1624', 'u3238', 'u7099', 'u2222', 'u8849', 'u4690', 'u5816', 'u614', 'u2573', 'u761', 'u8163', 'u6176', 'u5608', 'u8672', 'u8228', 'u4203', 'u674', 'u3176', 'u6656', 'u3910', 'u7747', 'u5523', 'u4549', 'u5445', 'u8254', 'u6050', 'u8821', 'u8311', 'u2726', 'u4686', 'u1346', 'u2790', 'u7403', 'u3959', 'u6441', 'u7575', 'u2224', 'u1906', 'u4817', 'u3661', 'u6246', 'u8071', 'u6396', 'u1128', 'u5254', 'u3874', 'u7836', 'u4309', 'u8752', 'u990', 'u8670', 'u747', 'u7336', 'u8323', 'u3239', 'u340', 'u5423', 'u7104', 'u8165', 'u8949', 'u6457', 'u7359', 'u1079', 'u936', 'u5927', 'u9032', 'u6731', 'u5688', 'u2709', 'u7299', 'u3247', 'u120', 'u7188', 'u5863', 'u5477', 'u4415', 'u5672', 'u7920', 'u5908', 'u1737', 'u6097', 'u7708', 'u4003', 'u3960', 'u6693', 'u7602', 'u74', 'u7680', 'u7985', 'u3359', 'u6939', 'u5029', 'u280', 'u4849', 'u7431', 'u7896', 'u4696', 'u677', 'u4823', 'u4259', 'u4324', 'u836', 'u8754', 'u8639', 'u8627', 'u2665', 'u6519', 'u4127', 'u2759', 'u7339', 'u6631', 'u6948', 'u9021', 'u4403', 'u4064', 'u309', 'u7059', 'u2008', 'u5642', 'u3598', 'u7345', 'u4169', 'u6545', 'u2002', 'u2950', 'u3188', 'u3926', 'u4550', 'u720', 'u2444', 'u1522', 'u2238', 'u329', 'u2284', 'u6776', 'u6585', 'u1390', 'u5290', 'u3659', 'u4519', 'u1491', 'u1344', 'u3529', 'u1167', 'u5503', 'u6643', 'u5446', 'u8075', 'u2989', 'u8674', 'u1830', 'u3203', 'u4153', 'u1162', 'u6099', 'u2794', 'u595', 'u2959', 'u555', 'u719', 'u5861', 'u4537', 'u5995', 'u238', 'u3773', 'u1209', 'u1769', 'u3914', 'u5118', 'u3195', 'u7138', 'u4552', 'u3491', 'u6299', 'u1046', 'u8864', 'u6900', 'u5550', 'u1269', 'u3255', 'u462', 'u6851', 'u3614', 'u4078', 'u4714', 'u1848', 'u3997', 'u6686', 'u7218', 'u1697', 'u7475', 'u1225', 'u1827', 'u6761', 'u6862', 'u3451', 'u7832', 'u5934', 'u2778', 'u5154', 'u6357', 'u2708', 'u8125', 'u4164', 'u4679', 'u7451', 'u1095', 'u7723', 'u6353', 'u4684', 'u132', 'u4924', 'u9006', 'u5484', 'u2651', 'u1719', 'u190', 'u7353', 'u5698', 'u3863', 'u2912', 'u5825', 'u545', 'u1545', 'u7375', 'u1217', 'u8577', 'u281', 'u6245', 'u8847', 'u2081', 'u8923', 'u1766', 'u3071', 'u2734', 'u2779', 'u8890', 'u3809', 'u91', 'u6425', 'u467', 'u6678', 'u199', 'u537', 'u241', 'u6595', 'u3800', 'u6807', 'u6823', 'u4167', 'u7462', 'u6928', 'u8055', 'u4887', 'u2949', 'u8357', 'u1143', 'u2932', 'u8356', 'u5150', 'u8171', 'u7061', 'u1979', 'u4123', 'u8093', 'u8499', 'u2087', 'u97', 'u1484', 'u5469', 'u3876', 'u6042', 'u90', 'u7591', 'u6406', 'u2090', 'u1400', 'u55', 'u6215', 'u4360', 'u7919', 'u5838', 'u7508', 'u7966', 'u8471', 'u4946', 'u4433', 'u7781', 'u6857', 'u8891', 'u1669', 'u2068', 'u3735', 'u5429', 'u92', 'u3760', 'u3447', 'u2806', 'u4572', 'u621', 'u3647', 'u1074', 'u5964', 'u2262', 'u6592', 'u4983', 'u1171', 'u1080', 'u6122', 'u7114', 'u4724', 'u1462', 'u4611', 'u4175', 'u978', 'u1091', 'u6916', 'u5944', 'u3245', 'u3471', 'u2942', 'u5883', 'u7129', 'u3327', 'u1426', 'u2552', 'u2710', 'u636', 'u5853', 'u3375', 'u1495', 'u1810', 'u5617', 'u5696', 'u823', 'u1121', 'u1441', 'u7995', 'u3467', 'u8575', 'u7361', 'u2919', 'u4297', 'u975', 'u2973', 'u48', 'u4195', 'u581', 'u3844', 'u1797', 'u7314', 'u5486', 'u8476', 'u2537', 'u8374', 'u4173', 'u1122', 'u3428', 'u1102', 'u7993', 'u5828', 'u3756', 'u8325', 'u209', 'u8547', 'u1587', 'u2152', 'u1331', 'u2316', 'u5415', 'u6070', 'u4468', 'u4334', 'u8612', 'u800', 'u8386', 'u1429', 'u2605', 'u1316', 'u4882', 'u1401', 'u2033', 'u3098', 'u2713', 'u2457', 'u5316', 'u6569', 'u5515', 'u3987', 'u5679', 'u8482', 'u8425', 'u7620', 'u559', 'u5586', 'u4084', 'u4838', 'u3037', 'u4292', 'u6358', 'u1492', 'u98', 'u3452', 'u4456', 'u4279', 'u2234', 'u8025', 'u4293', 'u1999', 'u8403', 'u1603', 'u2558', 'u8729', 'u6005', 'u6485', 'u2556', 'u3503', 'u3797', 'u5274', 'u4850', 'u5066', 'u6142', 'u6577', 'u3790', 'u7592', 'u231', 'u4837', 'u8382', 'u6819', 'u4655', 'u1498', 'u6427', 'u4353', 'u3974', 'u3971', 'u4162', 'u3147', 'u6331', 'u987', 'u8766', 'u1904', 'u7128', 'u7981', 'u1537', 'u3667', 'u1075', 'u5192', 'u1765', 'u7163', 'u1438', 'u8925', 'u1964', 'u2939', 'u3423', 'u907', 'u5775', 'u7340', 'u4594', 'u5284', 'u2456', 'u8824', 'u8277', 'u8385', 'u8387', 'u8513', 'u1054', 'u6374', 'u8932', 'u3871', 'u7109', 'u801', 'u8017', 'u5033', 'u1738', 'u1153', 'u3336', 'u3127', 'u5141', 'u8983', 'u3018', 'u4398', 'u873', 'u2182', 'u3372', 'u5869', 'u4888', 'u6311', 'u858', 'u2718', 'u1977', 'u5196', 'u7455', 'u8705', 'u5234', 'u5885', 'u2026', 'u7194', 'u979', 'u1131', 'u4413', 'u8583', 'u6616', 'u4961', 'u75', 'u5647', 'u8669', 'u8312', 'u4378', 'u6354', 'u1496', 'u4600', 'u7788', 'u4528', 'u4200', 'u8373', 'u7891', 'u3133', 'u5639', 'u6669', 'u7670', 'u7951', 'u4234', 'u3551', 'u1444', 'u2126', 'u3546', 'u2821', 'u5485', 'u7189', 'u3489', 'u5622', 'u5478', 'u1376', 'u2167', 'u5961', 'u4912', 'u1817', 'u4048', 'u5913', 'u6338', 'u2092', 'u578', 'u8746', 'u2577', 'u6161', 'u894', 'u8314', 'u5075', 'u5711', 'u6284', 'u6132', 'u2088', 'u7789', 'u434', 'u6561', 'u8695', 'u8651', 'u8907', 'u2911', 'u3080', 'u164', 'u7087', 'u2251', 'u7488', 'u8703', 'u1359', 'u4942', 'u6962', 'u2922', 'u8861', 'u4585', 'u5449', 'u4774', 'u2965', 'u6148', 'u9010', 'u4824', 'u4858', 'u5542', 'u3668', 'u2531', 'u2591', 'u2273', 'u2013', 'u8811', 'u8430', 'u2177', 'u928', 'u8884', 'u1448', 'u2658', 'u5529', 'u8185', 'u263', 'u2855', 'u1944', 'u5844', 'u3807', 'u3649', 'u781', 'u1902', 'u311', 'u6675', 'u3964', 'u6748', 'u1581', 'u4121', 'u5968', 'u6934', 'u4135', 'u500', 'u8043', 'u5068', 'u7522', 'u2756', 'u5886', 'u7443', 'u2893', 'u4299', 'u880', 'u7243', 'u5856', 'u4557', 'u5322', 'u1770', 'u6113', 'u6402', 'u8225', 'u3413', 'u4016', 'u1443', 'u1578', 'u8874', 'u3674', 'u2241', 'u2877', 'u6570', 'u7913', 'u486', 'u857', 'u6303', 'u8943', 'u3119', 'u1002', 'u2038', 'u3253', 'u4953', 'u8871', 'u4780', 'u7473', 'u4908', 'u5079', 'u7716', 'u4481', 'u7817', 'u6433', 'u1547', 'u2783', 'u1524', 'u7511', 'u1006', 'u8290', 'u916', 'u2698', 'u3499', 'u6751', 'u7727', 'u5189', 'u7197', 'u6407', 'u4224', 'u5743', 'u2474', 'u3687', 'u4928', 'u5199', 'u1358', 'u6320', 'u8646', 'u2829', 'u2227', 'u2072', 'u1659', 'u3054', 'u4638', 'u4723', 'u8658', 'u4455', 'u7899', 'u6762', 'u8928', 'u221', 'u7888', 'u4886', 'u8940', 'u7787', 'u8865', 'u5390', 'u239', 'u8788', 'u4199', 'u649', 'u5887', 'u8117', 'u5133', 'u2225', 'u7992', 'u4113', 'u512', 'u8337', 'u2475', 'u2107', 'u4337', 'u7152', 'u8348', 'u7095', 'u5205', 'u6460', 'u588', 'u8554', 'u5383', 'u2773', 'u5539', 'u8029', 'u7813', 'u3975', 'u7396', 'u8349', 'u6214', 'u8809', 'u5911', 'u6414', 'u7823', 'u653', 'u2494', 'u3565', 'u8109', 'u4441', 'u1959', 'u3678', 'u6286', 'u5972', 'u7798', 'u339', 'u1571', 'u1982', 'u4158', 'u2625', 'u5291', 'u2814', 'u3377', 'u2204', 'u3103', 'u3651', 'u5453', 'u8578', 'u1988', 'u7551', 'u8680', 'u6252', 'u8653', 'u2926', 'u8790', 'u6000', 'u5072', 'u984', 'u1271', 'u3463', 'u8804', 'u6537', 'u3480', 'u4544', 'u2902', 'u6730', 'u1250', 'u2741', 'u1873', 'u8175', 'u3301', 'u7797', 'u5532', 'u4088', 'u94', 'u2910', 'u2164', 'u7368', 'u249', 'u5965', 'u2870', 'u3985', 'u7644', 'u5634', 'u8135', 'u2330', 'u3438', 'u7406', 'u5491', 'u2875', 'u6421', 'u8352', 'u8392', 'u1393', 'u7322', 'u4937', 'u5681', 'u5776', 'u1408', 'u404', 'u3527', 'u8869', 'u8354', 'u3329', 'u2890', 'u3697', 'u4072', 'u5690', 'u8956', 'u2720', 'u2322', 'u3246', 'u2956', 'u1012', 'u1711', 'u3229', 'u4122', 'u5796', 'u8915', 'u2784', 'u1607', 'u4145', 'u8784', 'u3811', 'u6697', 'u1464', 'u3689', 'u8733', 'u4244', 'u2641', 'u2108', 'u293', 'u298', 'u4352', 'u6922', 'u4796', 'u6849', 'u6348', 'u2668', 'u3015', 'u6546', 'u4959', 'u2052', 'u6614', 'u2115', 'u4977', 'u6936', 'u7360', 'u6247', 'u8745', 'u3039', 'u2952', 'u7325', 'u1103', 'u7411', 'u8555', 'u192', 'u1165', 'u23', 'u6610', 'u5921', 'u3498', 'u1310', 'u3294', 'u6133', 'u7766', 'u8428', 'u2730', 'u7804', 'u2656', 'u5993', 'u2298', 'u5814', 'u871', 'u7782', 'u1829', 'u8168', 'u2962', 'u2111', 'u5607', 'u8343', 'u5618', 'u1096', 'u188', 'u8023', 'u8854', 'u7664', 'u2768', 'u5873', 'u3845', 'u2226', 'u4919', 'u2264', 'u1600', 'u3700', 'u3558', 'u1508', 'u4304', 'u1981', 'u2168', 'u8042', 'u3289', 'u3823', 'u1684', 'u1543', 'u4913', 'u2195', 'u6891', 'u8679', 'u2377', 'u468', 'u4106', 'u745', 'u5490', 'u759', 'u1487', 'u1699', 'u3662', 'u4561', 'u7101', 'u783', 'u3826', 'u4387', 'u1694', 'u6021', 'u2994', 'u2863', 'u6767', 'u8543', 'u7553']\n",
            "Characters in detailed_characters_df but not in lines_df: ['u5356', 'u1630', 'u8196', 'u5366', 'u4996', 'u5348', 'u2355', 'u5364', 'u1284', 'u1620', 'u5352', 'u1646', 'u5365', 'u5333', 'u5359', 'u5331', 'u1239', 'u5357', 'u1649', 'u103', 'u1758', 'u5004', 'u4997', 'u1653', 'u5360', 'u5372', 'u2378', 'u7539', 'u5338', 'u4999', 'u5594', 'u7531', 'u5001', 'u8201', 'u5591', 'u7542', 'u7222', 'u5345', 'u1652', 'u1283', 'u4991', 'u1642', 'u5592', 'u7533', 'u5373', 'u1755', 'u1635', 'u5344', 'u1978', 'u1236', 'u1854', 'u5362']\n"
          ]
        }
      ],
      "source": [
        "# Characters in lines_df but not in detailed_characters_df\n",
        "characters_in_lines_not_in_merged = set(lines_df['chId']) - set(detailed_characters_df['chId'])\n",
        "\n",
        "# Characters in merged_df but not in lines_df\n",
        "characters_in_merged_not_in_lines = set(detailed_characters_df['chId']) - set(lines_df['chId'])\n",
        "\n",
        "# Convert the sets to lists for easier handling or further analysis\n",
        "characters_in_lines_not_in_merged_list = list(characters_in_lines_not_in_merged)\n",
        "characters_in_merged_not_in_lines_list = list(characters_in_merged_not_in_lines)\n",
        "\n",
        "print(\"Characters in lines_df but not in detailed_characters_df:\", characters_in_lines_not_in_merged_list)\n",
        "print(\"Characters in detailed_characters_df but not in lines_df:\", characters_in_merged_not_in_lines_list)\n"
      ]
    },
    {
      "cell_type": "code",
      "execution_count": 399,
      "metadata": {},
      "outputs": [
        {
          "name": "stdout",
          "output_type": "stream",
          "text": [
            "Total Number Of Duplicates:  5438\n"
          ]
        },
        {
          "data": {
            "text/plain": [
              "(283182, 4)"
            ]
          },
          "execution_count": 399,
          "metadata": {},
          "output_type": "execute_result"
        }
      ],
      "source": [
        "##When we remove the lId we may see charaters repeating dialogues  \n",
        "lines_df_mod = lines_df[['chId', 'mId', 'chName', 'chLine']]\n",
        "\n",
        "# Remove duplicate rows\n",
        "duplicate_counts = lines_df_mod.duplicated().sum()\n",
        "print(\"Total Number Of Duplicates: \", duplicate_counts)\n",
        "if duplicate_counts > 0:\n",
        "   lines_df_mod = lines_df_mod.drop_duplicates()\n",
        "   \n",
        "lines_df_mod.shape"
      ]
    },
    {
      "cell_type": "code",
      "execution_count": 400,
      "metadata": {},
      "outputs": [
        {
          "data": {
            "text/html": [
              "<div>\n",
              "<style scoped>\n",
              "    .dataframe tbody tr th:only-of-type {\n",
              "        vertical-align: middle;\n",
              "    }\n",
              "\n",
              "    .dataframe tbody tr th {\n",
              "        vertical-align: top;\n",
              "    }\n",
              "\n",
              "    .dataframe thead th {\n",
              "        text-align: right;\n",
              "    }\n",
              "</style>\n",
              "<table border=\"1\" class=\"dataframe\">\n",
              "  <thead>\n",
              "    <tr style=\"text-align: right;\">\n",
              "      <th></th>\n",
              "      <th>chId</th>\n",
              "      <th>chName_x</th>\n",
              "      <th>mId</th>\n",
              "      <th>mName</th>\n",
              "      <th>gender</th>\n",
              "      <th>posCredits</th>\n",
              "      <th>mYear</th>\n",
              "      <th>mRating</th>\n",
              "      <th>mVotes</th>\n",
              "      <th>mGenre</th>\n",
              "      <th>chName_y</th>\n",
              "      <th>chLine</th>\n",
              "    </tr>\n",
              "  </thead>\n",
              "  <tbody>\n",
              "    <tr>\n",
              "      <th>0</th>\n",
              "      <td>u0</td>\n",
              "      <td>BIANCA</td>\n",
              "      <td>m0</td>\n",
              "      <td>10 things i hate about you</td>\n",
              "      <td>F</td>\n",
              "      <td>4</td>\n",
              "      <td>1999</td>\n",
              "      <td>6.9</td>\n",
              "      <td>62847.0</td>\n",
              "      <td>['comedy' 'romance']</td>\n",
              "      <td>BIANCA</td>\n",
              "      <td>They do not!</td>\n",
              "    </tr>\n",
              "    <tr>\n",
              "      <th>1</th>\n",
              "      <td>u0</td>\n",
              "      <td>BIANCA</td>\n",
              "      <td>m0</td>\n",
              "      <td>10 things i hate about you</td>\n",
              "      <td>F</td>\n",
              "      <td>4</td>\n",
              "      <td>1999</td>\n",
              "      <td>6.9</td>\n",
              "      <td>62847.0</td>\n",
              "      <td>['comedy' 'romance']</td>\n",
              "      <td>BIANCA</td>\n",
              "      <td>I hope so.</td>\n",
              "    </tr>\n",
              "    <tr>\n",
              "      <th>2</th>\n",
              "      <td>u0</td>\n",
              "      <td>BIANCA</td>\n",
              "      <td>m0</td>\n",
              "      <td>10 things i hate about you</td>\n",
              "      <td>F</td>\n",
              "      <td>4</td>\n",
              "      <td>1999</td>\n",
              "      <td>6.9</td>\n",
              "      <td>62847.0</td>\n",
              "      <td>['comedy' 'romance']</td>\n",
              "      <td>BIANCA</td>\n",
              "      <td>Let's go.</td>\n",
              "    </tr>\n",
              "    <tr>\n",
              "      <th>3</th>\n",
              "      <td>u0</td>\n",
              "      <td>BIANCA</td>\n",
              "      <td>m0</td>\n",
              "      <td>10 things i hate about you</td>\n",
              "      <td>F</td>\n",
              "      <td>4</td>\n",
              "      <td>1999</td>\n",
              "      <td>6.9</td>\n",
              "      <td>62847.0</td>\n",
              "      <td>['comedy' 'romance']</td>\n",
              "      <td>BIANCA</td>\n",
              "      <td>Okay -- you're gonna need to learn how to lie.</td>\n",
              "    </tr>\n",
              "    <tr>\n",
              "      <th>4</th>\n",
              "      <td>u0</td>\n",
              "      <td>BIANCA</td>\n",
              "      <td>m0</td>\n",
              "      <td>10 things i hate about you</td>\n",
              "      <td>F</td>\n",
              "      <td>4</td>\n",
              "      <td>1999</td>\n",
              "      <td>6.9</td>\n",
              "      <td>62847.0</td>\n",
              "      <td>['comedy' 'romance']</td>\n",
              "      <td>BIANCA</td>\n",
              "      <td>Like my fear of wearing pastels?</td>\n",
              "    </tr>\n",
              "  </tbody>\n",
              "</table>\n",
              "</div>"
            ],
            "text/plain": [
              "  chId chName_x mId                       mName gender posCredits  mYear  \\\n",
              "0   u0   BIANCA  m0  10 things i hate about you      F          4   1999   \n",
              "1   u0   BIANCA  m0  10 things i hate about you      F          4   1999   \n",
              "2   u0   BIANCA  m0  10 things i hate about you      F          4   1999   \n",
              "3   u0   BIANCA  m0  10 things i hate about you      F          4   1999   \n",
              "4   u0   BIANCA  m0  10 things i hate about you      F          4   1999   \n",
              "\n",
              "   mRating   mVotes                mGenre chName_y  \\\n",
              "0      6.9  62847.0  ['comedy' 'romance']   BIANCA   \n",
              "1      6.9  62847.0  ['comedy' 'romance']   BIANCA   \n",
              "2      6.9  62847.0  ['comedy' 'romance']   BIANCA   \n",
              "3      6.9  62847.0  ['comedy' 'romance']   BIANCA   \n",
              "4      6.9  62847.0  ['comedy' 'romance']   BIANCA   \n",
              "\n",
              "                                           chLine  \n",
              "0                                    They do not!  \n",
              "1                                      I hope so.  \n",
              "2                                       Let's go.  \n",
              "3  Okay -- you're gonna need to learn how to lie.  \n",
              "4                Like my fear of wearing pastels?  "
            ]
          },
          "execution_count": 400,
          "metadata": {},
          "output_type": "execute_result"
        }
      ],
      "source": [
        "df = detailed_characters_df.merge(lines_df_mod, on=['chId', 'mId'], how='inner')\n",
        "df.head()"
      ]
    },
    {
      "cell_type": "code",
      "execution_count": 401,
      "metadata": {},
      "outputs": [
        {
          "name": "stdout",
          "output_type": "stream",
          "text": [
            "Rows with mismatched chName_x and chName_y:\n",
            "Empty DataFrame\n",
            "Columns: [chId, chName_x, mId, mName, gender, posCredits, mYear, mRating, mVotes, mGenre, chName_y, chLine]\n",
            "Index: []\n"
          ]
        }
      ],
      "source": [
        "# Filter rows where chName_x does not match chName_y\n",
        "mismatched_names_df = df[df['chName_x'] != df['chName_y']]\n",
        "\n",
        "# Display the rows with mismatched names\n",
        "print(\"Rows with mismatched chName_x and chName_y:\")\n",
        "print(mismatched_names_df)"
      ]
    },
    {
      "cell_type": "code",
      "execution_count": 402,
      "metadata": {},
      "outputs": [
        {
          "data": {
            "text/html": [
              "<div>\n",
              "<style scoped>\n",
              "    .dataframe tbody tr th:only-of-type {\n",
              "        vertical-align: middle;\n",
              "    }\n",
              "\n",
              "    .dataframe tbody tr th {\n",
              "        vertical-align: top;\n",
              "    }\n",
              "\n",
              "    .dataframe thead th {\n",
              "        text-align: right;\n",
              "    }\n",
              "</style>\n",
              "<table border=\"1\" class=\"dataframe\">\n",
              "  <thead>\n",
              "    <tr style=\"text-align: right;\">\n",
              "      <th></th>\n",
              "      <th>chId</th>\n",
              "      <th>mId</th>\n",
              "      <th>mName</th>\n",
              "      <th>gender</th>\n",
              "      <th>posCredits</th>\n",
              "      <th>mYear</th>\n",
              "      <th>mRating</th>\n",
              "      <th>mVotes</th>\n",
              "      <th>mGenre</th>\n",
              "      <th>chLine</th>\n",
              "      <th>chName</th>\n",
              "    </tr>\n",
              "  </thead>\n",
              "  <tbody>\n",
              "    <tr>\n",
              "      <th>0</th>\n",
              "      <td>u0</td>\n",
              "      <td>m0</td>\n",
              "      <td>10 things i hate about you</td>\n",
              "      <td>F</td>\n",
              "      <td>4</td>\n",
              "      <td>1999</td>\n",
              "      <td>6.9</td>\n",
              "      <td>62847.0</td>\n",
              "      <td>['comedy' 'romance']</td>\n",
              "      <td>They do not!</td>\n",
              "      <td>BIANCA</td>\n",
              "    </tr>\n",
              "    <tr>\n",
              "      <th>1</th>\n",
              "      <td>u0</td>\n",
              "      <td>m0</td>\n",
              "      <td>10 things i hate about you</td>\n",
              "      <td>F</td>\n",
              "      <td>4</td>\n",
              "      <td>1999</td>\n",
              "      <td>6.9</td>\n",
              "      <td>62847.0</td>\n",
              "      <td>['comedy' 'romance']</td>\n",
              "      <td>I hope so.</td>\n",
              "      <td>BIANCA</td>\n",
              "    </tr>\n",
              "    <tr>\n",
              "      <th>2</th>\n",
              "      <td>u0</td>\n",
              "      <td>m0</td>\n",
              "      <td>10 things i hate about you</td>\n",
              "      <td>F</td>\n",
              "      <td>4</td>\n",
              "      <td>1999</td>\n",
              "      <td>6.9</td>\n",
              "      <td>62847.0</td>\n",
              "      <td>['comedy' 'romance']</td>\n",
              "      <td>Let's go.</td>\n",
              "      <td>BIANCA</td>\n",
              "    </tr>\n",
              "    <tr>\n",
              "      <th>3</th>\n",
              "      <td>u0</td>\n",
              "      <td>m0</td>\n",
              "      <td>10 things i hate about you</td>\n",
              "      <td>F</td>\n",
              "      <td>4</td>\n",
              "      <td>1999</td>\n",
              "      <td>6.9</td>\n",
              "      <td>62847.0</td>\n",
              "      <td>['comedy' 'romance']</td>\n",
              "      <td>Okay -- you're gonna need to learn how to lie.</td>\n",
              "      <td>BIANCA</td>\n",
              "    </tr>\n",
              "    <tr>\n",
              "      <th>4</th>\n",
              "      <td>u0</td>\n",
              "      <td>m0</td>\n",
              "      <td>10 things i hate about you</td>\n",
              "      <td>F</td>\n",
              "      <td>4</td>\n",
              "      <td>1999</td>\n",
              "      <td>6.9</td>\n",
              "      <td>62847.0</td>\n",
              "      <td>['comedy' 'romance']</td>\n",
              "      <td>Like my fear of wearing pastels?</td>\n",
              "      <td>BIANCA</td>\n",
              "    </tr>\n",
              "  </tbody>\n",
              "</table>\n",
              "</div>"
            ],
            "text/plain": [
              "  chId mId                       mName gender posCredits  mYear  mRating  \\\n",
              "0   u0  m0  10 things i hate about you      F          4   1999      6.9   \n",
              "1   u0  m0  10 things i hate about you      F          4   1999      6.9   \n",
              "2   u0  m0  10 things i hate about you      F          4   1999      6.9   \n",
              "3   u0  m0  10 things i hate about you      F          4   1999      6.9   \n",
              "4   u0  m0  10 things i hate about you      F          4   1999      6.9   \n",
              "\n",
              "    mVotes                mGenre  \\\n",
              "0  62847.0  ['comedy' 'romance']   \n",
              "1  62847.0  ['comedy' 'romance']   \n",
              "2  62847.0  ['comedy' 'romance']   \n",
              "3  62847.0  ['comedy' 'romance']   \n",
              "4  62847.0  ['comedy' 'romance']   \n",
              "\n",
              "                                           chLine  chName  \n",
              "0                                    They do not!  BIANCA  \n",
              "1                                      I hope so.  BIANCA  \n",
              "2                                       Let's go.  BIANCA  \n",
              "3  Okay -- you're gonna need to learn how to lie.  BIANCA  \n",
              "4                Like my fear of wearing pastels?  BIANCA  "
            ]
          },
          "execution_count": 402,
          "metadata": {},
          "output_type": "execute_result"
        }
      ],
      "source": [
        "df['chName'] = df['chName_x']\n",
        "df = df.drop(['chName_y','chName_x'], axis=1)\n",
        "df.head()"
      ]
    },
    {
      "cell_type": "code",
      "execution_count": 403,
      "metadata": {},
      "outputs": [
        {
          "name": "stdout",
          "output_type": "stream",
          "text": [
            "chId          0.0\n",
            "mId           0.0\n",
            "mName         0.0\n",
            "gender        0.0\n",
            "posCredits    0.0\n",
            "mYear         0.0\n",
            "mRating       0.0\n",
            "mVotes        0.0\n",
            "mGenre        0.0\n",
            "chLine        0.0\n",
            "chName        0.0\n",
            "dtype: float64\n"
          ]
        }
      ],
      "source": [
        "nan_percentage = (df.isna().mean() * 100).round(2)\n",
        "print(nan_percentage)"
      ]
    },
    {
      "cell_type": "code",
      "execution_count": 404,
      "metadata": {},
      "outputs": [
        {
          "name": "stdout",
          "output_type": "stream",
          "text": [
            "Total Number Of Duplicates:  0\n"
          ]
        },
        {
          "data": {
            "text/plain": [
              "(200352, 11)"
            ]
          },
          "execution_count": 404,
          "metadata": {},
          "output_type": "execute_result"
        }
      ],
      "source": [
        "# Remove duplicate rows\n",
        "duplicate_counts = df.duplicated().sum()\n",
        "print(\"Total Number Of Duplicates: \", duplicate_counts)\n",
        "if duplicate_counts > 0:\n",
        "   df = df.drop_duplicates()\n",
        "df.shape"
      ]
    },
    {
      "cell_type": "code",
      "execution_count": 405,
      "metadata": {},
      "outputs": [],
      "source": [
        "##Get the number of unique dialogues spoken by each characters.\n",
        "df['dialoguesCount'] = df.groupby(['chId', 'mId'])['chLine'].transform('count')\n",
        "\n",
        "##Get the number of characters per dialogue\n",
        "df['charCountPerDialogue'] = df.chLine.str.len()\n",
        "\n",
        "##Get the number of words per dialogue\n",
        "df['wordCountPerDialogue'] = df.chLine.str.count(' ') + 1"
      ]
    },
    {
      "cell_type": "code",
      "execution_count": 406,
      "metadata": {},
      "outputs": [
        {
          "data": {
            "text/html": [
              "<div>\n",
              "<style scoped>\n",
              "    .dataframe tbody tr th:only-of-type {\n",
              "        vertical-align: middle;\n",
              "    }\n",
              "\n",
              "    .dataframe tbody tr th {\n",
              "        vertical-align: top;\n",
              "    }\n",
              "\n",
              "    .dataframe thead th {\n",
              "        text-align: right;\n",
              "    }\n",
              "</style>\n",
              "<table border=\"1\" class=\"dataframe\">\n",
              "  <thead>\n",
              "    <tr style=\"text-align: right;\">\n",
              "      <th></th>\n",
              "      <th>chId</th>\n",
              "      <th>mId</th>\n",
              "      <th>mName</th>\n",
              "      <th>gender</th>\n",
              "      <th>posCredits</th>\n",
              "      <th>mYear</th>\n",
              "      <th>mRating</th>\n",
              "      <th>mVotes</th>\n",
              "      <th>mGenre</th>\n",
              "      <th>chLine</th>\n",
              "      <th>chName</th>\n",
              "      <th>dialoguesCount</th>\n",
              "      <th>charCountPerDialogue</th>\n",
              "      <th>wordCountPerDialogue</th>\n",
              "    </tr>\n",
              "  </thead>\n",
              "  <tbody>\n",
              "    <tr>\n",
              "      <th>0</th>\n",
              "      <td>u0</td>\n",
              "      <td>m0</td>\n",
              "      <td>10 things i hate about you</td>\n",
              "      <td>F</td>\n",
              "      <td>4</td>\n",
              "      <td>1999</td>\n",
              "      <td>6.9</td>\n",
              "      <td>62847.0</td>\n",
              "      <td>['comedy' 'romance']</td>\n",
              "      <td>They do not!</td>\n",
              "      <td>BIANCA</td>\n",
              "      <td>92</td>\n",
              "      <td>12</td>\n",
              "      <td>3</td>\n",
              "    </tr>\n",
              "    <tr>\n",
              "      <th>1</th>\n",
              "      <td>u0</td>\n",
              "      <td>m0</td>\n",
              "      <td>10 things i hate about you</td>\n",
              "      <td>F</td>\n",
              "      <td>4</td>\n",
              "      <td>1999</td>\n",
              "      <td>6.9</td>\n",
              "      <td>62847.0</td>\n",
              "      <td>['comedy' 'romance']</td>\n",
              "      <td>I hope so.</td>\n",
              "      <td>BIANCA</td>\n",
              "      <td>92</td>\n",
              "      <td>10</td>\n",
              "      <td>3</td>\n",
              "    </tr>\n",
              "    <tr>\n",
              "      <th>2</th>\n",
              "      <td>u0</td>\n",
              "      <td>m0</td>\n",
              "      <td>10 things i hate about you</td>\n",
              "      <td>F</td>\n",
              "      <td>4</td>\n",
              "      <td>1999</td>\n",
              "      <td>6.9</td>\n",
              "      <td>62847.0</td>\n",
              "      <td>['comedy' 'romance']</td>\n",
              "      <td>Let's go.</td>\n",
              "      <td>BIANCA</td>\n",
              "      <td>92</td>\n",
              "      <td>9</td>\n",
              "      <td>2</td>\n",
              "    </tr>\n",
              "    <tr>\n",
              "      <th>3</th>\n",
              "      <td>u0</td>\n",
              "      <td>m0</td>\n",
              "      <td>10 things i hate about you</td>\n",
              "      <td>F</td>\n",
              "      <td>4</td>\n",
              "      <td>1999</td>\n",
              "      <td>6.9</td>\n",
              "      <td>62847.0</td>\n",
              "      <td>['comedy' 'romance']</td>\n",
              "      <td>Okay -- you're gonna need to learn how to lie.</td>\n",
              "      <td>BIANCA</td>\n",
              "      <td>92</td>\n",
              "      <td>46</td>\n",
              "      <td>10</td>\n",
              "    </tr>\n",
              "    <tr>\n",
              "      <th>4</th>\n",
              "      <td>u0</td>\n",
              "      <td>m0</td>\n",
              "      <td>10 things i hate about you</td>\n",
              "      <td>F</td>\n",
              "      <td>4</td>\n",
              "      <td>1999</td>\n",
              "      <td>6.9</td>\n",
              "      <td>62847.0</td>\n",
              "      <td>['comedy' 'romance']</td>\n",
              "      <td>Like my fear of wearing pastels?</td>\n",
              "      <td>BIANCA</td>\n",
              "      <td>92</td>\n",
              "      <td>32</td>\n",
              "      <td>6</td>\n",
              "    </tr>\n",
              "  </tbody>\n",
              "</table>\n",
              "</div>"
            ],
            "text/plain": [
              "  chId mId                       mName gender posCredits  mYear  mRating  \\\n",
              "0   u0  m0  10 things i hate about you      F          4   1999      6.9   \n",
              "1   u0  m0  10 things i hate about you      F          4   1999      6.9   \n",
              "2   u0  m0  10 things i hate about you      F          4   1999      6.9   \n",
              "3   u0  m0  10 things i hate about you      F          4   1999      6.9   \n",
              "4   u0  m0  10 things i hate about you      F          4   1999      6.9   \n",
              "\n",
              "    mVotes                mGenre  \\\n",
              "0  62847.0  ['comedy' 'romance']   \n",
              "1  62847.0  ['comedy' 'romance']   \n",
              "2  62847.0  ['comedy' 'romance']   \n",
              "3  62847.0  ['comedy' 'romance']   \n",
              "4  62847.0  ['comedy' 'romance']   \n",
              "\n",
              "                                           chLine  chName  dialoguesCount  \\\n",
              "0                                    They do not!  BIANCA              92   \n",
              "1                                      I hope so.  BIANCA              92   \n",
              "2                                       Let's go.  BIANCA              92   \n",
              "3  Okay -- you're gonna need to learn how to lie.  BIANCA              92   \n",
              "4                Like my fear of wearing pastels?  BIANCA              92   \n",
              "\n",
              "   charCountPerDialogue  wordCountPerDialogue  \n",
              "0                    12                     3  \n",
              "1                    10                     3  \n",
              "2                     9                     2  \n",
              "3                    46                    10  \n",
              "4                    32                     6  "
            ]
          },
          "execution_count": 406,
          "metadata": {},
          "output_type": "execute_result"
        }
      ],
      "source": [
        "df.head()"
      ]
    }
  ],
  "metadata": {
    "colab": {
      "provenance": []
    },
    "kernelspec": {
      "display_name": "Python 3",
      "name": "python3"
    },
    "language_info": {
      "codemirror_mode": {
        "name": "ipython",
        "version": 3
      },
      "file_extension": ".py",
      "mimetype": "text/x-python",
      "name": "python",
      "nbconvert_exporter": "python",
      "pygments_lexer": "ipython3",
      "version": "3.11.5"
    }
  },
  "nbformat": 4,
  "nbformat_minor": 0
}
