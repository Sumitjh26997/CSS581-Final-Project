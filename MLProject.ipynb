{
  "cells": [
    {
      "cell_type": "markdown",
      "metadata": {
        "id": "ZY5wzpCX_Wh3"
      },
      "source": [
        "**Import Section**\n",
        "\n",
        "Importing relavent packages for the project.\n",
        "\n",
        "Note: We will ignore warnings for simplicity."
      ]
    },
    {
      "cell_type": "code",
      "execution_count": 918,
      "metadata": {
        "id": "Gyj3i8G6_ALa"
      },
      "outputs": [],
      "source": [
        "import numpy as py\n",
        "import pandas as pd\n",
        "import warnings\n",
        "warnings.filterwarnings('ignore')"
      ]
    },
    {
      "cell_type": "markdown",
      "metadata": {
        "id": "Jaz5r2sc_gjs"
      },
      "source": [
        "**Creating initial dataframes**\n",
        "\n",
        "Following files are available for the project:\n",
        "\n",
        "1. movie_characters_metadata.tsv\n",
        "2. movie_conversations.tsv\n",
        "3. movie_lines.tsv\n",
        "4. movie_titles_metadata.tsv\n",
        "5. raw_script_urls\n",
        "\n",
        "\n",
        "Here are the list of initial dataframes for the respective files:\n",
        "1. characters_df\n",
        "2. conversations_df\n",
        "3. lines_df\n",
        "4. titles_df\n",
        "5. rawScript_df\n",
        "\n",
        "\n",
        "General File Features:\n",
        "1. Files are tab seperated ('\\t').\n",
        "2. There is no header or footers in any of the files.\n",
        "3. Few bad rows are present in the files. These rows will be dropped while dataframe creation. \n"
      ]
    },
    {
      "cell_type": "code",
      "execution_count": 919,
      "metadata": {
        "colab": {
          "base_uri": "https://localhost:8080/",
          "height": 242
        },
        "id": "pqLHGh6O_c08",
        "outputId": "b2a3aa22-21fd-4a4b-de0c-cad91981c957"
      },
      "outputs": [
        {
          "name": "stdout",
          "output_type": "stream",
          "text": [
            "SUCESS : 'characters_df' dataframe created from 'movie_characters_metadata.tsv'\n",
            "\n",
            "Here is a snapshot of data\n"
          ]
        },
        {
          "data": {
            "text/html": [
              "<div>\n",
              "<style scoped>\n",
              "    .dataframe tbody tr th:only-of-type {\n",
              "        vertical-align: middle;\n",
              "    }\n",
              "\n",
              "    .dataframe tbody tr th {\n",
              "        vertical-align: top;\n",
              "    }\n",
              "\n",
              "    .dataframe thead th {\n",
              "        text-align: right;\n",
              "    }\n",
              "</style>\n",
              "<table border=\"1\" class=\"dataframe\">\n",
              "  <thead>\n",
              "    <tr style=\"text-align: right;\">\n",
              "      <th></th>\n",
              "      <th>chId</th>\n",
              "      <th>chName</th>\n",
              "      <th>mId</th>\n",
              "      <th>mName</th>\n",
              "      <th>gender</th>\n",
              "      <th>posCredits</th>\n",
              "    </tr>\n",
              "  </thead>\n",
              "  <tbody>\n",
              "    <tr>\n",
              "      <th>0</th>\n",
              "      <td>u0</td>\n",
              "      <td>BIANCA</td>\n",
              "      <td>m0</td>\n",
              "      <td>10 things i hate about you</td>\n",
              "      <td>f</td>\n",
              "      <td>4</td>\n",
              "    </tr>\n",
              "    <tr>\n",
              "      <th>1</th>\n",
              "      <td>u1</td>\n",
              "      <td>BRUCE</td>\n",
              "      <td>m0</td>\n",
              "      <td>10 things i hate about you</td>\n",
              "      <td>?</td>\n",
              "      <td>?</td>\n",
              "    </tr>\n",
              "    <tr>\n",
              "      <th>2</th>\n",
              "      <td>u2</td>\n",
              "      <td>CAMERON</td>\n",
              "      <td>m0</td>\n",
              "      <td>10 things i hate about you</td>\n",
              "      <td>m</td>\n",
              "      <td>3</td>\n",
              "    </tr>\n",
              "    <tr>\n",
              "      <th>3</th>\n",
              "      <td>u3</td>\n",
              "      <td>CHASTITY</td>\n",
              "      <td>m0</td>\n",
              "      <td>10 things i hate about you</td>\n",
              "      <td>?</td>\n",
              "      <td>?</td>\n",
              "    </tr>\n",
              "    <tr>\n",
              "      <th>4</th>\n",
              "      <td>u4</td>\n",
              "      <td>JOEY</td>\n",
              "      <td>m0</td>\n",
              "      <td>10 things i hate about you</td>\n",
              "      <td>m</td>\n",
              "      <td>6</td>\n",
              "    </tr>\n",
              "  </tbody>\n",
              "</table>\n",
              "</div>"
            ],
            "text/plain": [
              "  chId    chName mId                       mName gender posCredits\n",
              "0   u0    BIANCA  m0  10 things i hate about you      f          4\n",
              "1   u1     BRUCE  m0  10 things i hate about you      ?          ?\n",
              "2   u2   CAMERON  m0  10 things i hate about you      m          3\n",
              "3   u3  CHASTITY  m0  10 things i hate about you      ?          ?\n",
              "4   u4      JOEY  m0  10 things i hate about you      m          6"
            ]
          },
          "execution_count": 919,
          "metadata": {},
          "output_type": "execute_result"
        }
      ],
      "source": [
        "##Creating characters_df dataframe from movie_characters_metadata.tsv\n",
        "\n",
        "column_names = ['chId', 'chName', 'mId', 'mName', 'gender', 'posCredits']\n",
        "characters_df = pd.read_csv('movie_characters_metadata.tsv', sep='\\t', header=None, names=column_names, on_bad_lines='skip')\n",
        "print(\"SUCESS : 'characters_df' dataframe created from 'movie_characters_metadata.tsv'\\n\")\n",
        "print('Here is a snapshot of data')\n",
        "characters_df.head()\n"
      ]
    },
    {
      "cell_type": "code",
      "execution_count": 920,
      "metadata": {
        "colab": {
          "base_uri": "https://localhost:8080/"
        },
        "id": "vKbHl2nPF9Gl",
        "outputId": "808efd72-1171-413b-a80f-1e7c32112f10"
      },
      "outputs": [
        {
          "name": "stdout",
          "output_type": "stream",
          "text": [
            "Dimension & metadata of characters_df (9034, 6)\n",
            "<class 'pandas.core.frame.DataFrame'>\n",
            "RangeIndex: 9034 entries, 0 to 9033\n",
            "Data columns (total 6 columns):\n",
            " #   Column      Non-Null Count  Dtype \n",
            "---  ------      --------------  ----- \n",
            " 0   chId        9034 non-null   object\n",
            " 1   chName      9015 non-null   object\n",
            " 2   mId         9017 non-null   object\n",
            " 3   mName       9017 non-null   object\n",
            " 4   gender      9017 non-null   object\n",
            " 5   posCredits  9017 non-null   object\n",
            "dtypes: object(6)\n",
            "memory usage: 423.6+ KB\n",
            "None\n"
          ]
        }
      ],
      "source": [
        "print(\"Dimension & metadata of characters_df\",characters_df.shape)\n",
        "print(characters_df.info())"
      ]
    },
    {
      "cell_type": "code",
      "execution_count": 921,
      "metadata": {
        "colab": {
          "base_uri": "https://localhost:8080/"
        },
        "id": "4ajUqj6_WURW",
        "outputId": "784fc255-cfff-42a8-82ec-acf31662b5b8"
      },
      "outputs": [
        {
          "name": "stdout",
          "output_type": "stream",
          "text": [
            "Distribution Of NaN across dataframe\n",
            "chId          0.00\n",
            "chName        0.21\n",
            "mId           0.19\n",
            "mName         0.19\n",
            "gender        0.19\n",
            "posCredits    0.19\n",
            "dtype: float64\n"
          ]
        }
      ],
      "source": [
        "##Checking on the percentage of NaN for each column in the dataframe\n",
        "\n",
        "nan_percentage = (characters_df.isna().mean() * 100).round(2)\n",
        "print(\"Distribution Of NaN across dataframe\")\n",
        "print(nan_percentage)"
      ]
    },
    {
      "cell_type": "code",
      "execution_count": 922,
      "metadata": {},
      "outputs": [
        {
          "name": "stdout",
          "output_type": "stream",
          "text": [
            "Number of rows that would be dropped due to NaN: 19\n"
          ]
        }
      ],
      "source": [
        "num_rows_dropped = characters_df.isna().any(axis=1).sum()\n",
        "print(\"Number of rows that would be dropped due to NaN:\", num_rows_dropped)"
      ]
    },
    {
      "cell_type": "code",
      "execution_count": 923,
      "metadata": {
        "id": "CTDeeBRRJLiz"
      },
      "outputs": [],
      "source": [
        "# Removing rows with NaN values\n",
        "characters_df = characters_df.dropna()"
      ]
    },
    {
      "cell_type": "code",
      "execution_count": 924,
      "metadata": {
        "colab": {
          "base_uri": "https://localhost:8080/"
        },
        "id": "9MibX2KJJcmG",
        "outputId": "8168a3e6-278d-46a8-9a28-757d331ca82a"
      },
      "outputs": [
        {
          "name": "stdout",
          "output_type": "stream",
          "text": [
            "Total duplicate 0\n"
          ]
        }
      ],
      "source": [
        "# Remove duplicate rows\n",
        "duplicate_counts = characters_df.duplicated().sum()\n",
        "print(\"Total duplicate\", duplicate_counts)\n",
        "if duplicate_counts > 0:\n",
        "  characters_df = characters_df.drop_duplicates()"
      ]
    },
    {
      "cell_type": "markdown",
      "metadata": {
        "id": "gUlj0xX_F5LJ"
      },
      "source": [
        "**Data Cleansing: Removing Ambiguity From The Column Gender**\n",
        "\n",
        "In this project we are dividing gender to two groups \"Male\" (M) & \"Female\" (F). \n",
        "\n",
        "However during the initial data analysis, it is identified that 4 different types of values are available in the column gender('?', 'm', 'f', 'M'). On further investigation, it has been confirmed all gender where data is 'm' & 'M' belong to male class rest can be grouped as female. The rows with '?' as gender must be dropped as chId is the identifier column for the dataframe and there is no chId with multiple gender so there is no scope for data correction.\n",
        "\n",
        "In this dataframe 'Male' class will be represented as 'M' & 'Female' class will be represented as 'F'."
      ]
    },
    {
      "cell_type": "code",
      "execution_count": 925,
      "metadata": {
        "colab": {
          "base_uri": "https://localhost:8080/"
        },
        "id": "VgBcoJ2_Es8H",
        "outputId": "11537eea-5add-4f38-c6eb-437c3b0e017c"
      },
      "outputs": [
        {
          "data": {
            "text/plain": [
              "gender\n",
              "?    6006\n",
              "m    1899\n",
              "f     921\n",
              "M     145\n",
              "F      44\n",
              "Name: count, dtype: int64"
            ]
          },
          "execution_count": 925,
          "metadata": {},
          "output_type": "execute_result"
        }
      ],
      "source": [
        "##Count of values of each gender type\n",
        "characters_df.gender.value_counts()"
      ]
    },
    {
      "cell_type": "code",
      "execution_count": 926,
      "metadata": {},
      "outputs": [
        {
          "name": "stdout",
          "output_type": "stream",
          "text": [
            "chId values with more than one gender: 0\n"
          ]
        }
      ],
      "source": [
        "##Data Analysis to check if any chId has multiple gender assigned to it.\n",
        "##Result: None found\n",
        "grouped = characters_df.groupby('chId')['gender'].nunique()\n",
        "chId_with_multiple_genders = grouped[grouped > 1].index.tolist()\n",
        "print(\"chId values with more than one gender:\", len(chId_with_multiple_genders))"
      ]
    },
    {
      "cell_type": "code",
      "execution_count": 927,
      "metadata": {
        "colab": {
          "base_uri": "https://localhost:8080/"
        },
        "id": "oeota9ysFJVR",
        "outputId": "d7fd110c-8d46-435f-84af-c8591948aa9f"
      },
      "outputs": [
        {
          "name": "stdout",
          "output_type": "stream",
          "text": [
            "Data Distribution Per Gender:\n"
          ]
        },
        {
          "data": {
            "text/plain": [
              "gender\n",
              "M    2044\n",
              "F     965\n",
              "Name: count, dtype: int64"
            ]
          },
          "execution_count": 927,
          "metadata": {},
          "output_type": "execute_result"
        }
      ],
      "source": [
        "##Removing data ambiguity from gender\n",
        "characters_df = characters_df[characters_df.gender != '?']\n",
        "characters_df.gender = characters_df.gender.apply(lambda g: 'M' if g in ['m', 'M'] else 'F')\n",
        "print(\"Data Distribution Per Gender:\")\n",
        "characters_df.gender.value_counts()"
      ]
    },
    {
      "cell_type": "markdown",
      "metadata": {
        "id": "kCu7SFbJGNsl"
      },
      "source": [
        "**Data Cleansing: Removing non-numeric values from the column posCredits**\n",
        "\n",
        "As per the column defination, 'posCredits' is  numeric column containing the information of the position where the character features in the credits. Hence this cannot be non-numeric. \n",
        "\n",
        "Since a significant number of rows (330) contain '?' we will replace it with -1. This would indicate the character didnot appear in the posCredit. \n"
      ]
    },
    {
      "cell_type": "code",
      "execution_count": 928,
      "metadata": {},
      "outputs": [
        {
          "name": "stdout",
          "output_type": "stream",
          "text": [
            "Non-numeric values in 'posCredits' column: ['?']\n",
            "Number of males with posCredits = '?': 225\n",
            "Number of females with posCredits = '?': 105\n"
          ]
        }
      ],
      "source": [
        "##Find the non-numeric value for posCredits column\n",
        "non_numeric_posCredits = characters_df.loc[~pd.to_numeric(characters_df['posCredits'], errors='coerce').notna(), 'posCredits'].unique()\n",
        "print(\"Non-numeric values in 'posCredits' column:\", non_numeric_posCredits)\n",
        "\n",
        "\n",
        "#Examine the distribution of male & female with this junk data\n",
        "filtered_df = characters_df[characters_df['posCredits'] == '?']\n",
        "# Count the number of males and females\n",
        "male_count = filtered_df[filtered_df['gender'] == 'M'].shape[0]\n",
        "female_count = filtered_df[filtered_df['gender'] == 'F'].shape[0]\n",
        "\n",
        "print(\"Number of males with posCredits = '?':\", male_count)\n",
        "print(\"Number of females with posCredits = '?':\", female_count)"
      ]
    },
    {
      "cell_type": "code",
      "execution_count": 929,
      "metadata": {
        "colab": {
          "base_uri": "https://localhost:8080/"
        },
        "id": "ue8UvbBNGSnq",
        "outputId": "690b9e2f-cdd9-48f7-8b61-8d5d87501b3e"
      },
      "outputs": [
        {
          "data": {
            "text/html": [
              "<div>\n",
              "<style scoped>\n",
              "    .dataframe tbody tr th:only-of-type {\n",
              "        vertical-align: middle;\n",
              "    }\n",
              "\n",
              "    .dataframe tbody tr th {\n",
              "        vertical-align: top;\n",
              "    }\n",
              "\n",
              "    .dataframe thead th {\n",
              "        text-align: right;\n",
              "    }\n",
              "</style>\n",
              "<table border=\"1\" class=\"dataframe\">\n",
              "  <thead>\n",
              "    <tr style=\"text-align: right;\">\n",
              "      <th></th>\n",
              "      <th>posCredits</th>\n",
              "    </tr>\n",
              "  </thead>\n",
              "  <tbody>\n",
              "    <tr>\n",
              "      <th>count</th>\n",
              "      <td>3009.000000</td>\n",
              "    </tr>\n",
              "    <tr>\n",
              "      <th>mean</th>\n",
              "      <td>17.641741</td>\n",
              "    </tr>\n",
              "    <tr>\n",
              "      <th>std</th>\n",
              "      <td>111.341380</td>\n",
              "    </tr>\n",
              "    <tr>\n",
              "      <th>min</th>\n",
              "      <td>-1.000000</td>\n",
              "    </tr>\n",
              "    <tr>\n",
              "      <th>25%</th>\n",
              "      <td>1.000000</td>\n",
              "    </tr>\n",
              "    <tr>\n",
              "      <th>50%</th>\n",
              "      <td>3.000000</td>\n",
              "    </tr>\n",
              "    <tr>\n",
              "      <th>75%</th>\n",
              "      <td>6.000000</td>\n",
              "    </tr>\n",
              "    <tr>\n",
              "      <th>max</th>\n",
              "      <td>1000.000000</td>\n",
              "    </tr>\n",
              "  </tbody>\n",
              "</table>\n",
              "</div>"
            ],
            "text/plain": [
              "        posCredits\n",
              "count  3009.000000\n",
              "mean     17.641741\n",
              "std     111.341380\n",
              "min      -1.000000\n",
              "25%       1.000000\n",
              "50%       3.000000\n",
              "75%       6.000000\n",
              "max    1000.000000"
            ]
          },
          "execution_count": 929,
          "metadata": {},
          "output_type": "execute_result"
        }
      ],
      "source": [
        "characters_df['posCredits'] = characters_df['posCredits'].replace('?', -1).astype(int)\n",
        "characters_df.describe()"
      ]
    },
    {
      "cell_type": "markdown",
      "metadata": {
        "id": "Ng3V-UdKK0xU"
      },
      "source": [
        "**Movie Title Dataframe**\n",
        "\n",
        "This dataframe is created from the movie_titles_metadata.tsv file"
      ]
    },
    {
      "cell_type": "code",
      "execution_count": 930,
      "metadata": {
        "colab": {
          "base_uri": "https://localhost:8080/",
          "height": 206
        },
        "id": "XJb9mGIxK2ty",
        "outputId": "a48916cc-a749-4540-d9e1-844c2d498f66"
      },
      "outputs": [
        {
          "name": "stdout",
          "output_type": "stream",
          "text": [
            "SUCESS : 'titles_df' dataframe created from 'movie_titles_metadata.tsv'\n",
            "\n",
            "Here is a snapshot of data\n"
          ]
        },
        {
          "data": {
            "text/html": [
              "<div>\n",
              "<style scoped>\n",
              "    .dataframe tbody tr th:only-of-type {\n",
              "        vertical-align: middle;\n",
              "    }\n",
              "\n",
              "    .dataframe tbody tr th {\n",
              "        vertical-align: top;\n",
              "    }\n",
              "\n",
              "    .dataframe thead th {\n",
              "        text-align: right;\n",
              "    }\n",
              "</style>\n",
              "<table border=\"1\" class=\"dataframe\">\n",
              "  <thead>\n",
              "    <tr style=\"text-align: right;\">\n",
              "      <th></th>\n",
              "      <th>mId</th>\n",
              "      <th>mName</th>\n",
              "      <th>mYear</th>\n",
              "      <th>mRating</th>\n",
              "      <th>mVotes</th>\n",
              "      <th>mGenre</th>\n",
              "    </tr>\n",
              "  </thead>\n",
              "  <tbody>\n",
              "    <tr>\n",
              "      <th>0</th>\n",
              "      <td>m0</td>\n",
              "      <td>10 things i hate about you</td>\n",
              "      <td>1999</td>\n",
              "      <td>6.9</td>\n",
              "      <td>62847.0</td>\n",
              "      <td>['comedy' 'romance']</td>\n",
              "    </tr>\n",
              "    <tr>\n",
              "      <th>1</th>\n",
              "      <td>m1</td>\n",
              "      <td>1492: conquest of paradise</td>\n",
              "      <td>1992</td>\n",
              "      <td>6.2</td>\n",
              "      <td>10421.0</td>\n",
              "      <td>['adventure' 'biography' 'drama' 'history']</td>\n",
              "    </tr>\n",
              "    <tr>\n",
              "      <th>2</th>\n",
              "      <td>m2</td>\n",
              "      <td>15 minutes</td>\n",
              "      <td>2001</td>\n",
              "      <td>6.1</td>\n",
              "      <td>25854.0</td>\n",
              "      <td>['action' 'crime' 'drama' 'thriller']</td>\n",
              "    </tr>\n",
              "    <tr>\n",
              "      <th>3</th>\n",
              "      <td>m3</td>\n",
              "      <td>2001: a space odyssey</td>\n",
              "      <td>1968</td>\n",
              "      <td>8.4</td>\n",
              "      <td>163227.0</td>\n",
              "      <td>['adventure' 'mystery' 'sci-fi']</td>\n",
              "    </tr>\n",
              "    <tr>\n",
              "      <th>4</th>\n",
              "      <td>m4</td>\n",
              "      <td>48 hrs.</td>\n",
              "      <td>1982</td>\n",
              "      <td>6.9</td>\n",
              "      <td>22289.0</td>\n",
              "      <td>['action' 'comedy' 'crime' 'drama' 'thriller']</td>\n",
              "    </tr>\n",
              "  </tbody>\n",
              "</table>\n",
              "</div>"
            ],
            "text/plain": [
              "  mId                       mName mYear  mRating    mVotes  \\\n",
              "0  m0  10 things i hate about you  1999      6.9   62847.0   \n",
              "1  m1  1492: conquest of paradise  1992      6.2   10421.0   \n",
              "2  m2                  15 minutes  2001      6.1   25854.0   \n",
              "3  m3       2001: a space odyssey  1968      8.4  163227.0   \n",
              "4  m4                     48 hrs.  1982      6.9   22289.0   \n",
              "\n",
              "                                           mGenre  \n",
              "0                            ['comedy' 'romance']  \n",
              "1     ['adventure' 'biography' 'drama' 'history']  \n",
              "2           ['action' 'crime' 'drama' 'thriller']  \n",
              "3                ['adventure' 'mystery' 'sci-fi']  \n",
              "4  ['action' 'comedy' 'crime' 'drama' 'thriller']  "
            ]
          },
          "execution_count": 930,
          "metadata": {},
          "output_type": "execute_result"
        }
      ],
      "source": [
        "##Creating the dataframe : titles_df\n",
        "\n",
        "column_names = ['mId', 'mName', 'mYear', 'mRating', 'mVotes', 'mGenre']\n",
        "titles_df = pd.read_csv('movie_titles_metadata.tsv', sep='\\t', names=column_names, header=None, on_bad_lines='skip')\n",
        "print(\"SUCESS : 'titles_df' dataframe created from 'movie_titles_metadata.tsv'\\n\")\n",
        "print('Here is a snapshot of data')\n",
        "titles_df.head()"
      ]
    },
    {
      "cell_type": "code",
      "execution_count": 931,
      "metadata": {
        "colab": {
          "base_uri": "https://localhost:8080/"
        },
        "id": "Dd4zDdWhLmTS",
        "outputId": "0fb0253f-fd49-42b6-f3a4-e29c984ca54b"
      },
      "outputs": [
        {
          "name": "stdout",
          "output_type": "stream",
          "text": [
            "Dimension & metadata of the dataframe (617, 6)\n",
            "<class 'pandas.core.frame.DataFrame'>\n",
            "RangeIndex: 617 entries, 0 to 616\n",
            "Data columns (total 6 columns):\n",
            " #   Column   Non-Null Count  Dtype  \n",
            "---  ------   --------------  -----  \n",
            " 0   mId      617 non-null    object \n",
            " 1   mName    616 non-null    object \n",
            " 2   mYear    616 non-null    object \n",
            " 3   mRating  616 non-null    float64\n",
            " 4   mVotes   616 non-null    float64\n",
            " 5   mGenre   616 non-null    object \n",
            "dtypes: float64(2), object(4)\n",
            "memory usage: 29.1+ KB\n",
            "None\n"
          ]
        }
      ],
      "source": [
        "print(\"Dimension & metadata of the dataframe\",titles_df.shape)\n",
        "print(titles_df.info())\n"
      ]
    },
    {
      "cell_type": "markdown",
      "metadata": {
        "id": "sTWCzlGaL-Wf"
      },
      "source": [
        "**Since the number of rows with NAN are very less we will drop rows with NAN**"
      ]
    },
    {
      "cell_type": "code",
      "execution_count": 932,
      "metadata": {
        "colab": {
          "base_uri": "https://localhost:8080/"
        },
        "id": "IQsChXClUy0B",
        "outputId": "c92231a8-bb6b-45f1-dc5c-68525f5fec93"
      },
      "outputs": [
        {
          "name": "stdout",
          "output_type": "stream",
          "text": [
            "Distribution of NAN across columns in the dataframe\n",
            "mId        0.00\n",
            "mName      0.16\n",
            "mYear      0.16\n",
            "mRating    0.16\n",
            "mVotes     0.16\n",
            "mGenre     0.16\n",
            "dtype: float64\n"
          ]
        }
      ],
      "source": [
        "print(\"Distribution of NAN across columns in the dataframe\")\n",
        "nan_percentage = (titles_df.isna().mean() * 100).round(2)\n",
        "print(nan_percentage)"
      ]
    },
    {
      "cell_type": "code",
      "execution_count": 933,
      "metadata": {},
      "outputs": [
        {
          "name": "stdout",
          "output_type": "stream",
          "text": [
            "Number of rows that would be dropped due to NaN: 1\n"
          ]
        }
      ],
      "source": [
        "num_rows_dropped = titles_df.isna().any(axis=1).sum()\n",
        "print(\"Number of rows that would be dropped due to NaN:\", num_rows_dropped)"
      ]
    },
    {
      "cell_type": "code",
      "execution_count": 934,
      "metadata": {
        "id": "llJpSbh6Wtsi"
      },
      "outputs": [],
      "source": [
        "# Remove rows with NaN values\n",
        "titles_df = titles_df.dropna()"
      ]
    },
    {
      "cell_type": "markdown",
      "metadata": {},
      "source": [
        "**No Duplicate to Delete**"
      ]
    },
    {
      "cell_type": "code",
      "execution_count": 935,
      "metadata": {
        "colab": {
          "base_uri": "https://localhost:8080/"
        },
        "id": "Tah-3pdgO-er",
        "outputId": "08ebb5a3-77a6-4192-9d1b-5b94feb0e075"
      },
      "outputs": [
        {
          "name": "stdout",
          "output_type": "stream",
          "text": [
            "Total Number of duplicate rows 0\n"
          ]
        }
      ],
      "source": [
        "# Remove duplicate rows\n",
        "duplicate_counts = titles_df.duplicated().sum()\n",
        "print(\"Total Number of duplicate rows\", duplicate_counts)\n",
        "if duplicate_counts > 0:\n",
        "  titles_df = titles_df.drop_duplicates()"
      ]
    },
    {
      "cell_type": "markdown",
      "metadata": {
        "id": "1gDJ6HVpOo7w"
      },
      "source": [
        "**No data ambiguity in the numeric columns for the dataframe**"
      ]
    },
    {
      "cell_type": "code",
      "execution_count": 936,
      "metadata": {
        "colab": {
          "base_uri": "https://localhost:8080/",
          "height": 300
        },
        "id": "oq7GXMBpObaO",
        "outputId": "c35c13ae-754a-42b8-9ca3-be034a3242ad"
      },
      "outputs": [
        {
          "data": {
            "text/html": [
              "<div>\n",
              "<style scoped>\n",
              "    .dataframe tbody tr th:only-of-type {\n",
              "        vertical-align: middle;\n",
              "    }\n",
              "\n",
              "    .dataframe tbody tr th {\n",
              "        vertical-align: top;\n",
              "    }\n",
              "\n",
              "    .dataframe thead th {\n",
              "        text-align: right;\n",
              "    }\n",
              "</style>\n",
              "<table border=\"1\" class=\"dataframe\">\n",
              "  <thead>\n",
              "    <tr style=\"text-align: right;\">\n",
              "      <th></th>\n",
              "      <th>mRating</th>\n",
              "      <th>mVotes</th>\n",
              "    </tr>\n",
              "  </thead>\n",
              "  <tbody>\n",
              "    <tr>\n",
              "      <th>count</th>\n",
              "      <td>616.000000</td>\n",
              "      <td>616.000000</td>\n",
              "    </tr>\n",
              "    <tr>\n",
              "      <th>mean</th>\n",
              "      <td>6.865584</td>\n",
              "      <td>49901.698052</td>\n",
              "    </tr>\n",
              "    <tr>\n",
              "      <th>std</th>\n",
              "      <td>1.215463</td>\n",
              "      <td>61898.367352</td>\n",
              "    </tr>\n",
              "    <tr>\n",
              "      <th>min</th>\n",
              "      <td>2.500000</td>\n",
              "      <td>9.000000</td>\n",
              "    </tr>\n",
              "    <tr>\n",
              "      <th>25%</th>\n",
              "      <td>6.200000</td>\n",
              "      <td>9992.500000</td>\n",
              "    </tr>\n",
              "    <tr>\n",
              "      <th>50%</th>\n",
              "      <td>7.000000</td>\n",
              "      <td>27121.500000</td>\n",
              "    </tr>\n",
              "    <tr>\n",
              "      <th>75%</th>\n",
              "      <td>7.800000</td>\n",
              "      <td>66890.000000</td>\n",
              "    </tr>\n",
              "    <tr>\n",
              "      <th>max</th>\n",
              "      <td>9.300000</td>\n",
              "      <td>419312.000000</td>\n",
              "    </tr>\n",
              "  </tbody>\n",
              "</table>\n",
              "</div>"
            ],
            "text/plain": [
              "          mRating         mVotes\n",
              "count  616.000000     616.000000\n",
              "mean     6.865584   49901.698052\n",
              "std      1.215463   61898.367352\n",
              "min      2.500000       9.000000\n",
              "25%      6.200000    9992.500000\n",
              "50%      7.000000   27121.500000\n",
              "75%      7.800000   66890.000000\n",
              "max      9.300000  419312.000000"
            ]
          },
          "execution_count": 936,
          "metadata": {},
          "output_type": "execute_result"
        }
      ],
      "source": [
        "titles_df.describe()"
      ]
    },
    {
      "cell_type": "markdown",
      "metadata": {
        "id": "5Qs3xaBLNxCT"
      },
      "source": [
        "**Data Cleansing: Removing Data Ambiguity from Year Column**\n",
        "\n",
        "The column 'mYear' contains information on the year of the movie release. The year information cannot be non-numeric and it has to be in 'YYYY' format.\n",
        "\n",
        "As shown below, some of the rows contain year appended with a string. As part of preprocessing, the year part is extracted from the string.\n"
      ]
    },
    {
      "cell_type": "code",
      "execution_count": 937,
      "metadata": {
        "colab": {
          "base_uri": "https://localhost:8080/"
        },
        "id": "zwaJf9waMFB0",
        "outputId": "3ef3fb94-5f2b-40ac-92dc-428508777cb2"
      },
      "outputs": [
        {
          "name": "stdout",
          "output_type": "stream",
          "text": [
            "Unique non-numeric values in column 'mYear':\n",
            "['1989/I' '1990/I' '1995/I' '1998/I' '2004/I' '2007/I' '1992/I' '2005/I'\n",
            " '2002/I' '1968/I' '1996/I' '2000/I' '2009/I' '2003/I']\n"
          ]
        }
      ],
      "source": [
        "column_name = 'mYear' \n",
        "\n",
        "# Filter non-numeric values in the specified column\n",
        "non_numeric_values = titles_df.loc[~pd.to_numeric(titles_df[column_name], errors='coerce').notna(), column_name]\n",
        "\n",
        "# Get unique non-numeric values\n",
        "unique_non_numeric_values = non_numeric_values.unique()\n",
        "\n",
        "# Display the unique non-numeric values\n",
        "print(\"Unique non-numeric values in column '{}':\".format(column_name))\n",
        "print(unique_non_numeric_values)"
      ]
    },
    {
      "cell_type": "code",
      "execution_count": 938,
      "metadata": {
        "id": "18JKOe0RMjEa"
      },
      "outputs": [],
      "source": [
        "column_name = 'mYear'\n",
        "\n",
        "# Extract numeric portion using regular expression\n",
        "titles_df[column_name] = titles_df[column_name].str.extract('(\\d+)', expand=False)\n",
        "titles_df[column_name] = titles_df[column_name].astype(int)\n"
      ]
    },
    {
      "cell_type": "markdown",
      "metadata": {},
      "source": [
        "**Final Data Snapshot**"
      ]
    },
    {
      "cell_type": "code",
      "execution_count": 939,
      "metadata": {
        "colab": {
          "base_uri": "https://localhost:8080/",
          "height": 206
        },
        "id": "YbHE-uZbM57q",
        "outputId": "e7e62d31-cfe5-4030-db9c-ffd0fd490882"
      },
      "outputs": [
        {
          "data": {
            "text/html": [
              "<div>\n",
              "<style scoped>\n",
              "    .dataframe tbody tr th:only-of-type {\n",
              "        vertical-align: middle;\n",
              "    }\n",
              "\n",
              "    .dataframe tbody tr th {\n",
              "        vertical-align: top;\n",
              "    }\n",
              "\n",
              "    .dataframe thead th {\n",
              "        text-align: right;\n",
              "    }\n",
              "</style>\n",
              "<table border=\"1\" class=\"dataframe\">\n",
              "  <thead>\n",
              "    <tr style=\"text-align: right;\">\n",
              "      <th></th>\n",
              "      <th>mId</th>\n",
              "      <th>mName</th>\n",
              "      <th>mYear</th>\n",
              "      <th>mRating</th>\n",
              "      <th>mVotes</th>\n",
              "      <th>mGenre</th>\n",
              "    </tr>\n",
              "  </thead>\n",
              "  <tbody>\n",
              "    <tr>\n",
              "      <th>0</th>\n",
              "      <td>m0</td>\n",
              "      <td>10 things i hate about you</td>\n",
              "      <td>1999</td>\n",
              "      <td>6.9</td>\n",
              "      <td>62847.0</td>\n",
              "      <td>['comedy' 'romance']</td>\n",
              "    </tr>\n",
              "    <tr>\n",
              "      <th>1</th>\n",
              "      <td>m1</td>\n",
              "      <td>1492: conquest of paradise</td>\n",
              "      <td>1992</td>\n",
              "      <td>6.2</td>\n",
              "      <td>10421.0</td>\n",
              "      <td>['adventure' 'biography' 'drama' 'history']</td>\n",
              "    </tr>\n",
              "    <tr>\n",
              "      <th>2</th>\n",
              "      <td>m2</td>\n",
              "      <td>15 minutes</td>\n",
              "      <td>2001</td>\n",
              "      <td>6.1</td>\n",
              "      <td>25854.0</td>\n",
              "      <td>['action' 'crime' 'drama' 'thriller']</td>\n",
              "    </tr>\n",
              "    <tr>\n",
              "      <th>3</th>\n",
              "      <td>m3</td>\n",
              "      <td>2001: a space odyssey</td>\n",
              "      <td>1968</td>\n",
              "      <td>8.4</td>\n",
              "      <td>163227.0</td>\n",
              "      <td>['adventure' 'mystery' 'sci-fi']</td>\n",
              "    </tr>\n",
              "    <tr>\n",
              "      <th>4</th>\n",
              "      <td>m4</td>\n",
              "      <td>48 hrs.</td>\n",
              "      <td>1982</td>\n",
              "      <td>6.9</td>\n",
              "      <td>22289.0</td>\n",
              "      <td>['action' 'comedy' 'crime' 'drama' 'thriller']</td>\n",
              "    </tr>\n",
              "  </tbody>\n",
              "</table>\n",
              "</div>"
            ],
            "text/plain": [
              "  mId                       mName  mYear  mRating    mVotes  \\\n",
              "0  m0  10 things i hate about you   1999      6.9   62847.0   \n",
              "1  m1  1492: conquest of paradise   1992      6.2   10421.0   \n",
              "2  m2                  15 minutes   2001      6.1   25854.0   \n",
              "3  m3       2001: a space odyssey   1968      8.4  163227.0   \n",
              "4  m4                     48 hrs.   1982      6.9   22289.0   \n",
              "\n",
              "                                           mGenre  \n",
              "0                            ['comedy' 'romance']  \n",
              "1     ['adventure' 'biography' 'drama' 'history']  \n",
              "2           ['action' 'crime' 'drama' 'thriller']  \n",
              "3                ['adventure' 'mystery' 'sci-fi']  \n",
              "4  ['action' 'comedy' 'crime' 'drama' 'thriller']  "
            ]
          },
          "execution_count": 939,
          "metadata": {},
          "output_type": "execute_result"
        }
      ],
      "source": [
        "titles_df.head()"
      ]
    },
    {
      "cell_type": "markdown",
      "metadata": {
        "id": "0s4cQR5cPKrY"
      },
      "source": [
        "Movie Lines"
      ]
    },
    {
      "cell_type": "code",
      "execution_count": 940,
      "metadata": {
        "colab": {
          "base_uri": "https://localhost:8080/",
          "height": 206
        },
        "id": "xavRhxvvPObe",
        "outputId": "94110105-9b09-4cf8-fc4c-00d2468b17c0"
      },
      "outputs": [
        {
          "data": {
            "text/html": [
              "<div>\n",
              "<style scoped>\n",
              "    .dataframe tbody tr th:only-of-type {\n",
              "        vertical-align: middle;\n",
              "    }\n",
              "\n",
              "    .dataframe tbody tr th {\n",
              "        vertical-align: top;\n",
              "    }\n",
              "\n",
              "    .dataframe thead th {\n",
              "        text-align: right;\n",
              "    }\n",
              "</style>\n",
              "<table border=\"1\" class=\"dataframe\">\n",
              "  <thead>\n",
              "    <tr style=\"text-align: right;\">\n",
              "      <th></th>\n",
              "      <th>lId</th>\n",
              "      <th>chId</th>\n",
              "      <th>mId</th>\n",
              "      <th>chName</th>\n",
              "      <th>chLine</th>\n",
              "    </tr>\n",
              "  </thead>\n",
              "  <tbody>\n",
              "    <tr>\n",
              "      <th>0</th>\n",
              "      <td>L1045</td>\n",
              "      <td>u0</td>\n",
              "      <td>m0</td>\n",
              "      <td>BIANCA</td>\n",
              "      <td>They do not!</td>\n",
              "    </tr>\n",
              "    <tr>\n",
              "      <th>1</th>\n",
              "      <td>L1044</td>\n",
              "      <td>u2</td>\n",
              "      <td>m0</td>\n",
              "      <td>CAMERON</td>\n",
              "      <td>They do to!</td>\n",
              "    </tr>\n",
              "    <tr>\n",
              "      <th>2</th>\n",
              "      <td>L985</td>\n",
              "      <td>u0</td>\n",
              "      <td>m0</td>\n",
              "      <td>BIANCA</td>\n",
              "      <td>I hope so.</td>\n",
              "    </tr>\n",
              "    <tr>\n",
              "      <th>3</th>\n",
              "      <td>L984</td>\n",
              "      <td>u2</td>\n",
              "      <td>m0</td>\n",
              "      <td>CAMERON</td>\n",
              "      <td>She okay?</td>\n",
              "    </tr>\n",
              "    <tr>\n",
              "      <th>4</th>\n",
              "      <td>L925</td>\n",
              "      <td>u0</td>\n",
              "      <td>m0</td>\n",
              "      <td>BIANCA</td>\n",
              "      <td>Let's go.</td>\n",
              "    </tr>\n",
              "  </tbody>\n",
              "</table>\n",
              "</div>"
            ],
            "text/plain": [
              "     lId chId mId   chName        chLine\n",
              "0  L1045   u0  m0   BIANCA  They do not!\n",
              "1  L1044   u2  m0  CAMERON   They do to!\n",
              "2   L985   u0  m0   BIANCA    I hope so.\n",
              "3   L984   u2  m0  CAMERON     She okay?\n",
              "4   L925   u0  m0   BIANCA     Let's go."
            ]
          },
          "execution_count": 940,
          "metadata": {},
          "output_type": "execute_result"
        }
      ],
      "source": [
        "column_names = ['lId', 'chId', 'mId', 'chName', 'chLine']\n",
        "lines_df = pd.read_csv('movie_lines.tsv', sep='\\t', header=None,names=column_names, on_bad_lines='skip')\n",
        "lines_df.head()"
      ]
    },
    {
      "cell_type": "code",
      "execution_count": 941,
      "metadata": {
        "colab": {
          "base_uri": "https://localhost:8080/"
        },
        "id": "waVo5F3DP1jF",
        "outputId": "4983cdb2-acb7-42db-9aa6-4bb719b6c1d2"
      },
      "outputs": [
        {
          "name": "stdout",
          "output_type": "stream",
          "text": [
            "(293202, 5)\n",
            "<class 'pandas.core.frame.DataFrame'>\n",
            "RangeIndex: 293202 entries, 0 to 293201\n",
            "Data columns (total 5 columns):\n",
            " #   Column  Non-Null Count   Dtype \n",
            "---  ------  --------------   ----- \n",
            " 0   lId     293202 non-null  object\n",
            " 1   chId    288917 non-null  object\n",
            " 2   mId     288917 non-null  object\n",
            " 3   chName  288874 non-null  object\n",
            " 4   chLine  288663 non-null  object\n",
            "dtypes: object(5)\n",
            "memory usage: 11.2+ MB\n",
            "None\n"
          ]
        }
      ],
      "source": [
        "print(lines_df.shape)\n",
        "print(lines_df.info())"
      ]
    },
    {
      "cell_type": "code",
      "execution_count": 942,
      "metadata": {
        "colab": {
          "base_uri": "https://localhost:8080/"
        },
        "id": "P9luLK0HVbw_",
        "outputId": "77ebd109-94d5-4cb1-d8d7-89540d7d8bf1"
      },
      "outputs": [
        {
          "name": "stdout",
          "output_type": "stream",
          "text": [
            "lId       0.00\n",
            "chId      1.46\n",
            "mId       1.46\n",
            "chName    1.48\n",
            "chLine    1.55\n",
            "dtype: float64\n"
          ]
        }
      ],
      "source": [
        "nan_percentage = (lines_df.isna().mean() * 100).round(2)\n",
        "print(nan_percentage)"
      ]
    },
    {
      "cell_type": "code",
      "execution_count": 943,
      "metadata": {},
      "outputs": [
        {
          "name": "stdout",
          "output_type": "stream",
          "text": [
            "Number of rows that would be dropped due to NaN: 4582\n"
          ]
        }
      ],
      "source": [
        "num_rows_dropped = lines_df.isna().any(axis=1).sum()\n",
        "print(\"Number of rows that would be dropped due to NaN:\", num_rows_dropped)"
      ]
    },
    {
      "cell_type": "code",
      "execution_count": 944,
      "metadata": {
        "id": "-7WO9yUyXCnL"
      },
      "outputs": [],
      "source": [
        "lines_df = lines_df.dropna()"
      ]
    },
    {
      "cell_type": "code",
      "execution_count": 945,
      "metadata": {
        "colab": {
          "base_uri": "https://localhost:8080/"
        },
        "id": "bNjXRLKqQn4X",
        "outputId": "5e892f10-0fe0-4cb1-f337-d54a0753e7d0"
      },
      "outputs": [
        {
          "name": "stdout",
          "output_type": "stream",
          "text": [
            "Total duplicates:  0\n"
          ]
        }
      ],
      "source": [
        "# Remove duplicate rows\n",
        "duplicate_counts = lines_df.duplicated().sum()\n",
        "print(\"Total duplicates: \",duplicate_counts)\n",
        "if duplicate_counts > 0:\n",
        "  lines_df = lines_df.drop_duplicates()"
      ]
    },
    {
      "cell_type": "code",
      "execution_count": 946,
      "metadata": {
        "colab": {
          "base_uri": "https://localhost:8080/"
        },
        "id": "LGOb4Wm1RWru",
        "outputId": "15665486-1fb2-46f2-f4e0-6a3e1579a1cc"
      },
      "outputs": [
        {
          "name": "stdout",
          "output_type": "stream",
          "text": [
            "(288620, 5)\n"
          ]
        }
      ],
      "source": [
        "print(lines_df.shape)"
      ]
    },
    {
      "cell_type": "code",
      "execution_count": 947,
      "metadata": {
        "colab": {
          "base_uri": "https://localhost:8080/",
          "height": 206
        },
        "id": "VKfwsl0MR6EU",
        "outputId": "7c6f5210-001f-401d-b3a8-72195ed69ac2"
      },
      "outputs": [
        {
          "data": {
            "text/html": [
              "<div>\n",
              "<style scoped>\n",
              "    .dataframe tbody tr th:only-of-type {\n",
              "        vertical-align: middle;\n",
              "    }\n",
              "\n",
              "    .dataframe tbody tr th {\n",
              "        vertical-align: top;\n",
              "    }\n",
              "\n",
              "    .dataframe thead th {\n",
              "        text-align: right;\n",
              "    }\n",
              "</style>\n",
              "<table border=\"1\" class=\"dataframe\">\n",
              "  <thead>\n",
              "    <tr style=\"text-align: right;\">\n",
              "      <th></th>\n",
              "      <th>chId1</th>\n",
              "      <th>chId2</th>\n",
              "      <th>mId</th>\n",
              "      <th>lineList</th>\n",
              "    </tr>\n",
              "  </thead>\n",
              "  <tbody>\n",
              "    <tr>\n",
              "      <th>0</th>\n",
              "      <td>u0</td>\n",
              "      <td>u2</td>\n",
              "      <td>m0</td>\n",
              "      <td>['L194' 'L195' 'L196' 'L197']</td>\n",
              "    </tr>\n",
              "    <tr>\n",
              "      <th>1</th>\n",
              "      <td>u0</td>\n",
              "      <td>u2</td>\n",
              "      <td>m0</td>\n",
              "      <td>['L198' 'L199']</td>\n",
              "    </tr>\n",
              "    <tr>\n",
              "      <th>2</th>\n",
              "      <td>u0</td>\n",
              "      <td>u2</td>\n",
              "      <td>m0</td>\n",
              "      <td>['L200' 'L201' 'L202' 'L203']</td>\n",
              "    </tr>\n",
              "    <tr>\n",
              "      <th>3</th>\n",
              "      <td>u0</td>\n",
              "      <td>u2</td>\n",
              "      <td>m0</td>\n",
              "      <td>['L204' 'L205' 'L206']</td>\n",
              "    </tr>\n",
              "    <tr>\n",
              "      <th>4</th>\n",
              "      <td>u0</td>\n",
              "      <td>u2</td>\n",
              "      <td>m0</td>\n",
              "      <td>['L207' 'L208']</td>\n",
              "    </tr>\n",
              "  </tbody>\n",
              "</table>\n",
              "</div>"
            ],
            "text/plain": [
              "  chId1 chId2 mId                       lineList\n",
              "0    u0    u2  m0  ['L194' 'L195' 'L196' 'L197']\n",
              "1    u0    u2  m0                ['L198' 'L199']\n",
              "2    u0    u2  m0  ['L200' 'L201' 'L202' 'L203']\n",
              "3    u0    u2  m0         ['L204' 'L205' 'L206']\n",
              "4    u0    u2  m0                ['L207' 'L208']"
            ]
          },
          "execution_count": 947,
          "metadata": {},
          "output_type": "execute_result"
        }
      ],
      "source": [
        "column_names = ['chId1', 'chId2','mId', 'lineList']\n",
        "conversations_df = pd.read_csv('movie_conversations.tsv', sep='\\t',names=column_names, header=None, on_bad_lines='skip')\n",
        "conversations_df.head()"
      ]
    },
    {
      "cell_type": "code",
      "execution_count": 948,
      "metadata": {
        "colab": {
          "base_uri": "https://localhost:8080/"
        },
        "id": "y5ONCbiuSxFn",
        "outputId": "bada3669-4e02-421b-b863-2321ddaaba7e"
      },
      "outputs": [
        {
          "name": "stdout",
          "output_type": "stream",
          "text": [
            "chId1       0.0\n",
            "chId2       0.0\n",
            "mId         0.0\n",
            "lineList    0.0\n",
            "dtype: float64\n"
          ]
        }
      ],
      "source": [
        "nan_percentage = (conversations_df.isna().mean() * 100).round(2)\n",
        "print(nan_percentage)"
      ]
    },
    {
      "cell_type": "code",
      "execution_count": 949,
      "metadata": {
        "colab": {
          "base_uri": "https://localhost:8080/"
        },
        "id": "esbuWGo6S-bb",
        "outputId": "ec57082d-ce7f-4bcd-b484-c1841d96a8fa"
      },
      "outputs": [
        {
          "name": "stdout",
          "output_type": "stream",
          "text": [
            "Total Number Of Duplicates:  0\n"
          ]
        }
      ],
      "source": [
        "# Remove duplicate rows\n",
        "duplicate_counts = lines_df.duplicated().sum()\n",
        "print(\"Total Number Of Duplicates: \", duplicate_counts)\n",
        "if duplicate_counts > 0:\n",
        "  lines_df = lines_df.drop_duplicates()"
      ]
    },
    {
      "cell_type": "code",
      "execution_count": 950,
      "metadata": {
        "colab": {
          "base_uri": "https://localhost:8080/"
        },
        "id": "9Mc8T_JoTNLt",
        "outputId": "b481ec59-4e69-493d-ce95-e0f8b09b0e12"
      },
      "outputs": [
        {
          "data": {
            "text/plain": [
              "(83097, 4)"
            ]
          },
          "execution_count": 950,
          "metadata": {},
          "output_type": "execute_result"
        }
      ],
      "source": [
        "conversations_df.shape"
      ]
    },
    {
      "cell_type": "code",
      "execution_count": 951,
      "metadata": {
        "colab": {
          "base_uri": "https://localhost:8080/"
        },
        "id": "hQHi7i2YTXTf",
        "outputId": "efa827b6-892a-4ce6-af63-4a578fe563ae"
      },
      "outputs": [
        {
          "name": "stdout",
          "output_type": "stream",
          "text": [
            "<class 'pandas.core.frame.DataFrame'>\n",
            "RangeIndex: 83097 entries, 0 to 83096\n",
            "Data columns (total 4 columns):\n",
            " #   Column    Non-Null Count  Dtype \n",
            "---  ------    --------------  ----- \n",
            " 0   chId1     83097 non-null  object\n",
            " 1   chId2     83097 non-null  object\n",
            " 2   mId       83097 non-null  object\n",
            " 3   lineList  83097 non-null  object\n",
            "dtypes: object(4)\n",
            "memory usage: 2.5+ MB\n"
          ]
        }
      ],
      "source": [
        "conversations_df.info()"
      ]
    },
    {
      "cell_type": "code",
      "execution_count": 952,
      "metadata": {
        "colab": {
          "base_uri": "https://localhost:8080/",
          "height": 206
        },
        "id": "_zRbFNgDTeKz",
        "outputId": "4a1b2de6-394d-40cc-e92c-a3e0ecdcbf14"
      },
      "outputs": [
        {
          "data": {
            "text/html": [
              "<div>\n",
              "<style scoped>\n",
              "    .dataframe tbody tr th:only-of-type {\n",
              "        vertical-align: middle;\n",
              "    }\n",
              "\n",
              "    .dataframe tbody tr th {\n",
              "        vertical-align: top;\n",
              "    }\n",
              "\n",
              "    .dataframe thead th {\n",
              "        text-align: right;\n",
              "    }\n",
              "</style>\n",
              "<table border=\"1\" class=\"dataframe\">\n",
              "  <thead>\n",
              "    <tr style=\"text-align: right;\">\n",
              "      <th></th>\n",
              "      <th>mId</th>\n",
              "      <th>mName</th>\n",
              "      <th>url</th>\n",
              "    </tr>\n",
              "  </thead>\n",
              "  <tbody>\n",
              "    <tr>\n",
              "      <th>0</th>\n",
              "      <td>m0</td>\n",
              "      <td>10 things i hate about you</td>\n",
              "      <td>http://www.dailyscript.com/scripts/10Things.html</td>\n",
              "    </tr>\n",
              "    <tr>\n",
              "      <th>1</th>\n",
              "      <td>m1</td>\n",
              "      <td>1492: conquest of paradise</td>\n",
              "      <td>http://www.hundland.org/scripts/1492-ConquestO...</td>\n",
              "    </tr>\n",
              "    <tr>\n",
              "      <th>2</th>\n",
              "      <td>m2</td>\n",
              "      <td>15 minutes</td>\n",
              "      <td>http://www.dailyscript.com/scripts/15minutes.html</td>\n",
              "    </tr>\n",
              "    <tr>\n",
              "      <th>3</th>\n",
              "      <td>m3</td>\n",
              "      <td>2001: a space odyssey</td>\n",
              "      <td>http://www.scifiscripts.com/scripts/2001.txt</td>\n",
              "    </tr>\n",
              "    <tr>\n",
              "      <th>4</th>\n",
              "      <td>m4</td>\n",
              "      <td>48 hrs.</td>\n",
              "      <td>http://www.awesomefilm.com/script/48hours.txt</td>\n",
              "    </tr>\n",
              "  </tbody>\n",
              "</table>\n",
              "</div>"
            ],
            "text/plain": [
              "  mId                       mName  \\\n",
              "0  m0  10 things i hate about you   \n",
              "1  m1  1492: conquest of paradise   \n",
              "2  m2                  15 minutes   \n",
              "3  m3       2001: a space odyssey   \n",
              "4  m4                     48 hrs.   \n",
              "\n",
              "                                                 url  \n",
              "0   http://www.dailyscript.com/scripts/10Things.html  \n",
              "1  http://www.hundland.org/scripts/1492-ConquestO...  \n",
              "2  http://www.dailyscript.com/scripts/15minutes.html  \n",
              "3       http://www.scifiscripts.com/scripts/2001.txt  \n",
              "4      http://www.awesomefilm.com/script/48hours.txt  "
            ]
          },
          "execution_count": 952,
          "metadata": {},
          "output_type": "execute_result"
        }
      ],
      "source": [
        "column_names = ['mId','mName','url']\n",
        "rawScript_df = pd.read_csv('raw_script_urls.tsv', sep='\\t', names=column_names, header=None,on_bad_lines='skip')\n",
        "rawScript_df.head()"
      ]
    },
    {
      "cell_type": "code",
      "execution_count": 953,
      "metadata": {
        "colab": {
          "base_uri": "https://localhost:8080/"
        },
        "id": "tcBC4iS3XdTu",
        "outputId": "b18768dd-6b57-402c-c332-3227eca3edb4"
      },
      "outputs": [
        {
          "data": {
            "text/plain": [
              "(617, 3)"
            ]
          },
          "execution_count": 953,
          "metadata": {},
          "output_type": "execute_result"
        }
      ],
      "source": [
        "rawScript_df.shape"
      ]
    },
    {
      "cell_type": "code",
      "execution_count": 954,
      "metadata": {
        "colab": {
          "base_uri": "https://localhost:8080/"
        },
        "id": "JjX-HcH-UKo2",
        "outputId": "1fe5db35-d13f-4454-a6c5-7d60ce13dd9a"
      },
      "outputs": [
        {
          "name": "stdout",
          "output_type": "stream",
          "text": [
            "mId      0.00\n",
            "mName    0.16\n",
            "url      0.16\n",
            "dtype: float64\n"
          ]
        }
      ],
      "source": [
        "nan_percentage = (rawScript_df.isna().mean() * 100).round(2)\n",
        "print(nan_percentage)"
      ]
    },
    {
      "cell_type": "code",
      "execution_count": 955,
      "metadata": {},
      "outputs": [
        {
          "name": "stdout",
          "output_type": "stream",
          "text": [
            "Number of rows that would be dropped due to NaN: 1\n"
          ]
        }
      ],
      "source": [
        "num_rows_dropped = rawScript_df.isna().any(axis=1).sum()\n",
        "print(\"Number of rows that would be dropped due to NaN:\", num_rows_dropped)"
      ]
    },
    {
      "cell_type": "code",
      "execution_count": 956,
      "metadata": {
        "id": "Lc6lSahKUQQs"
      },
      "outputs": [],
      "source": [
        "# Remove rows with NaN values\n",
        "rawScript_df = rawScript_df.dropna()"
      ]
    },
    {
      "cell_type": "code",
      "execution_count": 957,
      "metadata": {
        "colab": {
          "base_uri": "https://localhost:8080/"
        },
        "id": "VDCN_3fNUd8L",
        "outputId": "4c123095-72da-4951-c0d2-c3a0cb810e85"
      },
      "outputs": [
        {
          "name": "stdout",
          "output_type": "stream",
          "text": [
            "Total Number Of Duplicates:  0\n"
          ]
        }
      ],
      "source": [
        "# Remove duplicate rows\n",
        "duplicate_counts = rawScript_df.duplicated().sum()\n",
        "print(\"Total Number Of Duplicates: \", duplicate_counts)\n",
        "if duplicate_counts > 0:\n",
        "  rawScript_df = rawScript_df.drop_duplicates()"
      ]
    },
    {
      "cell_type": "code",
      "execution_count": 958,
      "metadata": {
        "colab": {
          "base_uri": "https://localhost:8080/"
        },
        "id": "lNsyhCfyXljO",
        "outputId": "9755ed0e-ca48-48dc-e8a2-bc2158dbd2e1"
      },
      "outputs": [
        {
          "data": {
            "text/plain": [
              "(616, 3)"
            ]
          },
          "execution_count": 958,
          "metadata": {},
          "output_type": "execute_result"
        }
      ],
      "source": [
        "rawScript_df.shape"
      ]
    },
    {
      "cell_type": "markdown",
      "metadata": {},
      "source": [
        "Here are the list of initial dataframes:\n",
        "1. characters_df\n",
        "2. titles_df\n",
        "3. conversations_df\n",
        "4. rawScript_df\n",
        "5. lines_df"
      ]
    },
    {
      "cell_type": "code",
      "execution_count": 959,
      "metadata": {},
      "outputs": [
        {
          "name": "stdout",
          "output_type": "stream",
          "text": [
            "Number of unique movies: 599\n"
          ]
        }
      ],
      "source": [
        "unique_movies_count = characters_df['mId'].nunique()\n",
        "print(\"Number of unique movies:\", unique_movies_count)"
      ]
    },
    {
      "cell_type": "code",
      "execution_count": 960,
      "metadata": {},
      "outputs": [
        {
          "name": "stdout",
          "output_type": "stream",
          "text": [
            "Movies in titles_df but not in characters_df: ['m237', 'm535', 'm602', 'm412', 'm270', 'm406', 'm600', 'm321', 'm338', 'm614', 'm364', 'm484', 'm456', 'm483', 'm521', 'm616', 'm135']\n",
            "Movies in characters_df but not in titles_df: []\n"
          ]
        }
      ],
      "source": [
        "# Movies in titles_df but not in characters_df\n",
        "movies_in_titles_not_in_characters = set(titles_df['mId']) - set(characters_df['mId'])\n",
        "\n",
        "# Movies in characters_df but not in titles_df\n",
        "movies_in_characters_not_in_titles = set(characters_df['mId']) - set(titles_df['mId'])\n",
        "\n",
        "# Convert the sets to lists for easier handling or further analysis\n",
        "movies_in_titles_not_in_characters_list = list(movies_in_titles_not_in_characters)\n",
        "movies_in_characters_not_in_titles_list = list(movies_in_characters_not_in_titles)\n",
        "\n",
        "print(\"Movies in titles_df but not in characters_df:\", movies_in_titles_not_in_characters_list)\n",
        "print(\"Movies in characters_df but not in titles_df:\", movies_in_characters_not_in_titles_list)\n"
      ]
    },
    {
      "cell_type": "code",
      "execution_count": 961,
      "metadata": {},
      "outputs": [
        {
          "name": "stdout",
          "output_type": "stream",
          "text": [
            "Dimension Of Charaters Dataframe (3009, 6)\n",
            "Dimension Of Merged Character Dataframe (3009, 10)\n"
          ]
        },
        {
          "data": {
            "text/html": [
              "<div>\n",
              "<style scoped>\n",
              "    .dataframe tbody tr th:only-of-type {\n",
              "        vertical-align: middle;\n",
              "    }\n",
              "\n",
              "    .dataframe tbody tr th {\n",
              "        vertical-align: top;\n",
              "    }\n",
              "\n",
              "    .dataframe thead th {\n",
              "        text-align: right;\n",
              "    }\n",
              "</style>\n",
              "<table border=\"1\" class=\"dataframe\">\n",
              "  <thead>\n",
              "    <tr style=\"text-align: right;\">\n",
              "      <th></th>\n",
              "      <th>chId</th>\n",
              "      <th>chName</th>\n",
              "      <th>mId</th>\n",
              "      <th>mName</th>\n",
              "      <th>gender</th>\n",
              "      <th>posCredits</th>\n",
              "      <th>mYear</th>\n",
              "      <th>mRating</th>\n",
              "      <th>mVotes</th>\n",
              "      <th>mGenre</th>\n",
              "    </tr>\n",
              "  </thead>\n",
              "  <tbody>\n",
              "    <tr>\n",
              "      <th>0</th>\n",
              "      <td>u0</td>\n",
              "      <td>BIANCA</td>\n",
              "      <td>m0</td>\n",
              "      <td>10 things i hate about you</td>\n",
              "      <td>F</td>\n",
              "      <td>4</td>\n",
              "      <td>1999</td>\n",
              "      <td>6.9</td>\n",
              "      <td>62847.0</td>\n",
              "      <td>['comedy' 'romance']</td>\n",
              "    </tr>\n",
              "    <tr>\n",
              "      <th>1</th>\n",
              "      <td>u2</td>\n",
              "      <td>CAMERON</td>\n",
              "      <td>m0</td>\n",
              "      <td>10 things i hate about you</td>\n",
              "      <td>M</td>\n",
              "      <td>3</td>\n",
              "      <td>1999</td>\n",
              "      <td>6.9</td>\n",
              "      <td>62847.0</td>\n",
              "      <td>['comedy' 'romance']</td>\n",
              "    </tr>\n",
              "    <tr>\n",
              "      <th>2</th>\n",
              "      <td>u4</td>\n",
              "      <td>JOEY</td>\n",
              "      <td>m0</td>\n",
              "      <td>10 things i hate about you</td>\n",
              "      <td>M</td>\n",
              "      <td>6</td>\n",
              "      <td>1999</td>\n",
              "      <td>6.9</td>\n",
              "      <td>62847.0</td>\n",
              "      <td>['comedy' 'romance']</td>\n",
              "    </tr>\n",
              "    <tr>\n",
              "      <th>3</th>\n",
              "      <td>u5</td>\n",
              "      <td>KAT</td>\n",
              "      <td>m0</td>\n",
              "      <td>10 things i hate about you</td>\n",
              "      <td>F</td>\n",
              "      <td>2</td>\n",
              "      <td>1999</td>\n",
              "      <td>6.9</td>\n",
              "      <td>62847.0</td>\n",
              "      <td>['comedy' 'romance']</td>\n",
              "    </tr>\n",
              "    <tr>\n",
              "      <th>4</th>\n",
              "      <td>u6</td>\n",
              "      <td>MANDELLA</td>\n",
              "      <td>m0</td>\n",
              "      <td>10 things i hate about you</td>\n",
              "      <td>F</td>\n",
              "      <td>7</td>\n",
              "      <td>1999</td>\n",
              "      <td>6.9</td>\n",
              "      <td>62847.0</td>\n",
              "      <td>['comedy' 'romance']</td>\n",
              "    </tr>\n",
              "  </tbody>\n",
              "</table>\n",
              "</div>"
            ],
            "text/plain": [
              "  chId    chName mId                       mName gender  posCredits  mYear  \\\n",
              "0   u0    BIANCA  m0  10 things i hate about you      F           4   1999   \n",
              "1   u2   CAMERON  m0  10 things i hate about you      M           3   1999   \n",
              "2   u4      JOEY  m0  10 things i hate about you      M           6   1999   \n",
              "3   u5       KAT  m0  10 things i hate about you      F           2   1999   \n",
              "4   u6  MANDELLA  m0  10 things i hate about you      F           7   1999   \n",
              "\n",
              "   mRating   mVotes                mGenre  \n",
              "0      6.9  62847.0  ['comedy' 'romance']  \n",
              "1      6.9  62847.0  ['comedy' 'romance']  \n",
              "2      6.9  62847.0  ['comedy' 'romance']  \n",
              "3      6.9  62847.0  ['comedy' 'romance']  \n",
              "4      6.9  62847.0  ['comedy' 'romance']  "
            ]
          },
          "execution_count": 961,
          "metadata": {},
          "output_type": "execute_result"
        }
      ],
      "source": [
        "detailed_characters_df = characters_df.merge(titles_df[['mId', 'mYear', 'mRating', 'mVotes', 'mGenre']], on='mId', how='left')\n",
        "print(\"Dimension Of Charaters Dataframe\",characters_df.shape)\n",
        "print(\"Dimension Of Merged Character Dataframe\",detailed_characters_df.shape)\n",
        "detailed_characters_df.head()"
      ]
    },
    {
      "cell_type": "code",
      "execution_count": 962,
      "metadata": {},
      "outputs": [
        {
          "name": "stdout",
          "output_type": "stream",
          "text": [
            "Total Number Of Duplicates:  0\n"
          ]
        }
      ],
      "source": [
        "duplicate_counts = detailed_characters_df.duplicated().sum()\n",
        "print(\"Total Number Of Duplicates: \", duplicate_counts)"
      ]
    },
    {
      "cell_type": "code",
      "execution_count": 963,
      "metadata": {},
      "outputs": [
        {
          "name": "stdout",
          "output_type": "stream",
          "text": [
            "chId          0.0\n",
            "chName        0.0\n",
            "mId           0.0\n",
            "mName         0.0\n",
            "gender        0.0\n",
            "posCredits    0.0\n",
            "mYear         0.0\n",
            "mRating       0.0\n",
            "mVotes        0.0\n",
            "mGenre        0.0\n",
            "dtype: float64\n"
          ]
        }
      ],
      "source": [
        "nan_percentage = (detailed_characters_df.isna().mean() * 100).round(2)\n",
        "print(nan_percentage)"
      ]
    },
    {
      "cell_type": "code",
      "execution_count": 964,
      "metadata": {},
      "outputs": [
        {
          "name": "stdout",
          "output_type": "stream",
          "text": [
            "Characters in lines_df but not in detailed_characters_df: ['u4095', 'u5463', 'u6293', 'u3271', 'u815', 'u4259', 'u1085', 'u8313', 'u3160', 'u5896', 'u7278', 'u2964', 'u5149', 'u4669', 'u1876', 'u1808', 'u316', 'u3692', 'u3347', 'u2258', 'u7907', 'u518', 'u448', 'u3721', 'u1683', 'u7882', 'u1075', 'u3855', 'u4947', 'u484', 'u107', 'u4371', 'u2145', 'u1337', 'u2437', 'u5619', 'u410', 'u3038', 'u5879', 'u7095', 'u3958', 'u1914', 'u6097', 'u6644', 'u1590', 'u3320', 'u1291', 'u149', 'u3128', 'u3950', 'u1942', 'u7726', 'u1033', 'u3790', 'u3925', 'u6570', 'u4254', 'u7241', 'u1439', 'u7609', 'u2396', 'u4944', 'u7685', 'u8921', 'u1168', 'u5775', 'u6244', 'u2257', 'u1401', 'u1250', 'u2694', 'u6485', 'u1690', 'u6888', 'u9027', 'u647', 'u1726', 'u396', 'u7466', 'u5786', 'u2703', 'u6973', 'u7393', 'u1182', 'u5765', 'u6275', 'u568', 'u7861', 'u5955', 'u7549', 'u2713', 'u6764', 'u4272', 'u1316', 'u3328', 'u4313', 'u6272', 'u4816', 'u6307', 'u9010', 'u8485', 'u4229', 'u4821', 'u6441', 'u2548', 'u8116', 'u202', 'u4038', 'u356', 'u4343', 'u989', 'u618', 'u7427', 'u563', 'u399', 'u4378', 'u2112', 'u8237', 'u1623', 'u8024', 'u3614', 'u311', 'u941', 'u1197', 'u1694', 'u2303', 'u6585', 'u7488', 'u3226', 'u6924', 'u8747', 'u8678', 'u2693', 'u2910', 'u3683', 'u3905', 'u510', 'u8449', 'u6377', 'u1207', 'u5801', 'u1954', 'u2543', 'u808', 'u5320', 'u1882', 'u6870', 'u7136', 'u7238', 'u5294', 'u1335', 'u2605', 'u2811', 'u5131', 'u9033', 'u2731', 'u307', 'u4777', 'u6254', 'u6006', 'u8052', 'u7334', 'u3670', 'u2604', 'u2719', 'u6956', 'u3874', 'u6264', 'u1982', 'u679', 'u3577', 'u5446', 'u3158', 'u2801', 'u4182', 'u811', 'u6298', 'u4440', 'u449', 'u2361', 'u8730', 'u3052', 'u2790', 'u12', 'u4545', 'u4061', 'u8184', 'u8579', 'u7832', 'u2293', 'u628', 'u37', 'u6643', 'u1986', 'u80', 'u7601', 'u1301', 'u3046', 'u7631', 'u7117', 'u7240', 'u5238', 'u4163', 'u3482', 'u207', 'u8792', 'u1376', 'u8374', 'u1029', 'u7237', 'u1170', 'u6214', 'u2558', 'u7642', 'u3590', 'u1157', 'u2732', 'u1080', 'u4461', 'u4211', 'u6154', 'u683', 'u5636', 'u2865', 'u3682', 'u2121', 'u5911', 'u7731', 'u2063', 'u1910', 'u2829', 'u6093', 'u1472', 'u1802', 'u8987', 'u7378', 'u8740', 'u1209', 'u853', 'u5977', 'u729', 'u5713', 'u8509', 'u8112', 'u4431', 'u1658', 'u343', 'u5459', 'u7449', 'u1901', 'u1847', 'u3082', 'u6131', 'u7760', 'u8681', 'u1039', 'u3655', 'u6726', 'u2579', 'u6716', 'u7507', 'u1408', 'u4757', 'u3672', 'u6844', 'u2082', 'u3089', 'u2919', 'u6867', 'u5635', 'u3748', 'u6604', 'u3991', 'u7347', 'u2913', 'u4870', 'u369', 'u8664', 'u458', 'u7481', 'u7756', 'u6353', 'u617', 'u5890', 'u7296', 'u6702', 'u3030', 'u1278', 'u5897', 'u2537', 'u3889', 'u561', 'u800', 'u8892', 'u6239', 'u4529', 'u6309', 'u2796', 'u3384', 'u8842', 'u8187', 'u4164', 'u24', 'u3698', 'u4379', 'u5950', 'u6207', 'u4454', 'u5478', 'u4814', 'u5390', 'u5280', 'u2284', 'u5537', 'u7627', 'u4207', 'u5475', 'u6662', 'u1386', 'u8459', 'u8661', 'u7050', 'u7991', 'u5966', 'u2917', 'u2806', 'u7419', 'u4886', 'u6124', 'u8347', 'u7315', 'u2868', 'u8856', 'u340', 'u57', 'u1021', 'u1225', 'u4223', 'u7969', 'u2417', 'u3831', 'u2430', 'u2949', 'u705', 'u223', 'u5809', 'u5170', 'u3222', 'u5206', 'u5694', 'u6034', 'u7904', 'u3056', 'u8915', 'u7420', 'u5954', 'u2630', 'u1554', 'u6893', 'u591', 'u2214', 'u8653', 'u8989', 'u53', 'u5824', 'u9014', 'u6319', 'u4100', 'u6569', 'u3286', 'u8727', 'u6312', 'u6255', 'u2181', 'u3613', 'u2990', 'u7763', 'u4001', 'u298', 'u1217', 'u8393', 'u6743', 'u7509', 'u4762', 'u2359', 'u2781', 'u7575', 'u7052', 'u7253', 'u3269', 'u2909', 'u7797', 'u2335', 'u1079', 'u6397', 'u1053', 'u3544', 'u7231', 'u8908', 'u3797', 'u1312', 'u2925', 'u2260', 'u1549', 'u3853', 'u7045', 'u7398', 'u4026', 'u3337', 'u5084', 'u283', 'u6969', 'u8371', 'u3815', 'u2391', 'u8711', 'u4392', 'u6088', 'u6806', 'u8003', 'u2187', 'u8343', 'u6076', 'u381', 'u2954', 'u8386', 'u7263', 'u2180', 'u2973', 'u6866', 'u5832', 'u1009', 'u4403', 'u2075', 'u7749', 'u2727', 'u8220', 'u5851', 'u2602', 'u1129', 'u203', 'u7595', 'u4357', 'u8294', 'u7495', 'u437', 'u4670', 'u8128', 'u631', 'u5274', 'u6457', 'u7301', 'u2883', 'u4200', 'u6030', 'u5872', 'u1158', 'u4276', 'u5892', 'u8441', 'u3423', 'u3978', 'u8068', 'u5256', 'u3674', 'u4142', 'u486', 'u2597', 'u6310', 'u5255', 'u6509', 'u4621', 'u6670', 'u4680', 'u4883', 'u7689', 'u2096', 'u1857', 'u438', 'u1099', 'u6186', 'u7407', 'u5291', 'u530', 'u6421', 'u5935', 'u5479', 'u8562', 'u6023', 'u7181', 'u7623', 'u4442', 'u7214', 'u4607', 'u774', 'u4496', 'u3300', 'u633', 'u6042', 'u7519', 'u2479', 'u4938', 'u6942', 'u5777', 'u3959', 'u5569', 'u8649', 'u1902', 'u7228', 'u4809', 'u8731', 'u7771', 'u2468', 'u3733', 'u6408', 'u7973', 'u6516', 'u7793', 'u1270', 'u8886', 'u2566', 'u4820', 'u3898', 'u7592', 'u8330', 'u350', 'u7266', 'u2561', 'u3620', 'u6902', 'u2246', 'u4297', 'u3060', 'u8995', 'u6474', 'u3679', 'u3795', 'u4799', 'u1606', 'u3350', 'u1055', 'u2862', 'u7984', 'u6265', 'u655', 'u6479', 'u5468', 'u860', 'u4792', 'u8874', 'u1289', 'u4741', 'u6062', 'u6873', 'u587', 'u7396', 'u2970', 'u1271', 'u6984', 'u3202', 'u1667', 'u7093', 'u3949', 'u4608', 'u206', 'u2857', 'u6748', 'u6283', 'u3962', 'u2149', 'u6752', 'u6848', 'u7489', 'u1256', 'u3502', 'u1950', 'u6565', 'u3116', 'u2306', 'u32', 'u6519', 'u3085', 'u4213', 'u361', 'u4328', 'u7716', 'u7395', 'u6172', 'u1603', 'u305', 'u7906', 'u5536', 'u991', 'u2136', 'u7077', 'u3103', 'u8917', 'u4985', 'u8458', 'u6705', 'u1880', 'u6219', 'u2313', 'u8629', 'u1123', 'u1998', 'u3522', 'u2965', 'u8703', 'u3558', 'u8967', 'u5021', 'u8422', 'u5949', 'u3097', 'u5698', 'u7747', 'u4078', 'u6028', 'u4698', 'u6669', 'u2660', 'u6675', 'u3267', 'u2981', 'u8479', 'u2702', 'u5198', 'u4616', 'u6252', 'u3477', 'u8573', 'u7182', 'u5774', 'u1717', 'u8266', 'u1908', 'u3521', 'u836', 'u8346', 'u3464', 'u3839', 'u7313', 'u2311', 'u6732', 'u7795', 'u5960', 'u7782', 'u8037', 'u8436', 'u7183', 'u6069', 'u6197', 'u6939', 'u6946', 'u1789', 'u6678', 'u358', 'u6832', 'u6240', 'u5699', 'u3565', 'u823', 'u8402', 'u8428', 'u524', 'u8327', 'u4528', 'u2406', 'u1156', 'u7648', 'u7416', 'u4280', 'u1941', 'u2986', 'u2377', 'u4042', 'u3848', 'u4388', 'u770', 'u2195', 'u1689', 'u3471', 'u2273', 'u2251', 'u5995', 'u17', 'u1477', 'u7285', 'u6547', 'u4842', 'u2290', 'u4484', 'u8219', 'u3424', 'u1137', 'u4108', 'u8807', 'u5799', 'u5833', 'u6937', 'u3010', 'u4786', 'u1426', 'u3247', 'u4346', 'u975', 'u857', 'u2170', 'u1537', 'u2250', 'u3473', 'u7438', 'u8165', 'u3151', 'u3149', 'u3660', 'u8324', 'u5974', 'u2977', 'u6655', 'u372', 'u4628', 'u4882', 'u801', 'u3548', 'u2718', 'u7053', 'u3800', 'u6477', 'u1581', 'u5751', 'u1249', 'u7321', 'u1607', 'u6549', 'u2211', 'u4027', 'u5579', 'u2015', 'u3946', 'u2598', 'u8138', 'u5531', 'u3291', 'u7993', 'u8783', 'u6106', 'u5875', 'u8670', 'u5266', 'u6178', 'u2562', 'u5794', 'u648', 'u4191', 'u5836', 'u6061', 'u5384', 'u6790', 'u7708', 'u4632', 'u1423', 'u7297', 'u7205', 'u5485', 'u491', 'u9026', 'u4845', 'u6234', 'u2002', 'u3653', 'u3854', 'u1727', 'u549', 'u159', 'u8910', 'u8597', 'u4285', 'u8425', 'u4873', 'u4048', 'u5736', 'u1921', 'u790', 'u8608', 'u2832', 'u8875', 'u809', 'u5681', 'u133', 'u3130', 'u4580', 'u3975', 'u8454', 'u2886', 'u4186', 'u2607', 'u906', 'u5186', 'u8212', 'u719', 'u1378', 'u2555', 'u5308', 'u8605', 'u3462', 'u6261', 'u1878', 'u2449', 'u4389', 'u688', 'u4488', 'u7271', 'u3624', 'u8766', 'u1383', 'u6685', 'u3769', 'u9011', 'u226', 'u7038', 'u7670', 'u4018', 'u4448', 'u5432', 'u2823', 'u7087', 'u3364', 'u3821', 'u5023', 'u342', 'u5559', 'u8452', 'u5566', 'u3084', 'u5460', 'u4106', 'u3810', 'u3726', 'u219', 'u4888', 'u5908', 'u4599', 'u5677', 'u3776', 'u6798', 'u1466', 'u5261', 'u8616', 'u2142', 'u8603', 'u3594', 'u7591', 'u2772', 'u8384', 'u3133', 'u1851', 'u8000', 'u7191', 'u7596', 'u3740', 'u1438', 'u3665', 'u5734', 'u4519', 'u5176', 'u4981', 'u3463', 'u8344', 'u5913', 'u3609', 'u2870', 'u2989', 'u6972', 'u4800', 'u527', 'u1973', 'u2301', 'u625', 'u7501', 'u1816', 'u5233', 'u6796', 'u1465', 'u1290', 'u4114', 'u3860', 'u3377', 'u5421', 'u7740', 'u6988', 'u3573', 'u4264', 'u258', 'u301', 'u5385', 'u6193', 'u7874', 'u8392', 'u6396', 'u7084', 'u8339', 'u6338', 'u8667', 'u4696', 'u3343', 'u7681', 'u7583', 'u7174', 'u2116', 'u6582', 'u3799', 'u8098', 'u630', 'u5651', 'u4695', 'u7606', 'u687', 'u2300', 'u8129', 'u6448', 'u2060', 'u3165', 'u981', 'u3432', 'u3824', 'u6311', 'u7455', 'u7679', 'u654', 'u8852', 'u1766', 'u4172', 'u22', 'u5502', 'u3360', 'u960', 'u245', 'u5646', 'u3401', 'u5068', 'u8952', 'u7737', 'u2087', 'u4747', 'u4047', 'u2753', 'u7157', 'u435', 'u4162', 'u8464', 'u8296', 'u8997', 'u5659', 'u8423', 'u3621', 'u4111', 'u7172', 'u551', 'u6894', 'u3170', 'u8708', 'u5045', 'u2091', 'u4853', 'u3789', 'u1007', 'u5743', 'u7743', 'u2302', 'u3762', 'u4243', 'u6282', 'u394', 'u4521', 'u5505', 'u2039', 'u4629', 'u2676', 'u963', 'u3037', 'u3223', 'u6052', 'u3723', 'u6508', 'u1970', 'u183', 'u907', 'u2446', 'u3040', 'u1775', 'u5884', 'u2915', 'u1485', 'u8373', 'u3743', 'u2259', 'u4217', 'u6725', 'u6680', 'u6388', 'u5630', 'u1872', 'u7476', 'u5714', 'u8669', 'u3422', 'u6928', 'u3287', 'u662', 'u660', 'u3668', 'u8706', 'u5307', 'u842', 'u3381', 'u51', 'u3227', 'u8775', 'u2565', 'u8881', 'u2549', 'u6132', 'u1385', 'u7192', 'u3484', 'u3691', 'u3507', 'u4564', 'u6339', 'u1331', 'u1714', 'u5701', 'u7065', 'u8571', 'u172', 'u215', 'u7630', 'u3445', 'u8309', 'u2740', 'u6784', 'u209', 'u6304', 'u1710', 'u3720', 'u533', 'u4700', 'u4248', 'u2439', 'u324', 'u7097', 'u4426', 'u8804', 'u8512', 'u6066', 'u3846', 'u5812', 'u5910', 'u7971', 'u4561', 'u6458', 'u3596', 'u7300', 'u2332', 'u6389', 'u7338', 'u3029', 'u1026', 'u6151', 'u1462', 'u7090', 'u2049', 'u2891', 'u442', 'u3886', 'u7862', 'u2825', 'u5692', 'u8303', 'u7168', 'u46', 'u3904', 'u6505', 'u986', 'u5427', 'u6595', 'u6795', 'u1965', 'u4516', 'u5864', 'u1226', 'u210', 'u4625', 'u48', 'u2357', 'u1269', 'u8737', 'u1366', 'u9003', 'u1997', 'u7137', 'u3880', 'u3436', 'u8753', 'u7070', 'u8778', 'u3229', 'u5165', 'u964', 'u6390', 'u6422', 'u4227', 'u8975', 'u3968', 'u6235', 'u2376', 'u4655', 'u6202', 'u4123', 'u2194', 'u6762', 'u1140', 'u8021', 'u1795', 'u9032', 'u6908', 'u2773', 'u4850', 'u5934', 'u5449', 'u4319', 'u4793', 'u5429', 'u4742', 'u3281', 'u1492', 'u8660', 'u6910', 'u8007', 'u5985', 'u280', 'u5087', 'u3526', 'u1144', 'u3435', 'u8953', 'u7958', 'u8530', 'u346', 'u6884', 'u1445', 'u8537', 'u3491', 'u6380', 'u2767', 'u8890', 'u88', 'u8505', 'u8326', 'u973', 'u1542', 'u4783', 'u5027', 'u5631', 'u3534', 'u3169', 'u4173', 'u5474', 'u4549', 'u124', 'u3719', 'u4480', 'u140', 'u7714', 'u5696', 'u4550', 'u5927', 'u1713', 'u8983', 'u6445', 'u7508', 'u5589', 'u1822', 'u2624', 'u761', 'u7605', 'u8806', 'u1393', 'u1442', 'u1300', 'u5819', 'u1464', 'u5590', 'u6911', 'u2232', 'u4692', 'u6286', 'u971', 'u4559', 'u7200', 'u507', 'u5766', 'u8646', 'u5685', 'u355', 'u2650', 'u999', 'u6014', 'u6366', 'u5180', 'u2191', 'u194', 'u3867', 'u3470', 'u8390', 'u7647', 'u6327', 'u8868', 'u3840', 'u2509', 'u876', 'u321', 'u6869', 'u6423', 'u7350', 'u4436', 'u5260', 'u6313', 'u2153', 'u8337', 'u3077', 'u4932', 'u4113', 'u3278', 'u2662', 'u125', 'u7688', 'u1995', 'u277', 'u8035', 'u639', 'u6374', 'u4318', 'u5426', 'u720', 'u2097', 'u5207', 'u4918', 'u1613', 'u4536', 'u3619', 'u2140', 'u5787', 'u2855', 'u314', 'u2498', 'u386', 'u5816', 'u7006', 'u5464', 'u8648', 'u248', 'u3805', 'u2725', 'u5042', 'u3015', 'u1224', 'u8721', 'u6839', 'u2222', 'u1126', 'u76', 'u7781', 'u3783', 'u1491', 'u5608', 'u7639', 'u1114', 'u5740', 'u6336', 'u3941', 'u268', 'u1012', 'u865', 'u1347', 'u2759', 'u2619', 'u7075', 'u7109', 'u2515', 'u7246', 'u8351', 'u7259', 'u2206', 'u5402', 'u256', 'u5850', 'u6195', 'u6835', 'u408', 'u8897', 'u889', 'u2907', 'u544', 'u8547', 'u6463', 'u5465', 'u5050', 'u8210', 'u6600', 'u789', 'u2328', 'u4923', 'u1536', 'u3315', 'u136', 'u4277', 'u1841', 'u2758', 'u2867', 'u4232', 'u5700', 'u6592', 'u6709', 'u6086', 'u1260', 'u3579', 'u6181', 'u185', 'u1501', 'u5303', 'u6284', 'u7001', 'u8654', 'u4340', 'u8158', 'u5546', 'u6769', 'u1346', 'u6540', 'u6314', 'u6779', 'u891', 'u4801', 'u3441', 'u3936', 'u7550', 'u5543', 'u709', 'u1014', 'u7829', 'u7317', 'u3588', 'u2155', 'u8793', 'u6108', 'u4009', 'u3304', 'u117', 'u2212', 'u1253', 'u4138', 'u1681', 'u9005', 'u2978', 'u7067', 'u6823', 'u7778', 'u7511', 'u1390', 'u6999', 'u3802', 'u1196', 'u1533', 'u8108', 'u1673', 'u7099', 'u1242', 'u6686', 'u5944', 'u5248', 'u7194', 'u481', 'u6766', 'u1371', 'u3903', 'u7129', 'u7479', 'u5324', 'u4716', 'u7654', 'u6661', 'u7445', 'u2960', 'u7785', 'u8972', 'u86', 'u4456', 'u7859', 'u1860', 'u5070', 'u7866', 'u2407', 'u7752', 'u1488', 'u4360', 'u4069', 'u5150', 'u6917', 'u4919', 'u5121', 'u3469', 'u673', 'u1842', 'u5639', 'u7857', 'u2539', 'u5624', 'u3262', 'u7555', 'u263', 'u8087', 'u946', 'u4861', 'u1521', 'u7626', 'u627', 'u3598', 'u6209', 'u5277', 'u3187', 'u4650', 'u1966', 'u1988', 'u464', 'u3538', 'u759', 'u5654', 'u3236', 'u6900', 'u2911', 'u3966', 'u3634', 'u8044', 'u7401', 'u1531', 'u3759', 'u787', 'u5013', 'u3069', 'u6640', 'u5453', 'u7570', 'u4294', 'u7028', 'u598', 'u5272', 'u1471', 'u5113', 'u8102', 'u6451', 'u4825', 'u2669', 'u5155', 'u7753', 'u7451', 'u7299', 'u7035', 'u4289', 'u4532', 'u7482', 'u3361', 'u3992', 'u1566', 'u1175', 'u2726', 'u4591', 'u1818', 'u1621', 'u4804', 'u9024', 'u2552', 'u4446', 'u2710', 'u1056', 'u4187', 'u3385', 'u7143', 'u4452', 'u1206', 'u2443', 'u1167', 'u31', 'u8047', 'u7498', 'u4146', 'u5903', 'u4701', 'u7108', 'u4881', 'u644', 'u1732', 'u7421', 'u8787', 'u7282', 'u4457', 'u8008', 'u5031', 'u8942', 'u2093', 'u5033', 'u8281', 'u3021', 'u3761', 'u8576', 'u2994', 'u466', 'u965', 'u621', 'u7456', 'u5458', 'u784', 'u8117', 'u5886', 'u555', 'u7091', 'u8888', 'u7007', 'u3064', 'u2582', 'u8582', 'u3751', 'u6175', 'u537', 'u2659', 'u4406', 'u1944', 'u7951', 'u2491', 'u2707', 'u3449', 'u4636', 'u5509', 'u6905', 'u2827', 'u7131', 'u7887', 'u7636', 'u8432', 'u7790', 'u4586', 'u160', 'u3963', 'u3363', 'u4483', 'u8556', 'u2444', 'u2733', 'u328', 'u7164', 'u1735', 'u1324', 'u1104', 'u1659', 'u3515', 'u3563', 'u7819', 'u3221', 'u4273', 'u5283', 'u4158', 'u2926', 'u8078', 'u7804', 'u8058', 'u8093', 'u3454', 'u8791', 'u2321', 'u7185', 'u6707', 'u6590', 'u8799', 'u3242', 'u5082', 'u7132', 'u581', 'u837', 'u5127', 'u5484', 'u5831', 'u6147', 'u4410', 'u7757', 'u4053', 'u2345', 'u61', 'u1134', 'u3095', 'u602', 'u4275', 'u5926', 'u8293', 'u4683', 'u3693', 'u1098', 'u5647', 'u8113', 'u4493', 'u8745', 'u7281', 'u7269', 'u7923', 'u657', 'u3636', 'u3960', 'u2631', 'u5813', 'u7490', 'u7397', 'u4619', 'u3627', 'u5175', 'u190', 'u5557', 'u443', 'u2683', 'u3929', 'u3006', 'u6091', 'u8085', 'u8673', 'u8827', 'u7233', 'u979', 'u2983', 'u7577', 'u6022', 'u8999', 'u2771', 'u1296', 'u3263', 'u5680', 'u8610', 'u7322', 'u3757', 'u1777', 'u3411', 'u426', 'u2235', 'u5641', 'u5893', 'u2179', 'u4246', 'u2440', 'u1544', 'u5564', 'u2282', 'u8574', 'u6699', 'u7244', 'u2640', 'u3431', 'u8515', 'u7745', 'u284', 'u6510', 'u7359', 'u1302', 'u5060', 'u2953', 'u698', 'u1657', 'u5871', 'u4320', 'u1506', 'u4526', 'u908', 'u2373', 'u4419', 'u8884', 'u5044', 'u8382', 'u7179', 'u4678', 'u2824', 'u4447', 'u6495', 'u940', 'u5967', 'u6465', 'u3881', 'u8473', 'u6825', 'u5254', 'u3257', 'u8056', 'u1793', 'u4916', 'u3295', 'u2656', 'u7699', 'u3896', 'u2822', 'u6627', 'u8788', 'u6586', 'u8625', 'u5717', 'u4152', 'u8073', 'u7459', 'u6211', 'u3553', 'u2842', 'u8494', 'u318', 'u2133', 'u5679', 'u3359', 'u1461', 'u951', 'u3974', 'u3597', 'u6263', 'u8861', 'u7346', 'u2787', 'u8369', 'u2353', 'u2029', 'u2799', 'u1489', 'u3851', 'u3397', 'u6935', 'u4193', 'u3375', 'u1805', 'u304', 'u3804', 'u4036', 'u5845', 'u7660', 'u5017', 'u1815', 'u7196', 'u4244', 'u6394', 'u970', 'u2233', 'u4905', 'u8626', 'u4109', 'u8480', 'u7918', 'u8528', 'u7027', 'u2684', 'u2398', 'u4072', 'u760', 'u1336', 'u7015', 'u156', 'u2626', 'u5705', 'u7836', 'u1208', 'u6933', 'u5106', 'u4922', 'u3584', 'u8166', 'u6032', 'u96', 'u1828', 'u2533', 'u3224', 'u94', 'u4523', 'u7827', 'u8152', 'u6046', 'u7140', 'u4422', 'u2168', 'u1309', 'u1797', 'u8234', 'u8404', 'u2775', 'u1495', 'u2930', 'u3404', 'u3651', 'u949', 'u3336', 'u8249', 'u2390', 'u91', 'u1494', 'u499', 'u6153', 'u5763', 'u5969', 'u8925', 'u8478', 'u7733', 'u2677', 'u8992', 'u5580', 'u118', 'u7810', 'u2349', 'u4755', 'u2068', 'u6452', 'u6513', 'u5583', 'u196', 'u8460', 'u8584', 'u791', 'u2336', 'u3547', 'u7405', 'u5133', 'u389', 'u430', 'u1709', 'u70', 'u1869', 'u5096', 'u1671', 'u405', 'u4336', 'u6133', 'u3662', 'u1823', 'u2700', 'u1814', 'u6053', 'u5808', 'u2936', 'u1892', 'u6916', 'u4544', 'u7448', 'u2014', 'u3141', 'u6478', 'u6025', 'u4856', 'u4118', 'u3109', 'u7989', 'u6923', 'u8305', 'u3999', 'u81', 'u1136', 'u8544', 'u7742', 'u588', 'u1353', 'u3836', 'u4740', 'u6369', 'u2955', 'u6504', 'u2402', 'u987', 'u3645', 'u7399', 'u8814', 'u8568', 'u8357', 'u6491', 'u7441', 'u167', 'u1410', 'u1938', 'u651', 'u2875', 'u5423', 'u4955', 'u5169', 'u3246', 'u4736', 'u9006', 'u844', 'u8438', 'u6518', 'u7551', 'u6573', 'u6288', 'u6210', 'u8416', 'u8172', 'u3915', 'u1443', 'u5091', 'u1421', 'u2458', 'u2166', 'u4822', 'u7430', 'u2590', 'u7176', 'u293', 'u8094', 'u241', 'u8125', 'u3697', 'u693', 'u5702', 'u1030', 'u8692', 'u7858', 'u2027', 'u6329', 'u4019', 'u5276', 'u1391', 'u1031', 'u6111', 'u3825', 'u5086', 'u5576', 'u813', 'u7669', 'u5191', 'u2880', 'u6180', 'u829', 'u2890', 'u974', 'u6994', 'u7096', 'u5104', 'u6681', 'u179', 'u2178', 'u6056', 'u4159', 'u7444', 'u474', 'u8913', 'u1072', 'u63', 'u2594', 'u1526', 'u3737', 'u411', 'u8361', 'u5769', 'u7314', 'u1791', 'u477', 'u6528', 'u8877', 'u3928', 'u4959', 'u3004', 'u6759', 'u5043', 'u4269', 'u2283', 'u2164', 'u6740', 'u5956', 'u1211', 'u8503', 'u5797', 'u1773', 'u2465', 'u7727', 'u8790', 'u3490', 'u8486', 'u2347', 'u5852', 'u1293', 'u3388', 'u6511', 'u8707', 'u4430', 'u5784', 'u2344', 'u3688', 'u1344', 'u7092', 'u2006', 'u162', 'u7604', 'u3826', 'u1204', 'u1183', 'u1723', 'u8328', 'u8385', 'u5947', 'u2877', 'u6948', 'u3774', 'u5056', 'u7600', 'u3399', 'u8993', 'u6024', 'u5154', 'u3310', 'u7208', 'u2769', 'u1113', 'u1315', 'u2322', 'u4962', 'u6290', 'u7287', 'u4234', 'u4228', 'u7119', 'u3676', 'u5907', 'u3355', 'u8620', 'u8225', 'u418', 'u1821', 'u4469', 'u6533', 'u4344', 'u6788', 'u5315', 'u3687', 'u1298', 'u2240', 'u8012', 'u7339', 'u2383', 'u6895', 'u2167', 'u6335', 'u1400', 'u2689', 'u6355', 'u7625', 'u7218', 'u8541', 'u4657', 'u487', 'u75', 'u54', 'u5818', 'u7273', 'u7036', 'u6003', 'u5789', 'u249', 'u6676', 'u7762', 'u8276', 'u7759', 'u8070', 'u2044', 'u7876', 'u3910', 'u937', 'u550', 'u5858', 'u3272', 'u6048', 'u3027', 'u4179', 'u4890', 'u4479', 'u3396', 'u936', 'u6668', 'u1470', 'u8039', 'u4517', 'u8340', 'u2358', 'u2069', 'u5178', 'u8583', 'u1528', 'u5617', 'u2281', 'u2342', 'u2540', 'u2219', 'u7947', 'u217', 'u1780', 'u2739', 'u856', 'u6102', 'u281', 'u8569', 'u4665', 'u8109', 'u20', 'u3166', 'u1096', 'u8499', 'u83', 'u3210', 'u4439', 'u6824', 'u225', 'u2459', 'u7665', 'u500', 'u7711', 'u7033', 'u4976', 'u7841', 'u3685', 'u6863', 'u5885', 'u4633', 'u1737', 'u2517', 'u1809', 'u2608', 'u5196', 'u1682', 'u3537', 'u8798', 'u7290', 'u5275', 'u4380', 'u8227', 'u8214', 'u7571', 'u7807', 'u3415', 'u3444', 'u3632', 'u4056', 'u5633', 'u1022', 'u3489', 'u6117', 'u6856', 'u7150', 'u4425', 'u8672', 'u1354', 'u3452', 'u5817', 'u6070', 'u2948', 'u508', 'u8599', 'u3617', 'u7846', 'u2108', 'u4304', 'u2810', 'u7043', 'u8159', 'u2125', 'u332', 'u1193', 'u5490', 'u8298', 'u3684', 'u8270', 'u6577', 'u4184', 'u1817', 'u4748', 'u5671', 'u5609', 'u798', 'u738', 'u7270', 'u3053', 'u6554', 'u470', 'u3184', 'u1013', 'u8615', 'u1073', 'u436', 'u7854', 'u3637', 'u6831', 'u4224', 'u6363', 'u8042', 'u4044', 'u835', 'u5665', 'u5513', 'u3914', 'u341', 'u8507', 'u1508', 'u7835', 'u8943', 'u1509', 'u900', 'u1771', 'u1570', 'u5688', 'u2734', 'u5607', 'u5326', 'u7256', 'u5467', 'u1083', 'u6966', 'u1923', 'u8758', 'u4970', 'u5835', 'u5920', 'u49', 'u2072', 'u8543', 'u368', 'u3325', 'u2277', 'u6737', 'u4177', 'u379', 'u4126', 'u3872', 'u7581', 'u4739', 'u7272', 'u2529', 'u199', 'u7134', 'u5952', 'u6429', 'u2031', 'u6804', 'u3176', 'u3938', 'u7024', 'u4849', 'u5409', 'u267', 'u894', 'u8444', 'u6745', 'u5395', 'u4511', 'u2581', 'u7100', 'u423', 'u7098', 'u7041', 'u189', 'u8853', 'u8901', 'u6697', 'u8600', 'u5309', 'u8030', 'u4764', 'u3298', 'u959', 'u7610', 'u4705', 'u3530', 'u7703', 'u7913', 'u4059', 'u8091', 'u4073', 'u6579', 'u4157', 'u6057', 'u2635', 'u2761', 'u2367', 'u4872', 'u47', 'u2420', 'u4964', 'u5500', 'u6501', 'u3817', 'u7163', 'u5523', 'u2455', 'u1787', 'u7672', 'u5889', 'u5642', 'u5032', 'u5279', 'u1216', 'u1707', 'u2760', 'u2527', 'u1843', 'u3895', 'u6735', 'u2869', 'u4713', 'u3289', 'u1666', 'u5772', 'u7365', 'u1562', 'u3562', 'u8105', 'u1700', 'u4413', 'u2628', 'u3750', 'u5978', 'u5466', 'u8746', 'u1339', 'u3420', 'u847', 'u8518', 'u1693', 'u3830', 'u6934', 'u4190', 'u5141', 'u2898', 'u2177', 'u4465', 'u1212', 'u490', 'u678', 'u8495', 'u5219', 'u8481', 'u6183', 'u6221', 'u3472', 'u1765', 'u4235', 'u6871', 'u8785', 'u2701', 'u3550', 'u8734', 'u2005', 'u7450', 'u6281', 'u1738', 'u1350', 'u6067', 'u4784', 'u680', 'u5953', 'u3198', 'u5188', 'u4010', 'u2535', 'u6610', 'u4684', 'u626', 'u7198', 'u2438', 'u4124', 'u5638', 'u2520', 'u3509', 'u6184', 'u7232', 'u4862', 'u1348', 'u5855', 'u8356', 'u6462', 'u8420', 'u8157', 'u2846', 'u6531', 'u3863', 'u5259', 'u8134', 'u5626', 'u7695', 'u4513', 'u4189', 'u6820', 'u6245', 'u834', 'u8627', 'u3984', 'u3457', 'u176', 'u2473', 'u3370', 'u8581', 'u521', 'u754', 'u4837', 'u4894', 'u5284', 'u939', 'u8466', 'u6736', 'u2497', 'u8565', 'u6901', 'u1702', 'u3734', 'u4257', 'u5752', 'u3018', 'u4912', 'u5780', 'u6597', 'u3354', 'u8010', 'u8575', 'u6575', 'u8178', 'u6821', 'u5779', 'u8301', 'u8154', 'u359', 'u6605', 'u3583', 'u4980', 'u7634', 'u1458', 'u4119', 'u7103', 'u6763', 'u6834', 'u629', 'u8379', 'u5650', 'u2210', 'u1268', 'u398', 'u433', 'u3837', 'u4242', 'u300', 'u8594', 'u6711', 'u208', 'u5019', 'u3011', 'u15', 'u7371', 'u4823', 'u8578', 'u5515', 'u1406', 'u4594', 'u8593', 'u831', 'u6862', 'u3643', 'u7912', 'u178', 'u3017', 'u6461', 'u400', 'u7789', 'u8592', 'u2158', 'u7560', 'u7020', 'u1939', 'u6783', 'u8699', 'u2431', 'u2831', 'u5867', 'u1963', 'u4458', 'u1962', 'u2512', 'u4818', 'u3447', 'u6621', 'u7002', 'u1604', 'u8690', 'u3044', 'u8550', 'u8133', 'u6295', 'u5517', 'u7032', 'u3556', 'u8883', 'u8847', 'u4374', 'u5618', 'u4144', 'u3628', 'u7561', 'u2945', 'u4206', 'u7391', 'u2571', 'u7331', 'u2783', 'u3333', 'u7304', 'u8429', 'u2159', 'u5928', 'u1946', 'u4292', 'u4370', 'u5759', 'u424', 'u3348', 'u7661', 'u4582', 'u3586', 'u6065', 'u4339', 'u184', 'u4151', 'u4367', 'u151', 'u6179', 'u3589', 'u2316', 'u58', 'u6364', 'u4291', 'u2042', 'u2410', 'u1221', 'u8932', 'u870', 'u2409', 'u5167', 'u704', 'u1810', 'u1411', 'u2536', 'u2615', 'u2887', 'u8818', 'u3786', 'u6411', 'u6794', 'u1979', 'u4351', 'u9034', 'u137', 'u5643', 'u1833', 'u440', 'u4767', 'u6812', 'u8566', 'u2859', 'u5448', 'u3994', 'u4765', 'u584', 'u5598', 'u5189', 'u5973', 'u8334', 'u7924', 'u5190', 'u1000', 'u7425', 'u2203', 'u5492', 'u2721', 'u5916', 'u993', 'u8824', 'u7345', 'u8835', 'u3231', 'u3288', 'u3736', 'u7128', 'u958', 'u7916', 'u3529', 'u1834', 'u952', 'u4068', 'u5470', 'u3499', 'u4347', 'u6929', 'u1798', 'u329', 'u7465', 'u6813', 'u370', 'u171', 'u385', 'u3735', 'u6849', 'u3841', 'u6126', 'u1826', 'u8585', 'u7643', 'u1046', 'u8922', 'u873', 'u5873', 'u4031', 'u6233', 'u8549', 'u1076', 'u2172', 'u7212', 'u6667', 'u4730', 'u365', 'u2567', 'u750', 'u1425', 'u1093', 'u148', 'u1870', 'u7773', 'u7475', 'u6857', 'u5623', 'u7082', 'u2090', 'u1697', 'u2745', 'u1220', 'u6561', 'u6887', 'u6036', 'u4851', 'u8182', 'u6602', 'u7693', 'u7414', 'u1813', 'u8489', 'u6891', 'u9002', 'u164', 'u5480', 'u6392', 'u8365', 'u8957', 'u6399', 'u947', 'u7564', 'u1227', 'u8412', 'u2201', 'u121', 'u72', 'u7387', 'u3505', 'u7207', 'u4957', 'u8076', 'u6636', 'u7340', 'u8934', 'u2776', 'u1082', 'u758', 'u8247', 'u6635', 'u7275', 'u8224', 'u4973', 'u8001', 'u5530', 'u792', 'u1343', 'u4877', 'u5035', 'u8238', 'u8477', 'u4760', 'u2649', 'u90', 'u3063', 'u5487', 'u8342', 'u950', 'u3659', 'u6907', 'u5109', 'u5135', 'u6218', 'u330', 'u1569', 'u1873', 'u3110', 'u3838', 'u2782', 'u1665', 'u2587', 'u3852', 'u2716', 'u6841', 'u4225', 'u40', 'u3834', 'u7361', 'u4083', 'u8442', 'u6674', 'u1580', 'u2463', 'u7881', 'u7499', 'u4968', 'u1338', 'u6357', 'u5038', 'u656', 'u1624', 'u446', 'u7193', 'u2752', 'u3156', 'u7908', 'u4075', 'u4499', 'u2198', 'u4891', 'u339', 'u6653', 'u4950', 'u2424', 'u5556', 'u4537', 'u4155', 'u7616', 'u5079', 'u8176', 'u1550', 'u1111', 'u1318', 'u2047', 'u5213', 'u2026', 'u6651', 'u1121', 'u7941', 'u4774', 'u5644', 'u1764', 'u6761', 'u2100', 'u4474', 'u8243', 'u5285', 'u4772', 'u8082', 'u7292', 'u8863', 'u8870', 'u2348', 'u2682', 'u250', 'u4088', 'u2922', 'u5095', 'u8837', 'u6556', 'u6827', 'u8080', 'u1332', 'u9018', 'u8572', 'u1486', 'u7691', 'u8388', 'u384', 'u8940', 'u7842', 'u4573', 'u5025', 'u8742', 'u3792', 'u489', 'u8520', 'u345', 'u4204', 'u8229', 'u4302', 'u4025', 'u1101', 'u2382', 'u4005', 'u2174', 'u3985', 'u7375', 'u3478', 'u2052', 'u3376', 'u4876', 'u5994', 'u6846', 'u5393', 'u6693', 'u7344', 'u7261', 'u1610', 'u1419', 'u4674', 'u3427', 'u3539', 'u8735', 'u6092', 'u6115', 'u6425', 'u5948', 'u4917', 'u7851', 'u4350', 'u5387', 'u5212', 'u6780', 'u6517', 'u2959', 'u3356', 'u8618', 'u2672', 'u200', 'u8694', 'u6993', 'u8254', 'u3199', 'u5902', 'u4889', 'u434', 'u5122', 'u6802', 'u7433', 'u471', 'u5776', 'u3039', 'u1911', 'u6805', 'u7400', 'u5428', 'u802', 'u1162', 'u6472', 'u1016', 'u2840', 'u9030', 'u6300', 'u3319', 'u2741', 'u3314', 'u6182', 'u3403', 'u4691', 'u1692', 'u7880', 'u1820', 'u2225', 'u3175', 'u1850', 'u1871', 'u3554', 'u3406', 'u6941', 'u5329', 'u2193', 'u309', 'u347', 'u7013', 'u4702', 'u6959', 'u2227', 'u803', 'u5066', 'u3101', 'u7640', 'u5316', 'u2132', 'u5187', 'u978', 'u8397', 'u2584', 'u4648', 'u2000', 'u7976', 'u7855', 'u2291', 'u7850', 'u3107', 'u5047', 'u163', 'u271', 'u9009', 'u3290', 'u6977', 'u1487', 'u8555', 'u8106', 'u8878', 'u8235', 'u4077', 'u7064', 'u5882', 'u6161', 'u675', 'u7822', 'u6776', 'u2264', 'u731', 'u3023', 'u6679', 'u4527', 'u6899', 'u8100', 'u6629', 'u5123', 'u1949', 'u2668', 'u7738', 'u8257', 'u2245', 'u4659', 'u4508', 'u6634', 'u7049', 'u8944', 'u325', 'u2893', 'u7171', 'u36', 'u8188', 'u2094', 'u2556', 'u3997', 'u6728', 'u3292', 'u6270', 'u5792', 'u7799', 'u7432', 'u3218', 'u4983', 'u5963', 'u4478', 'u5534', 'u744', 'u6198', 'u772', 'u3639', 'u8115', 'u2528', 'u7310', 'u1180', 'u285', 'u6038', 'u5163', 'u7044', 'u4802', 'u4600', 'u4759', 'u2665', 'u3312', 'u2469', 'u2979', 'u6371', 'u7008', 'u2022', 'u3989', 'u6440', 'u7963', 'u5653', 'u4293', 'u9021', 'u5271', 'u5814', 'u4024', 'u2885', 'u566', 'u5625', 'u5202', 'u231', 'u8060', 'u5477', 'u988', 'u996', 'u2937', 'u2381', 'u7961', 'u1792', 'u5861', 'u8318', 'u1259', 'u4004', 'u6171', 'u6250', 'u3937', 'u2968', 'u8009', 'u8463', 'u5126', 'u1504', 'u1812', 'u3844', 'u6645', 'u1091', 'u7803', 'u2059', 'u45', 'u2480', 'u1263', 'u1718', 'u2255', 'u7764', 'u560', 'u8956', 'u1370', 'u6996', 'u2432', 'u5092', 'u5686', 'u5877', 'u462', 'u6460', 'u77', 'u4296', 'u4345', 'u4690', 'u6177', 'u2128', 'u8446', 'u1874', 'u1587', 'u3483', 'u4282', 'u4566', 'u3576', 'u4230', 'u6949', 'u2249', 'u3253', 'u6349', 'u903', 'u2380', 'u4332', 'u9023', 'u2798', 'u4153', 'u4137', 'u7787', 'u732', 'u303', 'u1203', 'u7915', 'u5972', 'u6588', 'u2433', 'u4590', 'u6216', 'u3480', 'u1258', 'u5742', 'u8895', 'u736', 'u122', 'u8984', 'u5069', 'u8636', 'u7242', 'u7061', 'u4270', 'u3496', 'u4045', 'u3942', 'u2229', 'u4150', 'u3076', 'u2318', 'u634', 'u4185', 'u5587', 'u7613', 'u2809', 'u6470', 'u2278', 'u7184', 'u1582', 'u4539', 'u7085', 'u8314', 'u422', 'u39', 'u702', 'u8794', 'u1546', 'u1540', 'u8643', 'u8726', 'u3908', 'u2765', 'u6768', 'u3593', 'u6535', 'u7318', 'u6868', 'u6296', 'u3921', 'u1109', 'u6989', 'u5508', 'u3002', 'u5306', 'u1194', 'u3185', 'u1020', 'u5143', 'u7664', 'u3649', 'u3939', 'u6785', 'u4491', 'u407', 'u65', 'u5430', 'u1776', 'u6875', 'u1159', 'u6965', 'u2833', 'u444', 'u5863', 'u7939', 'u5857', 'u1496', 'u4226', 'u8069', 'u7235', 'u8784', 'u5655', 'u8421', 'u4473', 'u6614', 'u177', 'u3931', 'u8754', 'u8051', 'u3871', 'u4618', 'u161', 'u4390', 'u4589', 'u8317', 'u4909', 'u6386', 'u495', 'u6786', 'u3770', 'u552', 'u4854', 'u5842', 'u401', 'u7788', 'u4939', 'u2008', 'u2818', 'u7385', 'u1896', 'u3159', 'u9004', 'u2902', 'u7960', 'u6071', 'u661', 'u5729', 'u1359', 'u3524', 'u5632', 'u2854', 'u4353', 'u881', 'u565', 'u8148', 'u8022', 'u7418', 'u6104', 'u3705', 'u6206', 'u7813', 'u2474', 'u7483', 'u8619', 'u1040', 'u4002', 'u7558', 'u8750', 'u279', 'u5059', 'u7744', 'u3913', 'u5444', 'u4780', 'u3211', 'u6356', 'u3297', 'u8189', 'u25', 'u2715', 'u3136', 'u1743', 'u3327', 'u8185', 'u1329', 'u2418', 'u1002', 'u7325', 'u6350', 'u2931', 'u8514', 'u3392', 'u5506', 'u6922', 'u2425', 'u233', 'u8655', 'u6507', 'u8453', 'u5542', 'u3541', 'u3638', 'u352', 'u6842', 'u188', 'u1146', 'u3068', 'u1936', 'u7058', 'u4604', 'u1397', 'u4209', 'u2213', 'u5846', 'u5629', 'u8866', 'u4485', 'u4989', 'u2625', 'u3875', 'u2146', 'u8935', 'u4677', 'u4145', 'u7692', 'u7899', 'u6466', 'u3673', 'u943', 'u3099', 'u6897', 'u4966', 'u5110', 'u8456', 'u6904', 'u5983', 'u3163', 'u3144', 'u2117', 'u6018', 'u2156', 'u8695', 'u3114', 'u5815', 'u769', 'u7302', 'u4327', 'u2081', 'u59', 'u7990', 'u7909', 'u5142', 'u1565', 'u8662', 'u1734', 'u8163', 'u6482', 'u4082', 'u6799', 'u4638', 'u3372', 'u397', 'u8903', 'u3013', 'u186', 'u6816', 'u845', 'u6915', 'u7875', 'u8691', 'u8053', 'u3955', 'u4432', 'u5111', 'u8483', 'u883', 'u8978', 'u595', 'u2016', 'u282', 'u3434', 'u6739', 'u3', 'u2023', 'u8621', 'u7766', 'u4597', 'u4120', 'u4316', 'u2695', 'u6118', 'u6898', 'u4953', 'u4195', 'u7463', 'u7687', 'u672', 'u7755', 'u6041', 'u8705', 'u197', 'u2813', 'u6861', 'u1251', 'u2243', 'u3371', 'u1848', 'u5720', 'u2046', 'u5586', 'u5912', 'u2338', 'u6521', 'u1500', 'u8800', 'u235', 'u3279', 'u4330', 'u2921', 'u1599', 'u6694', 'u7775', 'u7891', 'u2648', 'u3788', 'u5708', 'u3678', 'u5093', 'u5391', 'u2952', 'u6559', 'u2714', 'u1688', 'u2103', 'u4617', 'u89', 'u6843', 'u6876', 'u8029', 'u6100', 'u4712', 'u3041', 'u294', 'u7464', 'u4924', 'u4942', 'u310', 'u7029', 'u6331', 'u3009', 'u7439', 'u64', 'u4481', 'u8981', 'u4252', 'u4761', 'u5778', 'u6687', 'u2729', 'u7651', 'u7725', 'u7981', 'u1322', 'u8710', 'u4614', 'u2576', 'u3977', 'u6164', 'u7972', 'u6998', 'u6836', 'u7443', 'u2269', 'u4087', 'u5675', 'u1551', 'u576', 'u4810', 'u2819', 'u5445', 'u3383', 'u1365', 'u4135', 'u7474', 'u6650', 'u5658', 'u5788', 'u5825', 'u3689', 'u4308', 'u4509', 'u2453', 'u319', 'u8156', 'u4429', 'u6852', 'u4402', 'u1781', 'u2699', 'u6400', 'u2441', 'u1402', 'u5469', 'u3249', 'u5318', 'u1932', 'u3093', 'u1837', 'u8312', 'u1844', 'u3349', 'u158', 'u767', 'u4666', 'u6815', 'u778', 'u3647', 'u5147', 'u6271', 'u7124', 'u6119', 'u5895', 'u6273', 'u8596', 'u2744', 'u3237', 'u7197', 'u8028', 'u1845', 'u7355', 'u8160', 'u4723', 'u3546', 'u2054', 'u2794', 'u7435', 'u7408', 'u5210', 'u5757', 'u6021', 'u2106', 'u3389', 'u6742', 'u8642', 'u1449', 'u6713', 'u8135', 'u8501', 'u7520', 'u7823', 'u1532', 'u5171', 'u8502', 'u6129', 'u2510', 'u763', 'u157', 'u3051', 'u2947', 'u7250', 'u6512', 'u541', 'u600', 'u6383', 'u8522', 'u8955', 'u2399', 'u8855', 'u2397', 'u2110', 'u2774', 'u3479', 'u2475', 'u2182', 'u5573', 'u1382', 'u554', 'u1601', 'u6853', 'u8319', 'u573', 'u4864', 'u4556', 'u5418', 'u4400', 'u4231', 'u919', 'u1498', 'u5030', 'u4574', 'u7360', 'u2830', 'u4878', 'u5229', 'u3741', 'u2897', 'u6395', 'u8811', 'u7257', 'u8542', 'u7203', 'u4299', 'u155', 'u2969', 'u6292', 'u8323', 'u6444', 'u6958', 'u2032', 'u8389', 'u2337', 'u4834', 'u7392', 'u7568', 'u4017', 'u5732', 'u8031', 'u8016', 'u7774', 'u1567', 'u1875', 'u5184', 'u3827', 'u8434', 'u924', 'u1122', 'u2107', 'u7074', 'u8023', 'u5251', 'u7767', 'u5250', 'u8248', 'u531', 'u1257', 'u927', 'u1451', 'u7922', 'u2588', 'u5521', 'u4815', 'u8772', 'u1584', 'u1677', 'u8632', 'u2858', 'u1560', 'u7357', 'u1160', 'u6809', 'u1984', 'u7127', 'u3778', 'u8349', 'u2053', 'u1687', 'u699', 'u6051', 'u5040', 'u4813', 'u7999', 'u2028', 'u6120', 'u528', 'u3474', 'u3595', 'u4079', 'u1154', 'u6631', 'u7724', 'u4703', 'u3070', 'u4364', 'u2254', 'u6625', 'u5964', 'u3194', 'u8223', 'u5270', 'u6325', 'u8169', 'u1511', 'u4391', 'u4750', 'u1557', 'u1431', 'u1453', 'u2708', 'u1067', 'u8482', 'u1524', 'u6859', 'u4576', 'u4196', 'u5533', 'u762', 'u2814', 'u1342', 'u3448', 'u3487', 'u2500', 'u637', 'u1396', 'u8531', 'u4236', 'u427', 'u8905', 'u3106', 'u2088', 'u4382', 'u5103', 'u3167', 'u5112', 'u5053', 'u4769', 'u7130', 'u3897', 'u1559', 'u2816', 'u8', 'u1074', 'u1105', 'u165', 'u1267', 'u7903', 'u2492', 'u3255', 'u2826', 'u5727', 'u2017', 'u1052', 'u8511', 'u6152', 'u8415', 'u4326', 'u8729', 'u1600', 'u5588', 'u5295', 'u8647', 'u7195', 'u55', 'u414', 'u4101', 'u1838', 'u6359', 'u5673', 'u7012', 'u3465', 'u5554', 'u3701', 'u7477', 'u6031', 'u5547', 'u1927', 'u8139', 'u6291', 'u1769', 'u4441', 'u2944', 'u5018', 'u6243', 'u5544', 'u7705', 'u5168', 'u7732', 'u586', 'u1004', 'u2663', 'u112', 'u4806', 'u5936', 'u2434', 'u6609', 'u8684', 'u8846', 'u896', 'u3416', 'u7896', 'u6710', 'u1920', 'u6578', 'u1887', 'u376', 'u2963', 'u3032', 'u3309', 'u7462', 'u3754', 'u4879', 'u8099', 'u2755', 'u3080', 'u8071', 'u8002', 'u2577', 'u5166', 'u7844', 'u2308', 'u9025', 'u8560', 'u543', 'u6176', 'u6663', 'u1956', 'u8089', 'u4279', 'u4482', 'u5089', 'u5940', 'u7547', 'u624', 'u3771', 'u240', 'u7618', 'u7390', 'u7210', 'u62', 'u402', 'u3430', 'u2821', 'u3877', 'u6201', 'u7086', 'u4928', 'u5501', 'u4606', 'u3768', 'u476', 'u6276', 'u6722', 'u4673', 'u4581', 'u7607', 'u7794', 'u1778', 'u3000', 'u632', 'u902', 'u2681', 'u696', 'u5403', 'u5462', 'u7353', 'u6087', 'u3987', 'u259', 'u2736', 'u1897', 'u2057', 'u4819', 'u3344', 'u4094', 'u5034', 'u82', 'u2706', 'u6414', 'u3967', 'u7209', 'u8451', 'u3054', 'u2573', 'u6997', 'u8307', 'u7402', 'u8032', 'u5710', 'u578', 'u8567', 'u1103', 'u4911', 'u2853', 'u3818', 'u7812', 'u3760', 'u366', 'u7069', 'u302', 'u7079', 'u1564', 'u4260', 'u6591', 'u6405', 'u8269', 'u3036', 'u2996', 'u7565', 'u4169', 'u2882', 'u2171', 'u503', 'u2770', 'u6807', 'u4727', 'u5560', 'u771', 'u3835', 'u559', 'u4899', 'u8504', 'u5715', 'u7170', 'u8733', 'u3610', 'u8431', 'u6881', 'u138', 'u8143', 'u5802', 'u4414', 'u315', 'u6418', 'u4468', 'u4711', 'u2666', 'u3552', 'u6192', 'u5228', 'u5311', 'u982', 'u8696', 'u1800', 'u5014', 'u1578', 'u1473', 'u4022', 'u1929', 'u5657', 'u1480', 'u8780', 'u6262', 'u5565', 'u8403', 'u66', 'u4613', 'u8774', 'u391', 'u4724', 'u6744', 'u6442', 'u7620', 'u2445', 'u4427', 'u338', 'u5731', 'u8887', 'u2872', 'u4830', 'u4097', 'u6333', 'u1801', 'u5756', 'u3113', 'u2161', 'u5299', 'u38', 'u278', 'u8289', 'u5782', 'u5264', 'u7279', 'u4287', 'u6738', 'u957', 'u7178', 'u7888', 'u8850', 'u4884', 'u415', 'u1605', 'u5549', 'u8873', 'u8491', 'u843', 'u2268', 'u2058', 'u8283', 'u977', 'u2642', 'u4858', 'u3536', 'u2780', 'u5413', 'u1065', 'u2189', 'u3455', 'u5128', 'u4685', 'u7612', 'u6321', 'u467', 'u1432', 'u2620', 'u6892', 'u6730', 'u990', 'u1246', 'u4322', 'u8175', 'u653', 'u4611', 'u1115', 'u1433', 'u1819', 'u4337', 'u3608', 'u6081', 'u4567', 'u4552', 'u913', 'u4735', 'u4652', 'u2364', 'u8118', 'u4835', 'u1482', 'u2486', 'u4643', 'u5553', 'u7336', 'u2126', 'u564', 'u6238', 'u1609', 'u7431', 'u4110', 'u6721', 'u1147', 'u8363', 'u4156', 'u6883', 'u93', 'u6803', 'u2033', 'u7680', 'u3047', 'u2634', 'u2185', 'u8205', 'u205', 'u7471', 'u1576', 'u7406', 'u7447', 'u7638', 'u1428', 'u925', 'u8789', 'u1829', 'u6308', 'u4487', 'u7056', 'u562', 'u6688', 'u6224', 'u3969', 'u3219', 'u954', 'u6354', 'u6306', 'u4775', 'u5854', 'u5482', 'u1090', 'u2092', 'u780', 'u9016', 'u685', 'u8435', 'u3690', 'u4486', 'u8127', 'u2962', 'u1038', 'u5114', 'u8335', 'u5442', 'u8395', 'u4122', 'u1964', 'u8539', 'u2525', 'u5704', 'u6753', 'u8411', 'u4811', 'u5847', 'u4070', 'u6037', 'u2795', 'u3108', 'u1412', 'u3212', 'u3244', 'u6814', 'u7480', 'u4023', 'u173', 'u2730', 'u8287', 'u932', 'u7147', 'u2633', 'u3193', 'u1333', 'u2139', 'u3845', 'u181', 'u3275', 'u7247', 'u5532', 'u2779', 'u113', 'u6734', 'u4676', 'u8927', 'u3814', 'u5407', 'u7190', 'u4743', 'u7309', 'u1493', 'u1879', 'u4014', 'u5690', 'u8006', 'u4143', 'u4334', 'u5555', 'u7719', 'u6882', 'u3782', 'u7125', 'u8325', 'u2559', 'u3280', 'u2697', 'u6016', 'u2102', 'u4506', 'u5401', 'u6723', 'u3433', 'u4502', 'u3188', 'u6382', 'u8288', 'u3342', 'u7120', 'u238', 'u8111', 'u2696', 'u5080', 'u6064', 'u4127', 'u3137', 'u1011', 'u4063', 'u4598', 'u3625', 'u4052', 'u290', 'u1', 'u1102', 'u3120', 'u5865', 'u6084', 'u2089', 'u5866', 'u6083', 'u8264', 'u4377', 'u3564', 'u1043', 'u3429', 'u4085', 'u3190', 'u395', 'u3274', 'u7671', 'u429', 'u922', 'u9031', 'u2241', 'u6792', 'u3071', 'u5883', 'u8011', 'u4354', 'u4397', 'u8320', 'u892', 'u2653', 'u7948', 'u52', 'u8723', 'u6729', 'u3115', 'u8817', 'u2038', 'u7404', 'u129', 'u8132', 'u4160', 'u7776', 'u7080', 'u776', 'u5520', 'u6545', 'u3861', 'u8882', 'u7326', 'u2404', 'u2079', 'u1669', 'u2946', 'u5203', 'u6494', 'u5961', 'u2204', 'u4610', 'u8998', 'u2274', 'u7964', 'u2526', 'u5796', 'u5853', 'u5217', 'u1895', 'u5906', 'u8075', 'u4092', 'u3074', 'u4885', 'u7723', 'u4798', 'u98', 'u5602', 'u6116', 'u1905', 'u6301', 'u1051', 'u1889', 'u5383', 'u548', 'u7935', 'u6302', 'u5185', 'u5041', 'u4064', 'u2531', 'u6589', 'u8996', 'u475', 'u5922', 'u8652', 'u7201', 'u2356', 'u8161', 'u5439', 'u3995', 'u1048', 'u3296', 'u5293', 'u5849', 'u2900', 'u1403', 'u1028', 'u2450', 'u1398', 'u2920', 'u3458', 'u7362', 'u4565', 'u4697', 'u6562', 'u3317', 'u3560', 'u4355', 'u7248', 'u2403', 'u201', 'u5620', 'u5707', 'u8101', 'u8474', 'u2230', 'u8751', 'u8508', 'u1969', 'u222', 'u4578', 'u1945', 'u2929', 'u2754', 'u5183', 'u3400', 'u8680', 'u2154', 'u134', 'u933', 'u4054', 'u6978', 'u6541', 'u1165', 'u5663', 'u3453', 'u3900', 'u6751', 'u3716', 'u3591', 'u8457', 'u4437', 'u5932', 'u7911', 'u4399', 'u5921', 'u4198', 'u1139', 'u1849', 'u3909', 'u8869', 'u4675', 'u2084', 'u4329', 'u4766', 'u6403', 'u8614', 'u850', 'u898', 'u2785', 'u3772', 'u4987', 'u7411', 'u1441', 'u8613', 'u905', 'u5550', 'u6677', 'u994', 'u6938', 'u2385', 'u782', 'u512', 'u2113', 'u2482', 'u8341', 'u5672', 'u1863', 'u4489', 'u166', 'u7746', 'u2722', 'u5989', 'u4375', 'u8976', 'u3003', 'u926', 'u291', 'u2051', 'u2837', 'u1063', 'u3450', 'u928', 'u8736', 'u1583', 'u234', 'u6826', 'u6047', 'u3305', 'u1001', 'u496', 'u2085', 'u5938', 'u6138', 'u5052', 'u3155', 'u1444', 'u684', 'u4637', 'u3775', 'u6253', 'u3460', 'u6990', 'u4588', 'u8936', 'u1571', 'u3078', 'u8820', 'u2934', 'u6493', 'u1330', 'u2234', 'u8651', 'u7590', 'u3885', 'u7905', 'u8405', 'u3234', 'u7254', 'u2024', 'u635', 'u9008', 'u3492', 'u1579', 'u7886', 'u6960', 'u7487', 'u2763', 'u8245', 'u8510', 'u4904', 'u1739', 'u3035', 'u5234', 'u5683', 'u1060', 'u4789', 'u1563', 'u8973', 'u5476', 'u8426', 'u6058', 'u1711', 'u1503', 'u5061', 'u8839', 'u4466', 'u6094', 'u5157', 'u2226', 'u4450', 'u3587', 'u8241', 'u5499', 'u3907', 'u265', 'u875', 'u2019', 'u3911', 'u6316', 'u5830', 'u1355', 'u2791', 'u3523', 'u7700', 'u4333', 'u4880', 'u168', 'u3467', 'u4490', 'u5645', 'u3121', 'u2276', 'u21', 'u4147', 'u4131', 'u2426', 'u5412', 'u1933', 'u8255', 'u4373', 'u724', 'u5711', 'u7152', 'u1459', 'u3677', 'u3334', 'u8612', 'u7054', 'u572', 'u1684', 'u453', 'u7486', 'u4852', 'u8538', 'u8865', 'u8656', 'u3575', 'u43', 'u1783', 'u2055', 'u5415', 'u2601', 'u472', 'u4034', 'u6229', 'u8338', 'u1622', 'u3111', 'u264', 'u7987', 'u3127', 'u6370', 'u5199', 'u7251', 'u6360', 'u3475', 'u4687', 'u5535', 'u8407', 'u6530', 'u8279', 'u8448', 'u4817', 'u1341', 'u1145', 'u4417', 'u141', 'u4341', 'u239', 'u8275', 'u7332', 'u2427', 'u3285', 'u6546', 'u7219', 'u7751', 'u8601', 'u2067', 'u4117', 'u1538', 'u694', 'u3947', 'u2728', 'u5687', 'u4271', 'u5246', 'u5012', 'u1274', 'u371', 'u7252', 'u6142', 'u7721', 'u8354', 'u7104', 'u187', 'u6247', 'u2223', 'u6078', 'u535', 'u1917', 'u2941', 'u8532', 'u5498', 'u3626', 'u1481', 'u6683', 'u1959', 'u262', 'u3666', 'u5148', 'u8445', 'u5134', 'u6936', 'u942', 'u4686', 'u3402', 'u2849', 'u195', 'u545', 'u1824', 'u8564', 'u8929', 'u6850', 'u2152', 'u6343', 'u984', 'u6345', 'u6673', 'u6781', 'u1830', 'u4661', 'u4066', 'u4051', 'u5898', 'u3065', 'u2896', 'u8222', 'u2802', 'u220', 'u8413', 'u2501', 'u8122', 'u2686', 'u3592', 'u1903', 'u8136', 'u8013', 'u8982', 'u4283', 'u7826', 'u4930', 'u8206', 'u7436', 'u806', 'u868', 'u6596', 'u1930', 'u3850', 'u5077', 'u1015', 'u640', 'u961', 'u8822', 'u749', 'u6080', 'u6113', 'u3876', 'u5204', 'u2056', 'u7386', 'u711', 'u2294', 'u4309', 'u6778', 'u2077', 'u2375', 'u8701', 'u13', 'u5577', 'u2494', 'u6402', 'u4464', 'u2393', 'u3847', 'u558', 'u4937', 'u4671', 'u6236', 'u6607', 'u814', 'u2845', 'u4749', 'u4887', 'u7567', 'u7872', 'u4132', 'u6368', 'u6648', 'u7059', 'u8630', 'u2908', 'u14', 'u3650', 'u254', 'u2709', 'u6043', 'u3294', 'u4836', 'u8757', 'u880', 'u8781', 'u7369', 'u8350', 'u4342', 'u4237', 'u2035', 'u8310', 'u1912', 'u5072', 'u4503', 'u5156', 'u8554', 'u3823', 'u4129', 'u2878', 'u413', 'u7566', 'u5115', 'u4256', 'u6810', 'u2207', 'u6417', 'u777', 'u5493', 'u6225', 'u538', 'u1334', 'u2623', 'u3856', 'u4514', 'u7485', 'u2266', 'u2078', 'u3148', 'u3147', 'u7902', 'u5075', 'u1265', 'u1968', 'u7114', 'u7709', 'u804', 'u819', 'u8277', 'u8911', 'u150', 'u4384', 'u7048', 'u2346', 'u3459', 'u3630', 'u5558', 'u8961', 'u4167', 'u4768', 'u8217', 'u1981', 'u1474', 'u270', 'u7187', 'u3581', 'u7452', 'u2080', 'u4074', 'u5242', 'u3306', 'u3346', 'u242', 'u175', 'u97', 'u1884', 'u4796', 'u7351', 'u2998', 'u2639', 'u5968', 'u6170', 'u1545', 'u5939', 'u2483', 'u9007', 'u4714', 'u1555', 'u4219', 'u721', 'u2976', 'u6406', 'u5159', 'u4656', 'u6692', 'u295', 'u7286', 'u8962', 'u1264', 'u2505', 'u1360', 'u120', 'u3205', 'u3623', 'u6232', 'u3906', 'u5959', 'u4416', 'u6268', 'u8849', 'u4221', 'u1731', 'u7403', 'u3894', 'u609', 'u8722', 'u6819', 'u5257', 'u5301', 'u6453', 'u5905', 'u465', 'u2939', 'u805', 'u8841', 'u7051', 'u7871', 'u6475', 'u8461', 'u7154', 'u5058', 'u3940', 'u2724', 'u8251', 'u2370', 'u2599', 'u4644', 'u79', 'u6720', 'u5162', 'u1589', 'u7199', 'u2115', 'u606', 'u2186', 'u1362', 'u3181', 'u7704', 'u4016', 'u8756', 'u7992', 'u8368', 'u1807', 'u2530', 'u1373', 'u4933', 'u7457', 'u2231', 'u3195', 'u6498', 'u6879', 'u5321', 'u7071', 'u2956', 'u4841', 'u3421', 'u3580', 'u6471', 'u1377', 'u6731', 'u3264', 'u289', 'u404', 'u5022', 'u5497', 'u4238', 'u8795', 'u4062', 'u4627', 'u1018', 'u841', 'u6105', 'u2165', 'u6700', 'u1625', 'u5434', 'u610', 'u5181', 'u1534', 'u5436', 'u2679', 'u2098', 'u8291', 'u5231', 'u5322', 'u8167', 'u8380', 'u7599', 'u5396', 'u5793', 'u4672', 'u4563', 'u273', 'u1297', 'u3203', 'u2247', 'u4897', 'u5118', 'u1704', 'u2262', 'u5298', 'u6963', 'u6167', 'u5828', 'u146', 'u5227', 'u6724', 'u428', 'u1762', 'u73', 'u4984', 'u2228', 'u1716', 'u8658', 'u3920', 'u2641', 'u5724', 'u3161', 'u6237', 'u8763', 'u3191', 'u5457', 'u8769', 'u2456', 'u1467', 'u3395', 'u6407', 'u6228', 'u5709', 'u6348', 'u7383', 'u7011', 'u795', 'u8659', 'u6203', 'u8359', 'u4199', 'u419', 'u8939', 'u6059', 'u5764', 'u7967', 'u6500', 'u8813', 'u4977', 'u8796', 'u4467', 'u2329', 'u2099', 'u2861', 'u8005', 'u2720', 'u9029', 'u7602', 'u8090', 'u506', 'u6828', 'u1967', 'u8260', 'u4543', 'u4245', 'u7552', 'u18', 'u7808', 'u812', 'u5571', 'u7034', 'u44', 'u8525', 'u2942', 'u7929', 'u6372', 'u4368', 'u4927', 'u5108', 'u5290', 'u3542', 'u4205', 'u722', 'u2307', 'u3369', 'u7698', 'u8231', 'u5844', 'u5993', 'u6538', 'u5398', 'u6601', 'u4049', 'u1292', 'u3245', 'u4265', 'u2717', 'u6299', 'u4165', 'u2076', 'u6050', 'u6135', 'u2071', 'u6315', 'u3386', 'u1867', 'u6287', 'u4699', 'u8739', 'u2285', 'u3260', 'u2062', 'u8821', 'u6246', 'u7388', 'u2413', 'u931', 'u2777', 'u33', 'u825', 'u1044', 'u3996', 'u6985', 'u7834', 'u7780', 'u1943', 'u7014', 'u764', 'u7429', 'u4974', 'u1575', 'u5208', 'u4925', 'u6925', 'u1141', 'u1705', 'u4203', 'u5878', 'u2545', 'u5503', 'u2881', 'u4838', 'u6213', 'u6580', 'u5648', 'u1110', 'u3883', 'u1205', 'u8252', 'u6603', 'u4654', 'u4694', 'u8857', 'u4381', 'u6212', 'u4921', 'u2866', 'u348', 'u8551', 'u938', 'u272', 'u4324', 'u4920', 'u5610', 'u8743', 'u7068', 'u74', 'u4443', 'u3535', 'u5249', 'u6695', 'u4518', 'u8765', 'u95', 'u5622', 'u5689', 'u4321', 'u7358', 'u7852', 'u2083', 'u522', 'u1153', 'u2451', 'u1448', 'u7505', 'u8265', 'u6682', 'u246', 'u2454', 'u2050', 'u2874', 'u6385', 'u1218', 'u2216', 'u2395', 'u296', 'u4936', 'u7954', 'u8430', 'u746', 'u7115', 'u569', 'u1460', 'u409', 'u1573', 'u7446', 'u3066', 'u2354', 'u8871', 'u4773', 'u28', 'u6741', 'u7982', 'u597', 'u1996', 'u7839', 'u748', 'u3801', 'u7019', 'u2129', 'u126', 'u4471', 'u1865', 'u1832', 'u4579', 'u5567', 'u866', 'u3179', 'u1027', 'u5965', 'u7189', 'u6072', 'u3498', 'u4033', 'u1476', 'u7316', 'u8383', 'u6903', 'u1909', 'u670', 'u2645', 'u2613', 'u3528', 'u2101', 'u4744', 'u5239', 'u4154', 'u2792', 'u5721', 'u8977', 'u1664', 'u5174', 'u7262', 'u5869', 'u7933', 'u1414', 'u3758', 'u8558', 'u7308', 'u4779', 'u6847', 'u4365', 'u4433', 'u7736', 'u579', 'u7644', 'u8352', 'u3807', 'u5267', 'u364', 'u2863', 'u1547', 'u7066', 'u2513', 'u6285', 'u8720', 'u8014', 'u8971', 'u3206', 'u4453', 'u1130', 'u2020', 'u1192', 'u1686', 'u8242', 'u8348', 'u3508', 'u6358', 'u2217', 'u5071', 'u7825', 'u5028', 'u3527', 'u7957', 'u2317', 'u6303', 'u6514', 'u1861', 'u3268', 'u8447', 'u6000', 'u8376', 'u1352', 'u6684', 'u7382', 'u454', 'u5083', 'u5088', 'u6077', 'u1888', 'u7009', 'u5739', 'u8969', 'u8381', 'u2143', 'u5827', 'u8639', 'u87', 'u5870', 'u5519', 'u3428', 'u2808', 'u1722', 'u2570', 'u4745', 'u4007', 'u5258', 'u6616', 'u7585', 'u216', 'u2493', 'u4338', 'u4247', 'u6811', 'u6656', 'u1095', 'u6352', 'u170', 'u2912', 'u7945', 'u6241', 'u3622', 'u2478', 'u390', 'u3559', 'u2984', 'u1719', 'u1729', 'u1953', 'u4557', 'u227', 'u6249', 'u6920', 'u3709', 'u3862', 'u7848', 'u8256', 'u6227', 'u6139', 'u7758', 'u1960', 'u3506', 'u2647', 'u1374', 'u6874', 'u3954', 'u6476', 'u7243', 'u7478', 'u8906', 'u5880', 'u5152', 'u4827', 'u4444', 'u2961', 'u99', 'u620', 'u6525', 'u469', 'u5225', 'u794', 'u726', 'u7267', 'u5634', 'u8263', 'u8854', 'u5837', 'u6436', 'u1553', 'u8809', 'u5263', 'u5656', 'u7496', 'u4314', 'u3119', 'u7873', 'u8607', 'u6926', 'u5876', 'u3747', 'u3531', 'u7707', 'u3374', 'u2661', 'u788', 'u5471', 'u1770', 'u1699', 'u4510', 'u4541', 'u8812', 'u5915', 'u6026', 'u5491', 'u8586', 'u1097', 'u378', 'u8635', 'u830', 'u6162', 'u8823', 'u2296', 'u7348', 'u3100', 'u9012', 'u4583', 'u7458', 'u2471', 'u468', 'u2148', 'u4003', 'u3382', 'u8121', 'u6708', 'u8851', 'u5288', 'u6005', 'u3358', 'u7186', 'u4679', 'u6838', 'u1937', 'u8832', 'u5085', 'u8876', 'u5473', 'u5102', 'u4455', 'u2508', 'u7622', 'u6727', 'u6620', 'u3510', 'u7105', 'u5286', 'u3811', 'u923', 'u8228', 'u2095', 'u2011', 'u6497', 'u8644', 'u1006', 'u3533', 'u4253', 'u7893', 'u1367', 'u6320', 'u8174', 'u3945', 'u7076', 'u317', 'u8844', 'u1989', 'u2805', 'u3832', 'u7818', 'u6584', 'u2040', 'u6215', 'u6598', 'u1200', 'u8559', 'u1478', 'u6044', 'u7153', 'u8848', 'u351', 'u3451', 'u4352', 'u3394', 'u8493', 'u1507', 'u5868', 'u2658', 'u7138', 'u4021', 'u783', 'u7710', 'u7167', 'u692', 'u1171', 'u3022', 'u4250', 'u7342', 'u6468', 'u3785', 'u2252', 'u3378', 'u5798', 'u192', 'u3331', 'u6122', 'u7003', 'u5328', 'u1142', 'u8704', 'u7865', 'u2985', 'u7615', 'u3893', 'u7815', 'u934', 'u7494', 'u604', 'u7102', 'u4116', 'u6690', 'u3014', 'u4715', 'u8367', 'u4121', 'u6099', 'u4908', 'u4978', 'u3756', 'u7910', 'u1678', 'u8017', 'u8433', 'u3466', 'u3256', 'u3551', 'u5158', 'u8964', 'u2757', 'u1148', 'u2655', 'u858', 'u5160', 'u3301', 'u7563', 'u2743', 'u127', 'u4639', 'u6503', 'u1676', 'u6918', 'u7018', 'u8595', 'u8353', 'u1247', 'u5278', 'u4738', 'u9013', 'u6467', 'u3177', 'u463', 'u3134', 'u4807', 'u968', 'u2523', 'u3779', 'u2664', 'u8331', 'u5781', 'u5991', 'u6750', 'u7162', 'u4893', 'u4170', 'u4098', 'u6566', 'u1761', 'u8183', 'u4140', 'u1128', 'u5529', 'u1035', 'u916', 'u8233', 'u4303', 'u8097', 'u3633', 'u659', 'u6594', 'u966', 'u8055', 'u6060', 'u7107', 'u7512', 'u7995', 'u4542', 'u4102', 'u3773', 'u8308', 'u4301', 'u1446', 'u4306', 'u7081', 'u5760', 'u6791', 'u7268', 'u8948', 'u7578', 'u6840', 'u5945', 'u7930', 'u1399', 'u4512', 'u7376', 'u909', 'u8779', 'u7838', 'u7062', 'u212', 'u2007', 'u4824', 'u5838', 'u6433', 'u793', 'u4926', 'u2685', 'u3793', 'u8271', 'u8845', 'u2025', 'u7368', 'u6529', 'u8092', 'u5392', 'u1358', 'u3722', 'u5957', 'u23', 'u8427', 'u5107', 'u2950', 'u1977', 'u652', 'u5094', 'u5247', 'u8043', 'u5660', 'u5300', 'u917', 'u7868', 'u7820', 'u5136', 'u911', 'u5235', 'u534', 'u3196', 'u2298', 'u4363', 'u3079', 'u6964', 'u3329', 'u3062', 'u1522', 'u3426', 'u8302', 'u221', 'u145', 'u1512', 'u3307', 'u4335', 'u7335', 'u8120', 'u8755', 'u882', 'u3964', 'u1484', 'u3749', 'u4571', 'u8686', 'u7215', 'u2712', 'u1304', 'u1254', 'u3083', 'u2009', 'u8168', 'u605', 'u3240', 'u5761', 'u716', 'u4913', 'u4967', 'u5132', 'u3812', 'u8986', 'u2131', 'u6624', 'u1999', 'u4266', 'u5649', 'u8387', 'u7817', 'u4175', 'u7554', 'u8336', 'u6536', 'u773', 'u1143', 'u8930', 'u1611', 'u4951', 'u3323', 'u7473', 'u4084', 'u6483', 'u8360', 'u3700', 'u4949', 'u4961', 'u6992', 'u677', 'u3096', 'u3858', 'u4015', 'u2652', 'u1924', 'u7985', 'u5539', 'u590', 'u204', 'u6128', 'u2756', 'u6486', 'u4855', 'u8928', 'u6427', 'u6376', 'u3094', 'u3540', 'u7379', 'u2793', 'u8513', 'u5510', 'u7798', 'u615', 'u5888', 'u2248', 'u945', 'u6362', 'u4867', 'u5215', 'u1387', 'u373', 'u2013', 'u2568', 'u3087', 'u2122', 'u5904', 'u546', 'u3890', 'u1825', 'u8267', 'u2750', 'u4832', 'u3806', 'u3927', 'u1131', 'u5314', 'u5205', 'u3808', 'u5486', 'u2111', 'u7966', 'u3902', 'u582', 'u6085', 'u7741', 'u8665', 'u6144', 'u3671', 'u4149', 'u7239', 'u5810', 'u5268', 'u723', 'u3393', 'u4948', 'u8896', 'u7690', 'u3481', 'u2118', 'u7188', 'u2622', 'u5613', 'u5139', 'u2614', 'u5405', 'u8290', 'u757', 'u2560', 'u577', 'u995', 'u2606', 'u7166', 'u649', 'u2591', 'u6055', 'u701', 'u3718', 'u6885', 'u5575', 'u7159', 'u7005', 'u7312', 'u3265', 'u2778', 'u8057', 'u1864', 'u6002', 'u7236', 'u703', 'u374', 'u8535', 'u5790', 'u5992', 'u4387', 'u7706', 'u2362', 'u111', 'u4533', 'u7718', 'u1340', 'u4035', 'u3152', 'u211', 'u1295', 'u2289', 'u583', 'u5137', 'u1310', 'u2279', 'u3971', 'u6200', 'u5124', 'u5192', 'u5693', 'u5723', 'u2933', 'u1483', 'u8079', 'u3438', 'u460', 'u8181', 'u5578', 'u228', 'u357', 'u6194', 'u8577', 'u1935', 'u2472', 'u2764', 'u5637', 'u7783', 'u871', 'u575', 'u4935', 'u4787', 'u3048', 'u4220', 'u2643', 'u5862', 'u5860', 'u1831', 'u7113', 'u2477', 'u7584', 'u3948', 'u8253', 'u5101', 'u119', 'u213', 'u4497', 'u1369', 'u747', 'u5029', 'u944', 'u8153', 'u4554', 'u8949', 'u6571', 'u8529', 'u6647', 'u4946', 'u3173', 'u8724', 'u4463', 'u6174', 'u5839', 'u2043', 'u5386', 'u1733', 'u3503', 'u513', 'u5472', 'u3016', 'u8061', 'u2114', 'u8741', 'u6995', 'u614', 'u8907', 'u2903', 'u8963', 'u4530', 'u3418', 'u7943', 'u5791', 'u7553', 'u5762', 'u4585', 'u2580', 'u6630', 'u2070', 'u1541', 'u6550', 'u5209', 'u4975', 'u3953', 'u6962', 'u7040', 'u8145', 'u3322', 'u7996', 'u2698', 'u607', 'u8282', 'u608', 'u8517', 'u92', 'u8064', 'u3951', 'u5282', 'u5049', 'u182', 'u5119', 'u455', 'u3351', 'u8738', 'u6638', 'u1543', 'u8526', 'u7453', 'u2086', 'u3694', 'u7734', 'u69', 'u852', 'u8760', 'u243', 'u992', 'u1219', 'u3514', 'u4971', 'u2073', 'u6017', 'u8204', 'u8278', 'u3657', 'u8488', 'u2678', 'u4568', 'u5090', 'u4624', 'u2905', 'u6746', 'u7363', 'u7380', 'u1151', 'u1899', 'u1721', 'u4844', 'u8926', 'u6957', 'u4728', 'u8497', 'u5237', 'u2372', 'u536', 'u8232', 'u786', 'u2927', 'u10', 'u3859', 'u8025', 'u9028', 'u2457', 'u6089', 'u8209', 'u5081', 'u3326']\n",
            "Characters in detailed_characters_df but not in lines_df: ['u4998', 'u5355', 'u1755', 'u5359', 'u5364', 'u5366', 'u5345', 'u1620', 'u1236', 'u5362', 'u7526', 'u7533', 'u5594', 'u5344', 'u5357', 'u1978', 'u5373', 'u1642', 'u1635', 'u2378', 'u7539', 'u8196', 'u7542', 'u1646', 'u7531', 'u1741', 'u1283', 'u5365', 'u1758', 'u5338', 'u1652', 'u5352', 'u5591', 'u7222', 'u5348', 'u1630', 'u1284', 'u5331', 'u5356', 'u5333', 'u2355', 'u5343', 'u4991', 'u5001', 'u1517', 'u5592', 'u1239', 'u4999', 'u1854', 'u1649', 'u4996', 'u1653', 'u8201', 'u5004', 'u5360', 'u5372', 'u4997', 'u103']\n"
          ]
        }
      ],
      "source": [
        "# Characters in lines_df but not in detailed_characters_df\n",
        "characters_in_lines_not_in_merged = set(lines_df['chId']) - set(detailed_characters_df['chId'])\n",
        "\n",
        "# Characters in merged_df but not in lines_df\n",
        "characters_in_merged_not_in_lines = set(detailed_characters_df['chId']) - set(lines_df['chId'])\n",
        "\n",
        "# Convert the sets to lists for easier handling or further analysis\n",
        "characters_in_lines_not_in_merged_list = list(characters_in_lines_not_in_merged)\n",
        "characters_in_merged_not_in_lines_list = list(characters_in_merged_not_in_lines)\n",
        "\n",
        "print(\"Characters in lines_df but not in detailed_characters_df:\", characters_in_lines_not_in_merged_list)\n",
        "print(\"Characters in detailed_characters_df but not in lines_df:\", characters_in_merged_not_in_lines_list)\n"
      ]
    },
    {
      "cell_type": "code",
      "execution_count": 965,
      "metadata": {},
      "outputs": [
        {
          "name": "stdout",
          "output_type": "stream",
          "text": [
            "Total Number Of Duplicates:  5438\n"
          ]
        },
        {
          "data": {
            "text/plain": [
              "(283182, 4)"
            ]
          },
          "execution_count": 965,
          "metadata": {},
          "output_type": "execute_result"
        }
      ],
      "source": [
        "##When we remove the lId we may see charaters repeating dialogues  \n",
        "lines_df_mod = lines_df[['chId', 'mId', 'chName', 'chLine']]\n",
        "\n",
        "# Remove duplicate rows\n",
        "duplicate_counts = lines_df_mod.duplicated().sum()\n",
        "print(\"Total Number Of Duplicates: \", duplicate_counts)\n",
        "if duplicate_counts > 0:\n",
        "   lines_df_mod = lines_df_mod.drop_duplicates()\n",
        "   \n",
        "lines_df_mod.shape"
      ]
    },
    {
      "cell_type": "code",
      "execution_count": 966,
      "metadata": {},
      "outputs": [
        {
          "data": {
            "text/html": [
              "<div>\n",
              "<style scoped>\n",
              "    .dataframe tbody tr th:only-of-type {\n",
              "        vertical-align: middle;\n",
              "    }\n",
              "\n",
              "    .dataframe tbody tr th {\n",
              "        vertical-align: top;\n",
              "    }\n",
              "\n",
              "    .dataframe thead th {\n",
              "        text-align: right;\n",
              "    }\n",
              "</style>\n",
              "<table border=\"1\" class=\"dataframe\">\n",
              "  <thead>\n",
              "    <tr style=\"text-align: right;\">\n",
              "      <th></th>\n",
              "      <th>chId</th>\n",
              "      <th>chName_x</th>\n",
              "      <th>mId</th>\n",
              "      <th>mName</th>\n",
              "      <th>gender</th>\n",
              "      <th>posCredits</th>\n",
              "      <th>mYear</th>\n",
              "      <th>mRating</th>\n",
              "      <th>mVotes</th>\n",
              "      <th>mGenre</th>\n",
              "      <th>chName_y</th>\n",
              "      <th>chLine</th>\n",
              "    </tr>\n",
              "  </thead>\n",
              "  <tbody>\n",
              "    <tr>\n",
              "      <th>0</th>\n",
              "      <td>u0</td>\n",
              "      <td>BIANCA</td>\n",
              "      <td>m0</td>\n",
              "      <td>10 things i hate about you</td>\n",
              "      <td>F</td>\n",
              "      <td>4</td>\n",
              "      <td>1999</td>\n",
              "      <td>6.9</td>\n",
              "      <td>62847.0</td>\n",
              "      <td>['comedy' 'romance']</td>\n",
              "      <td>BIANCA</td>\n",
              "      <td>They do not!</td>\n",
              "    </tr>\n",
              "    <tr>\n",
              "      <th>1</th>\n",
              "      <td>u0</td>\n",
              "      <td>BIANCA</td>\n",
              "      <td>m0</td>\n",
              "      <td>10 things i hate about you</td>\n",
              "      <td>F</td>\n",
              "      <td>4</td>\n",
              "      <td>1999</td>\n",
              "      <td>6.9</td>\n",
              "      <td>62847.0</td>\n",
              "      <td>['comedy' 'romance']</td>\n",
              "      <td>BIANCA</td>\n",
              "      <td>I hope so.</td>\n",
              "    </tr>\n",
              "    <tr>\n",
              "      <th>2</th>\n",
              "      <td>u0</td>\n",
              "      <td>BIANCA</td>\n",
              "      <td>m0</td>\n",
              "      <td>10 things i hate about you</td>\n",
              "      <td>F</td>\n",
              "      <td>4</td>\n",
              "      <td>1999</td>\n",
              "      <td>6.9</td>\n",
              "      <td>62847.0</td>\n",
              "      <td>['comedy' 'romance']</td>\n",
              "      <td>BIANCA</td>\n",
              "      <td>Let's go.</td>\n",
              "    </tr>\n",
              "    <tr>\n",
              "      <th>3</th>\n",
              "      <td>u0</td>\n",
              "      <td>BIANCA</td>\n",
              "      <td>m0</td>\n",
              "      <td>10 things i hate about you</td>\n",
              "      <td>F</td>\n",
              "      <td>4</td>\n",
              "      <td>1999</td>\n",
              "      <td>6.9</td>\n",
              "      <td>62847.0</td>\n",
              "      <td>['comedy' 'romance']</td>\n",
              "      <td>BIANCA</td>\n",
              "      <td>Okay -- you're gonna need to learn how to lie.</td>\n",
              "    </tr>\n",
              "    <tr>\n",
              "      <th>4</th>\n",
              "      <td>u0</td>\n",
              "      <td>BIANCA</td>\n",
              "      <td>m0</td>\n",
              "      <td>10 things i hate about you</td>\n",
              "      <td>F</td>\n",
              "      <td>4</td>\n",
              "      <td>1999</td>\n",
              "      <td>6.9</td>\n",
              "      <td>62847.0</td>\n",
              "      <td>['comedy' 'romance']</td>\n",
              "      <td>BIANCA</td>\n",
              "      <td>Like my fear of wearing pastels?</td>\n",
              "    </tr>\n",
              "  </tbody>\n",
              "</table>\n",
              "</div>"
            ],
            "text/plain": [
              "  chId chName_x mId                       mName gender  posCredits  mYear  \\\n",
              "0   u0   BIANCA  m0  10 things i hate about you      F           4   1999   \n",
              "1   u0   BIANCA  m0  10 things i hate about you      F           4   1999   \n",
              "2   u0   BIANCA  m0  10 things i hate about you      F           4   1999   \n",
              "3   u0   BIANCA  m0  10 things i hate about you      F           4   1999   \n",
              "4   u0   BIANCA  m0  10 things i hate about you      F           4   1999   \n",
              "\n",
              "   mRating   mVotes                mGenre chName_y  \\\n",
              "0      6.9  62847.0  ['comedy' 'romance']   BIANCA   \n",
              "1      6.9  62847.0  ['comedy' 'romance']   BIANCA   \n",
              "2      6.9  62847.0  ['comedy' 'romance']   BIANCA   \n",
              "3      6.9  62847.0  ['comedy' 'romance']   BIANCA   \n",
              "4      6.9  62847.0  ['comedy' 'romance']   BIANCA   \n",
              "\n",
              "                                           chLine  \n",
              "0                                    They do not!  \n",
              "1                                      I hope so.  \n",
              "2                                       Let's go.  \n",
              "3  Okay -- you're gonna need to learn how to lie.  \n",
              "4                Like my fear of wearing pastels?  "
            ]
          },
          "execution_count": 966,
          "metadata": {},
          "output_type": "execute_result"
        }
      ],
      "source": [
        "df = detailed_characters_df.merge(lines_df_mod, on=['chId', 'mId'], how='inner')\n",
        "df.head()"
      ]
    },
    {
      "cell_type": "code",
      "execution_count": 967,
      "metadata": {},
      "outputs": [
        {
          "name": "stdout",
          "output_type": "stream",
          "text": [
            "Rows with mismatched chName_x and chName_y:\n",
            "Empty DataFrame\n",
            "Columns: [chId, chName_x, mId, mName, gender, posCredits, mYear, mRating, mVotes, mGenre, chName_y, chLine]\n",
            "Index: []\n"
          ]
        }
      ],
      "source": [
        "# Filter rows where chName_x does not match chName_y\n",
        "mismatched_names_df = df[df['chName_x'] != df['chName_y']]\n",
        "\n",
        "# Display the rows with mismatched names\n",
        "print(\"Rows with mismatched chName_x and chName_y:\")\n",
        "print(mismatched_names_df)"
      ]
    },
    {
      "cell_type": "code",
      "execution_count": 968,
      "metadata": {},
      "outputs": [
        {
          "data": {
            "text/html": [
              "<div>\n",
              "<style scoped>\n",
              "    .dataframe tbody tr th:only-of-type {\n",
              "        vertical-align: middle;\n",
              "    }\n",
              "\n",
              "    .dataframe tbody tr th {\n",
              "        vertical-align: top;\n",
              "    }\n",
              "\n",
              "    .dataframe thead th {\n",
              "        text-align: right;\n",
              "    }\n",
              "</style>\n",
              "<table border=\"1\" class=\"dataframe\">\n",
              "  <thead>\n",
              "    <tr style=\"text-align: right;\">\n",
              "      <th></th>\n",
              "      <th>chId</th>\n",
              "      <th>mId</th>\n",
              "      <th>mName</th>\n",
              "      <th>gender</th>\n",
              "      <th>posCredits</th>\n",
              "      <th>mYear</th>\n",
              "      <th>mRating</th>\n",
              "      <th>mVotes</th>\n",
              "      <th>mGenre</th>\n",
              "      <th>chLine</th>\n",
              "      <th>chName</th>\n",
              "    </tr>\n",
              "  </thead>\n",
              "  <tbody>\n",
              "    <tr>\n",
              "      <th>0</th>\n",
              "      <td>u0</td>\n",
              "      <td>m0</td>\n",
              "      <td>10 things i hate about you</td>\n",
              "      <td>F</td>\n",
              "      <td>4</td>\n",
              "      <td>1999</td>\n",
              "      <td>6.9</td>\n",
              "      <td>62847.0</td>\n",
              "      <td>['comedy' 'romance']</td>\n",
              "      <td>They do not!</td>\n",
              "      <td>BIANCA</td>\n",
              "    </tr>\n",
              "    <tr>\n",
              "      <th>1</th>\n",
              "      <td>u0</td>\n",
              "      <td>m0</td>\n",
              "      <td>10 things i hate about you</td>\n",
              "      <td>F</td>\n",
              "      <td>4</td>\n",
              "      <td>1999</td>\n",
              "      <td>6.9</td>\n",
              "      <td>62847.0</td>\n",
              "      <td>['comedy' 'romance']</td>\n",
              "      <td>I hope so.</td>\n",
              "      <td>BIANCA</td>\n",
              "    </tr>\n",
              "    <tr>\n",
              "      <th>2</th>\n",
              "      <td>u0</td>\n",
              "      <td>m0</td>\n",
              "      <td>10 things i hate about you</td>\n",
              "      <td>F</td>\n",
              "      <td>4</td>\n",
              "      <td>1999</td>\n",
              "      <td>6.9</td>\n",
              "      <td>62847.0</td>\n",
              "      <td>['comedy' 'romance']</td>\n",
              "      <td>Let's go.</td>\n",
              "      <td>BIANCA</td>\n",
              "    </tr>\n",
              "    <tr>\n",
              "      <th>3</th>\n",
              "      <td>u0</td>\n",
              "      <td>m0</td>\n",
              "      <td>10 things i hate about you</td>\n",
              "      <td>F</td>\n",
              "      <td>4</td>\n",
              "      <td>1999</td>\n",
              "      <td>6.9</td>\n",
              "      <td>62847.0</td>\n",
              "      <td>['comedy' 'romance']</td>\n",
              "      <td>Okay -- you're gonna need to learn how to lie.</td>\n",
              "      <td>BIANCA</td>\n",
              "    </tr>\n",
              "    <tr>\n",
              "      <th>4</th>\n",
              "      <td>u0</td>\n",
              "      <td>m0</td>\n",
              "      <td>10 things i hate about you</td>\n",
              "      <td>F</td>\n",
              "      <td>4</td>\n",
              "      <td>1999</td>\n",
              "      <td>6.9</td>\n",
              "      <td>62847.0</td>\n",
              "      <td>['comedy' 'romance']</td>\n",
              "      <td>Like my fear of wearing pastels?</td>\n",
              "      <td>BIANCA</td>\n",
              "    </tr>\n",
              "  </tbody>\n",
              "</table>\n",
              "</div>"
            ],
            "text/plain": [
              "  chId mId                       mName gender  posCredits  mYear  mRating  \\\n",
              "0   u0  m0  10 things i hate about you      F           4   1999      6.9   \n",
              "1   u0  m0  10 things i hate about you      F           4   1999      6.9   \n",
              "2   u0  m0  10 things i hate about you      F           4   1999      6.9   \n",
              "3   u0  m0  10 things i hate about you      F           4   1999      6.9   \n",
              "4   u0  m0  10 things i hate about you      F           4   1999      6.9   \n",
              "\n",
              "    mVotes                mGenre  \\\n",
              "0  62847.0  ['comedy' 'romance']   \n",
              "1  62847.0  ['comedy' 'romance']   \n",
              "2  62847.0  ['comedy' 'romance']   \n",
              "3  62847.0  ['comedy' 'romance']   \n",
              "4  62847.0  ['comedy' 'romance']   \n",
              "\n",
              "                                           chLine  chName  \n",
              "0                                    They do not!  BIANCA  \n",
              "1                                      I hope so.  BIANCA  \n",
              "2                                       Let's go.  BIANCA  \n",
              "3  Okay -- you're gonna need to learn how to lie.  BIANCA  \n",
              "4                Like my fear of wearing pastels?  BIANCA  "
            ]
          },
          "execution_count": 968,
          "metadata": {},
          "output_type": "execute_result"
        }
      ],
      "source": [
        "df['chName'] = df['chName_x']\n",
        "df = df.drop(['chName_y','chName_x'], axis=1)\n",
        "df.head()"
      ]
    },
    {
      "cell_type": "code",
      "execution_count": 969,
      "metadata": {},
      "outputs": [
        {
          "name": "stdout",
          "output_type": "stream",
          "text": [
            "chId          0.0\n",
            "mId           0.0\n",
            "mName         0.0\n",
            "gender        0.0\n",
            "posCredits    0.0\n",
            "mYear         0.0\n",
            "mRating       0.0\n",
            "mVotes        0.0\n",
            "mGenre        0.0\n",
            "chLine        0.0\n",
            "chName        0.0\n",
            "dtype: float64\n"
          ]
        }
      ],
      "source": [
        "nan_percentage = (df.isna().mean() * 100).round(2)\n",
        "print(nan_percentage)"
      ]
    },
    {
      "cell_type": "code",
      "execution_count": 970,
      "metadata": {},
      "outputs": [
        {
          "name": "stdout",
          "output_type": "stream",
          "text": [
            "Total Number Of Duplicates:  0\n"
          ]
        },
        {
          "data": {
            "text/plain": [
              "(224203, 11)"
            ]
          },
          "execution_count": 970,
          "metadata": {},
          "output_type": "execute_result"
        }
      ],
      "source": [
        "# Remove duplicate rows\n",
        "duplicate_counts = df.duplicated().sum()\n",
        "print(\"Total Number Of Duplicates: \", duplicate_counts)\n",
        "if duplicate_counts > 0:\n",
        "   df = df.drop_duplicates()\n",
        "df.shape"
      ]
    },
    {
      "cell_type": "code",
      "execution_count": 971,
      "metadata": {},
      "outputs": [],
      "source": [
        "##Get the number of unique dialogues spoken by each characters.\n",
        "df['dialoguesCount'] = df.groupby(['chId', 'mId'])['chLine'].transform('count')\n",
        "\n",
        "##Get the number of characters per dialogue\n",
        "df['charCountPerDialogue'] = df.chLine.str.len()\n",
        "\n",
        "##Get the number of words per dialogue\n",
        "df['wordCountPerDialogue'] = df.chLine.str.count(' ') + 1"
      ]
    },
    {
      "cell_type": "code",
      "execution_count": 972,
      "metadata": {},
      "outputs": [
        {
          "data": {
            "text/html": [
              "<div>\n",
              "<style scoped>\n",
              "    .dataframe tbody tr th:only-of-type {\n",
              "        vertical-align: middle;\n",
              "    }\n",
              "\n",
              "    .dataframe tbody tr th {\n",
              "        vertical-align: top;\n",
              "    }\n",
              "\n",
              "    .dataframe thead th {\n",
              "        text-align: right;\n",
              "    }\n",
              "</style>\n",
              "<table border=\"1\" class=\"dataframe\">\n",
              "  <thead>\n",
              "    <tr style=\"text-align: right;\">\n",
              "      <th></th>\n",
              "      <th>chId</th>\n",
              "      <th>mId</th>\n",
              "      <th>mName</th>\n",
              "      <th>gender</th>\n",
              "      <th>posCredits</th>\n",
              "      <th>mYear</th>\n",
              "      <th>mRating</th>\n",
              "      <th>mVotes</th>\n",
              "      <th>mGenre</th>\n",
              "      <th>chLine</th>\n",
              "      <th>chName</th>\n",
              "      <th>dialoguesCount</th>\n",
              "      <th>charCountPerDialogue</th>\n",
              "      <th>wordCountPerDialogue</th>\n",
              "    </tr>\n",
              "  </thead>\n",
              "  <tbody>\n",
              "    <tr>\n",
              "      <th>0</th>\n",
              "      <td>u0</td>\n",
              "      <td>m0</td>\n",
              "      <td>10 things i hate about you</td>\n",
              "      <td>F</td>\n",
              "      <td>4</td>\n",
              "      <td>1999</td>\n",
              "      <td>6.9</td>\n",
              "      <td>62847.0</td>\n",
              "      <td>['comedy' 'romance']</td>\n",
              "      <td>They do not!</td>\n",
              "      <td>BIANCA</td>\n",
              "      <td>92</td>\n",
              "      <td>12</td>\n",
              "      <td>3</td>\n",
              "    </tr>\n",
              "    <tr>\n",
              "      <th>1</th>\n",
              "      <td>u0</td>\n",
              "      <td>m0</td>\n",
              "      <td>10 things i hate about you</td>\n",
              "      <td>F</td>\n",
              "      <td>4</td>\n",
              "      <td>1999</td>\n",
              "      <td>6.9</td>\n",
              "      <td>62847.0</td>\n",
              "      <td>['comedy' 'romance']</td>\n",
              "      <td>I hope so.</td>\n",
              "      <td>BIANCA</td>\n",
              "      <td>92</td>\n",
              "      <td>10</td>\n",
              "      <td>3</td>\n",
              "    </tr>\n",
              "    <tr>\n",
              "      <th>2</th>\n",
              "      <td>u0</td>\n",
              "      <td>m0</td>\n",
              "      <td>10 things i hate about you</td>\n",
              "      <td>F</td>\n",
              "      <td>4</td>\n",
              "      <td>1999</td>\n",
              "      <td>6.9</td>\n",
              "      <td>62847.0</td>\n",
              "      <td>['comedy' 'romance']</td>\n",
              "      <td>Let's go.</td>\n",
              "      <td>BIANCA</td>\n",
              "      <td>92</td>\n",
              "      <td>9</td>\n",
              "      <td>2</td>\n",
              "    </tr>\n",
              "    <tr>\n",
              "      <th>3</th>\n",
              "      <td>u0</td>\n",
              "      <td>m0</td>\n",
              "      <td>10 things i hate about you</td>\n",
              "      <td>F</td>\n",
              "      <td>4</td>\n",
              "      <td>1999</td>\n",
              "      <td>6.9</td>\n",
              "      <td>62847.0</td>\n",
              "      <td>['comedy' 'romance']</td>\n",
              "      <td>Okay -- you're gonna need to learn how to lie.</td>\n",
              "      <td>BIANCA</td>\n",
              "      <td>92</td>\n",
              "      <td>46</td>\n",
              "      <td>10</td>\n",
              "    </tr>\n",
              "    <tr>\n",
              "      <th>4</th>\n",
              "      <td>u0</td>\n",
              "      <td>m0</td>\n",
              "      <td>10 things i hate about you</td>\n",
              "      <td>F</td>\n",
              "      <td>4</td>\n",
              "      <td>1999</td>\n",
              "      <td>6.9</td>\n",
              "      <td>62847.0</td>\n",
              "      <td>['comedy' 'romance']</td>\n",
              "      <td>Like my fear of wearing pastels?</td>\n",
              "      <td>BIANCA</td>\n",
              "      <td>92</td>\n",
              "      <td>32</td>\n",
              "      <td>6</td>\n",
              "    </tr>\n",
              "  </tbody>\n",
              "</table>\n",
              "</div>"
            ],
            "text/plain": [
              "  chId mId                       mName gender  posCredits  mYear  mRating  \\\n",
              "0   u0  m0  10 things i hate about you      F           4   1999      6.9   \n",
              "1   u0  m0  10 things i hate about you      F           4   1999      6.9   \n",
              "2   u0  m0  10 things i hate about you      F           4   1999      6.9   \n",
              "3   u0  m0  10 things i hate about you      F           4   1999      6.9   \n",
              "4   u0  m0  10 things i hate about you      F           4   1999      6.9   \n",
              "\n",
              "    mVotes                mGenre  \\\n",
              "0  62847.0  ['comedy' 'romance']   \n",
              "1  62847.0  ['comedy' 'romance']   \n",
              "2  62847.0  ['comedy' 'romance']   \n",
              "3  62847.0  ['comedy' 'romance']   \n",
              "4  62847.0  ['comedy' 'romance']   \n",
              "\n",
              "                                           chLine  chName  dialoguesCount  \\\n",
              "0                                    They do not!  BIANCA              92   \n",
              "1                                      I hope so.  BIANCA              92   \n",
              "2                                       Let's go.  BIANCA              92   \n",
              "3  Okay -- you're gonna need to learn how to lie.  BIANCA              92   \n",
              "4                Like my fear of wearing pastels?  BIANCA              92   \n",
              "\n",
              "   charCountPerDialogue  wordCountPerDialogue  \n",
              "0                    12                     3  \n",
              "1                    10                     3  \n",
              "2                     9                     2  \n",
              "3                    46                    10  \n",
              "4                    32                     6  "
            ]
          },
          "execution_count": 972,
          "metadata": {},
          "output_type": "execute_result"
        }
      ],
      "source": [
        "df.head()"
      ]
    }
  ],
  "metadata": {
    "colab": {
      "provenance": []
    },
    "kernelspec": {
      "display_name": "Python 3",
      "name": "python3"
    },
    "language_info": {
      "codemirror_mode": {
        "name": "ipython",
        "version": 3
      },
      "file_extension": ".py",
      "mimetype": "text/x-python",
      "name": "python",
      "nbconvert_exporter": "python",
      "pygments_lexer": "ipython3",
      "version": "3.11.5"
    }
  },
  "nbformat": 4,
  "nbformat_minor": 0
}
